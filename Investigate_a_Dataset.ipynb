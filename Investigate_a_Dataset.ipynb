{
  "cells": [
    {
      "cell_type": "markdown",
      "metadata": {
        "id": "Y5ZFtodajpI3"
      },
      "source": [
        "\n",
        "\n",
        "# Project: Investigate a Dataset  [No Show Appointments]\n",
        "## Table of Contents\n",
        "<ul>\n",
        "<li><a href=\"#intro\">Introduction</a></li>\n",
        "<li><a href=\"#wrangling\">Data Wrangling</a></li>\n",
        "<li><a href=\"#eda\">Exploratory Data Analysis</a></li>\n",
        "<li><a href=\"#conclusions\">Conclusions</a></li>\n",
        "</ul>"
      ]
    },
    {
      "cell_type": "markdown",
      "metadata": {
        "id": "SIDOlGgZjpJP"
      },
      "source": [
        "<a id='intro'></a>\n",
        "# Introduction ☑\n",
        "\n",
        "> A person makes a doctor appointment, receives all the instructions and no-show. Who to blame?\n",
        "If this help you studying or working, please don´t forget to upvote :). Reference to Joni Hoppen and Aquarela Advanced Analytics Aquarela . Data Content is 110.527 medical appointments its 14 associated variables (characteristics). The most important one if the patient show-up or no-show to the appointment. Variable names are self-explanatory, if you have doubts, just let me know!\n",
        "\n",
        "> For More Information about Dataset : https://www.kaggle.com/joniarroba/noshowappointments\n",
        "\n"
      ]
    },
    {
      "cell_type": "markdown",
      "source": [
        " ## Data Columns ⚡\n",
        "> 1. PatientId : Identification of a patient\n",
        "2. AppointmentID : Identification of each appointment\n",
        "3. Gender : Male or Female . Female is the greater proportion, woman takes way more care of they health in comparison to man.\n",
        "4. -DataMarcacaoConsulta : The day of the actuall appointment, when they have to visit the doctor.\n",
        "5. DataAgendamento : The day someone called or registered the appointment, this is before appointment of course.\n",
        "6.  Age : How old is the patient.\n",
        "7.  Neighbourhood : Where the appointment takes place.\n",
        "8. Scholarship : True of False . Observation, this is a broad topic, consider reading this article https://en.wikipedia.org/wiki/Bolsa_Fam%C3%ADlia\n",
        "9.  Hipertension : True or False\n",
        "10. Diabetes : True or False\n",
        "11.  Alcoholism : True or False\n",
        "12. Handcap : True or False\n",
        "13. SMS_received : 1 or more messages sent to the patient.\n",
        "14. No-show : True or False."
      ],
      "metadata": {
        "id": "aD40FhCEuM9V"
      }
    },
    {
      "cell_type": "markdown",
      "source": [
        "## Questions For Analysis ☯\n",
        ">1.   Q1 : Does People Show-Up or No-Show to Appointments ?\n",
        "2.   Q2 : Does Males Showed up to Appointments more than Females ?\n",
        "3.   Q3 : What is Age Average for Diseases ?\n",
        "4.   Q4 : Who is more Alcoholism , Males or Females ?\n",
        "5.   Q5 : How Many Waiting Days for Appointments in the Most ?\n",
        "6.   Q6 : What is Average of Waiting Days for Patients with Chronic Diseases  ?\n",
        "7.   Q7 : Are Patients with Scholarship eager to Show up to Appointments  ?\n",
        "8.  Q8 : Is there Relation between Receiving SMS and Showing up to Appointments ?\n",
        "9.  Q9 : What is Age of Patients who Shown up to Appointments ?\n",
        "10. Q10 :  What are the Five Most Neighborhoods where Patients are Shown up to Appointments ?\n",
        "11. Q11 : Did Day affect on Showing up to Appointments ?"
      ],
      "metadata": {
        "id": "Mh8kS9w1ug-o"
      }
    },
    {
      "cell_type": "markdown",
      "source": [
        "## Import Libraries ♦"
      ],
      "metadata": {
        "id": "DTk93GUqxHXV"
      }
    },
    {
      "cell_type": "code",
      "execution_count": null,
      "metadata": {
        "collapsed": true,
        "id": "gQ9rkMKzjpJT"
      },
      "outputs": [],
      "source": [
        "import pandas as pd\n",
        "import matplotlib.pyplot as plt\n",
        "import seaborn as sns\n",
        "import numpy  as np\n",
        "%matplotlib inline\n",
        "sns.set(rc={'figure.figsize':(15, 8)}, font_scale=1.3)"
      ]
    },
    {
      "cell_type": "markdown",
      "metadata": {
        "id": "KgwjS3VvjpJa"
      },
      "source": [
        "<a id='wrangling'></a>\n",
        "# Data Wrangling ⛔\n",
        "1. Accessing Data\n",
        "2. Data Cleaning"
      ]
    },
    {
      "cell_type": "markdown",
      "source": [
        "## Accessing Data ✴"
      ],
      "metadata": {
        "id": "0gk-D4rXXFq7"
      }
    },
    {
      "cell_type": "code",
      "execution_count": null,
      "metadata": {
        "collapsed": true,
        "id": "OwMuCa0yjpJd"
      },
      "outputs": [],
      "source": [
        "df = pd.read_csv('KaggleV2-May-2016.csv')"
      ]
    },
    {
      "cell_type": "code",
      "source": [
        "df"
      ],
      "metadata": {
        "colab": {
          "base_uri": "https://localhost:8080/",
          "height": 678
        },
        "id": "g-zMig1tOhyH",
        "outputId": "ad5d78e0-4a1a-4847-ea1c-2ac8d28adea0"
      },
      "execution_count": null,
      "outputs": [
        {
          "output_type": "execute_result",
          "data": {
            "text/html": [
              "\n",
              "  <div id=\"df-b10ee088-bd9c-4291-8a86-d1280ba808c0\">\n",
              "    <div class=\"colab-df-container\">\n",
              "      <div>\n",
              "<style scoped>\n",
              "    .dataframe tbody tr th:only-of-type {\n",
              "        vertical-align: middle;\n",
              "    }\n",
              "\n",
              "    .dataframe tbody tr th {\n",
              "        vertical-align: top;\n",
              "    }\n",
              "\n",
              "    .dataframe thead th {\n",
              "        text-align: right;\n",
              "    }\n",
              "</style>\n",
              "<table border=\"1\" class=\"dataframe\">\n",
              "  <thead>\n",
              "    <tr style=\"text-align: right;\">\n",
              "      <th></th>\n",
              "      <th>PatientId</th>\n",
              "      <th>AppointmentID</th>\n",
              "      <th>Gender</th>\n",
              "      <th>ScheduledDay</th>\n",
              "      <th>AppointmentDay</th>\n",
              "      <th>Age</th>\n",
              "      <th>Neighbourhood</th>\n",
              "      <th>Scholarship</th>\n",
              "      <th>Hipertension</th>\n",
              "      <th>Diabetes</th>\n",
              "      <th>Alcoholism</th>\n",
              "      <th>Handcap</th>\n",
              "      <th>SMS_received</th>\n",
              "      <th>No-show</th>\n",
              "    </tr>\n",
              "  </thead>\n",
              "  <tbody>\n",
              "    <tr>\n",
              "      <th>0</th>\n",
              "      <td>2.987250e+13</td>\n",
              "      <td>5642903</td>\n",
              "      <td>F</td>\n",
              "      <td>2016-04-29T18:38:08Z</td>\n",
              "      <td>2016-04-29T00:00:00Z</td>\n",
              "      <td>62</td>\n",
              "      <td>JARDIM DA PENHA</td>\n",
              "      <td>0</td>\n",
              "      <td>1</td>\n",
              "      <td>0</td>\n",
              "      <td>0</td>\n",
              "      <td>0</td>\n",
              "      <td>0</td>\n",
              "      <td>No</td>\n",
              "    </tr>\n",
              "    <tr>\n",
              "      <th>1</th>\n",
              "      <td>5.589978e+14</td>\n",
              "      <td>5642503</td>\n",
              "      <td>M</td>\n",
              "      <td>2016-04-29T16:08:27Z</td>\n",
              "      <td>2016-04-29T00:00:00Z</td>\n",
              "      <td>56</td>\n",
              "      <td>JARDIM DA PENHA</td>\n",
              "      <td>0</td>\n",
              "      <td>0</td>\n",
              "      <td>0</td>\n",
              "      <td>0</td>\n",
              "      <td>0</td>\n",
              "      <td>0</td>\n",
              "      <td>No</td>\n",
              "    </tr>\n",
              "    <tr>\n",
              "      <th>2</th>\n",
              "      <td>4.262962e+12</td>\n",
              "      <td>5642549</td>\n",
              "      <td>F</td>\n",
              "      <td>2016-04-29T16:19:04Z</td>\n",
              "      <td>2016-04-29T00:00:00Z</td>\n",
              "      <td>62</td>\n",
              "      <td>MATA DA PRAIA</td>\n",
              "      <td>0</td>\n",
              "      <td>0</td>\n",
              "      <td>0</td>\n",
              "      <td>0</td>\n",
              "      <td>0</td>\n",
              "      <td>0</td>\n",
              "      <td>No</td>\n",
              "    </tr>\n",
              "    <tr>\n",
              "      <th>3</th>\n",
              "      <td>8.679512e+11</td>\n",
              "      <td>5642828</td>\n",
              "      <td>F</td>\n",
              "      <td>2016-04-29T17:29:31Z</td>\n",
              "      <td>2016-04-29T00:00:00Z</td>\n",
              "      <td>8</td>\n",
              "      <td>PONTAL DE CAMBURI</td>\n",
              "      <td>0</td>\n",
              "      <td>0</td>\n",
              "      <td>0</td>\n",
              "      <td>0</td>\n",
              "      <td>0</td>\n",
              "      <td>0</td>\n",
              "      <td>No</td>\n",
              "    </tr>\n",
              "    <tr>\n",
              "      <th>4</th>\n",
              "      <td>8.841186e+12</td>\n",
              "      <td>5642494</td>\n",
              "      <td>F</td>\n",
              "      <td>2016-04-29T16:07:23Z</td>\n",
              "      <td>2016-04-29T00:00:00Z</td>\n",
              "      <td>56</td>\n",
              "      <td>JARDIM DA PENHA</td>\n",
              "      <td>0</td>\n",
              "      <td>1</td>\n",
              "      <td>1</td>\n",
              "      <td>0</td>\n",
              "      <td>0</td>\n",
              "      <td>0</td>\n",
              "      <td>No</td>\n",
              "    </tr>\n",
              "    <tr>\n",
              "      <th>...</th>\n",
              "      <td>...</td>\n",
              "      <td>...</td>\n",
              "      <td>...</td>\n",
              "      <td>...</td>\n",
              "      <td>...</td>\n",
              "      <td>...</td>\n",
              "      <td>...</td>\n",
              "      <td>...</td>\n",
              "      <td>...</td>\n",
              "      <td>...</td>\n",
              "      <td>...</td>\n",
              "      <td>...</td>\n",
              "      <td>...</td>\n",
              "      <td>...</td>\n",
              "    </tr>\n",
              "    <tr>\n",
              "      <th>110522</th>\n",
              "      <td>2.572134e+12</td>\n",
              "      <td>5651768</td>\n",
              "      <td>F</td>\n",
              "      <td>2016-05-03T09:15:35Z</td>\n",
              "      <td>2016-06-07T00:00:00Z</td>\n",
              "      <td>56</td>\n",
              "      <td>MARIA ORTIZ</td>\n",
              "      <td>0</td>\n",
              "      <td>0</td>\n",
              "      <td>0</td>\n",
              "      <td>0</td>\n",
              "      <td>0</td>\n",
              "      <td>1</td>\n",
              "      <td>No</td>\n",
              "    </tr>\n",
              "    <tr>\n",
              "      <th>110523</th>\n",
              "      <td>3.596266e+12</td>\n",
              "      <td>5650093</td>\n",
              "      <td>F</td>\n",
              "      <td>2016-05-03T07:27:33Z</td>\n",
              "      <td>2016-06-07T00:00:00Z</td>\n",
              "      <td>51</td>\n",
              "      <td>MARIA ORTIZ</td>\n",
              "      <td>0</td>\n",
              "      <td>0</td>\n",
              "      <td>0</td>\n",
              "      <td>0</td>\n",
              "      <td>0</td>\n",
              "      <td>1</td>\n",
              "      <td>No</td>\n",
              "    </tr>\n",
              "    <tr>\n",
              "      <th>110524</th>\n",
              "      <td>1.557663e+13</td>\n",
              "      <td>5630692</td>\n",
              "      <td>F</td>\n",
              "      <td>2016-04-27T16:03:52Z</td>\n",
              "      <td>2016-06-07T00:00:00Z</td>\n",
              "      <td>21</td>\n",
              "      <td>MARIA ORTIZ</td>\n",
              "      <td>0</td>\n",
              "      <td>0</td>\n",
              "      <td>0</td>\n",
              "      <td>0</td>\n",
              "      <td>0</td>\n",
              "      <td>1</td>\n",
              "      <td>No</td>\n",
              "    </tr>\n",
              "    <tr>\n",
              "      <th>110525</th>\n",
              "      <td>9.213493e+13</td>\n",
              "      <td>5630323</td>\n",
              "      <td>F</td>\n",
              "      <td>2016-04-27T15:09:23Z</td>\n",
              "      <td>2016-06-07T00:00:00Z</td>\n",
              "      <td>38</td>\n",
              "      <td>MARIA ORTIZ</td>\n",
              "      <td>0</td>\n",
              "      <td>0</td>\n",
              "      <td>0</td>\n",
              "      <td>0</td>\n",
              "      <td>0</td>\n",
              "      <td>1</td>\n",
              "      <td>No</td>\n",
              "    </tr>\n",
              "    <tr>\n",
              "      <th>110526</th>\n",
              "      <td>3.775115e+14</td>\n",
              "      <td>5629448</td>\n",
              "      <td>F</td>\n",
              "      <td>2016-04-27T13:30:56Z</td>\n",
              "      <td>2016-06-07T00:00:00Z</td>\n",
              "      <td>54</td>\n",
              "      <td>MARIA ORTIZ</td>\n",
              "      <td>0</td>\n",
              "      <td>0</td>\n",
              "      <td>0</td>\n",
              "      <td>0</td>\n",
              "      <td>0</td>\n",
              "      <td>1</td>\n",
              "      <td>No</td>\n",
              "    </tr>\n",
              "  </tbody>\n",
              "</table>\n",
              "<p>110527 rows × 14 columns</p>\n",
              "</div>\n",
              "      <button class=\"colab-df-convert\" onclick=\"convertToInteractive('df-b10ee088-bd9c-4291-8a86-d1280ba808c0')\"\n",
              "              title=\"Convert this dataframe to an interactive table.\"\n",
              "              style=\"display:none;\">\n",
              "        \n",
              "  <svg xmlns=\"http://www.w3.org/2000/svg\" height=\"24px\"viewBox=\"0 0 24 24\"\n",
              "       width=\"24px\">\n",
              "    <path d=\"M0 0h24v24H0V0z\" fill=\"none\"/>\n",
              "    <path d=\"M18.56 5.44l.94 2.06.94-2.06 2.06-.94-2.06-.94-.94-2.06-.94 2.06-2.06.94zm-11 1L8.5 8.5l.94-2.06 2.06-.94-2.06-.94L8.5 2.5l-.94 2.06-2.06.94zm10 10l.94 2.06.94-2.06 2.06-.94-2.06-.94-.94-2.06-.94 2.06-2.06.94z\"/><path d=\"M17.41 7.96l-1.37-1.37c-.4-.4-.92-.59-1.43-.59-.52 0-1.04.2-1.43.59L10.3 9.45l-7.72 7.72c-.78.78-.78 2.05 0 2.83L4 21.41c.39.39.9.59 1.41.59.51 0 1.02-.2 1.41-.59l7.78-7.78 2.81-2.81c.8-.78.8-2.07 0-2.86zM5.41 20L4 18.59l7.72-7.72 1.47 1.35L5.41 20z\"/>\n",
              "  </svg>\n",
              "      </button>\n",
              "      \n",
              "  <style>\n",
              "    .colab-df-container {\n",
              "      display:flex;\n",
              "      flex-wrap:wrap;\n",
              "      gap: 12px;\n",
              "    }\n",
              "\n",
              "    .colab-df-convert {\n",
              "      background-color: #E8F0FE;\n",
              "      border: none;\n",
              "      border-radius: 50%;\n",
              "      cursor: pointer;\n",
              "      display: none;\n",
              "      fill: #1967D2;\n",
              "      height: 32px;\n",
              "      padding: 0 0 0 0;\n",
              "      width: 32px;\n",
              "    }\n",
              "\n",
              "    .colab-df-convert:hover {\n",
              "      background-color: #E2EBFA;\n",
              "      box-shadow: 0px 1px 2px rgba(60, 64, 67, 0.3), 0px 1px 3px 1px rgba(60, 64, 67, 0.15);\n",
              "      fill: #174EA6;\n",
              "    }\n",
              "\n",
              "    [theme=dark] .colab-df-convert {\n",
              "      background-color: #3B4455;\n",
              "      fill: #D2E3FC;\n",
              "    }\n",
              "\n",
              "    [theme=dark] .colab-df-convert:hover {\n",
              "      background-color: #434B5C;\n",
              "      box-shadow: 0px 1px 3px 1px rgba(0, 0, 0, 0.15);\n",
              "      filter: drop-shadow(0px 1px 2px rgba(0, 0, 0, 0.3));\n",
              "      fill: #FFFFFF;\n",
              "    }\n",
              "  </style>\n",
              "\n",
              "      <script>\n",
              "        const buttonEl =\n",
              "          document.querySelector('#df-b10ee088-bd9c-4291-8a86-d1280ba808c0 button.colab-df-convert');\n",
              "        buttonEl.style.display =\n",
              "          google.colab.kernel.accessAllowed ? 'block' : 'none';\n",
              "\n",
              "        async function convertToInteractive(key) {\n",
              "          const element = document.querySelector('#df-b10ee088-bd9c-4291-8a86-d1280ba808c0');\n",
              "          const dataTable =\n",
              "            await google.colab.kernel.invokeFunction('convertToInteractive',\n",
              "                                                     [key], {});\n",
              "          if (!dataTable) return;\n",
              "\n",
              "          const docLinkHtml = 'Like what you see? Visit the ' +\n",
              "            '<a target=\"_blank\" href=https://colab.research.google.com/notebooks/data_table.ipynb>data table notebook</a>'\n",
              "            + ' to learn more about interactive tables.';\n",
              "          element.innerHTML = '';\n",
              "          dataTable['output_type'] = 'display_data';\n",
              "          await google.colab.output.renderOutput(dataTable, element);\n",
              "          const docLink = document.createElement('div');\n",
              "          docLink.innerHTML = docLinkHtml;\n",
              "          element.appendChild(docLink);\n",
              "        }\n",
              "      </script>\n",
              "    </div>\n",
              "  </div>\n",
              "  "
            ],
            "text/plain": [
              "           PatientId  AppointmentID Gender          ScheduledDay  \\\n",
              "0       2.987250e+13        5642903      F  2016-04-29T18:38:08Z   \n",
              "1       5.589978e+14        5642503      M  2016-04-29T16:08:27Z   \n",
              "2       4.262962e+12        5642549      F  2016-04-29T16:19:04Z   \n",
              "3       8.679512e+11        5642828      F  2016-04-29T17:29:31Z   \n",
              "4       8.841186e+12        5642494      F  2016-04-29T16:07:23Z   \n",
              "...              ...            ...    ...                   ...   \n",
              "110522  2.572134e+12        5651768      F  2016-05-03T09:15:35Z   \n",
              "110523  3.596266e+12        5650093      F  2016-05-03T07:27:33Z   \n",
              "110524  1.557663e+13        5630692      F  2016-04-27T16:03:52Z   \n",
              "110525  9.213493e+13        5630323      F  2016-04-27T15:09:23Z   \n",
              "110526  3.775115e+14        5629448      F  2016-04-27T13:30:56Z   \n",
              "\n",
              "              AppointmentDay  Age      Neighbourhood  Scholarship  \\\n",
              "0       2016-04-29T00:00:00Z   62    JARDIM DA PENHA            0   \n",
              "1       2016-04-29T00:00:00Z   56    JARDIM DA PENHA            0   \n",
              "2       2016-04-29T00:00:00Z   62      MATA DA PRAIA            0   \n",
              "3       2016-04-29T00:00:00Z    8  PONTAL DE CAMBURI            0   \n",
              "4       2016-04-29T00:00:00Z   56    JARDIM DA PENHA            0   \n",
              "...                      ...  ...                ...          ...   \n",
              "110522  2016-06-07T00:00:00Z   56        MARIA ORTIZ            0   \n",
              "110523  2016-06-07T00:00:00Z   51        MARIA ORTIZ            0   \n",
              "110524  2016-06-07T00:00:00Z   21        MARIA ORTIZ            0   \n",
              "110525  2016-06-07T00:00:00Z   38        MARIA ORTIZ            0   \n",
              "110526  2016-06-07T00:00:00Z   54        MARIA ORTIZ            0   \n",
              "\n",
              "        Hipertension  Diabetes  Alcoholism  Handcap  SMS_received No-show  \n",
              "0                  1         0           0        0             0      No  \n",
              "1                  0         0           0        0             0      No  \n",
              "2                  0         0           0        0             0      No  \n",
              "3                  0         0           0        0             0      No  \n",
              "4                  1         1           0        0             0      No  \n",
              "...              ...       ...         ...      ...           ...     ...  \n",
              "110522             0         0           0        0             1      No  \n",
              "110523             0         0           0        0             1      No  \n",
              "110524             0         0           0        0             1      No  \n",
              "110525             0         0           0        0             1      No  \n",
              "110526             0         0           0        0             1      No  \n",
              "\n",
              "[110527 rows x 14 columns]"
            ]
          },
          "metadata": {},
          "execution_count": 3
        }
      ]
    },
    {
      "cell_type": "code",
      "source": [
        "df.sample(6)"
      ],
      "metadata": {
        "colab": {
          "base_uri": "https://localhost:8080/",
          "height": 423
        },
        "id": "UFT9ndxcP9ZM",
        "outputId": "5fc0e29a-b501-4eb9-d8ac-cb3d40274d85"
      },
      "execution_count": null,
      "outputs": [
        {
          "output_type": "execute_result",
          "data": {
            "text/html": [
              "\n",
              "  <div id=\"df-08f2302f-e815-4e4b-9a4d-1cc79a41c83f\">\n",
              "    <div class=\"colab-df-container\">\n",
              "      <div>\n",
              "<style scoped>\n",
              "    .dataframe tbody tr th:only-of-type {\n",
              "        vertical-align: middle;\n",
              "    }\n",
              "\n",
              "    .dataframe tbody tr th {\n",
              "        vertical-align: top;\n",
              "    }\n",
              "\n",
              "    .dataframe thead th {\n",
              "        text-align: right;\n",
              "    }\n",
              "</style>\n",
              "<table border=\"1\" class=\"dataframe\">\n",
              "  <thead>\n",
              "    <tr style=\"text-align: right;\">\n",
              "      <th></th>\n",
              "      <th>PatientId</th>\n",
              "      <th>AppointmentID</th>\n",
              "      <th>Gender</th>\n",
              "      <th>ScheduledDay</th>\n",
              "      <th>AppointmentDay</th>\n",
              "      <th>Age</th>\n",
              "      <th>Neighbourhood</th>\n",
              "      <th>Scholarship</th>\n",
              "      <th>Hipertension</th>\n",
              "      <th>Diabetes</th>\n",
              "      <th>Alcoholism</th>\n",
              "      <th>Handcap</th>\n",
              "      <th>SMS_received</th>\n",
              "      <th>No-show</th>\n",
              "    </tr>\n",
              "  </thead>\n",
              "  <tbody>\n",
              "    <tr>\n",
              "      <th>17271</th>\n",
              "      <td>3.415817e+14</td>\n",
              "      <td>5651507</td>\n",
              "      <td>F</td>\n",
              "      <td>2016-05-03T08:55:26Z</td>\n",
              "      <td>2016-05-11T00:00:00Z</td>\n",
              "      <td>45</td>\n",
              "      <td>SÃO PEDRO</td>\n",
              "      <td>0</td>\n",
              "      <td>0</td>\n",
              "      <td>0</td>\n",
              "      <td>0</td>\n",
              "      <td>0</td>\n",
              "      <td>1</td>\n",
              "      <td>No</td>\n",
              "    </tr>\n",
              "    <tr>\n",
              "      <th>49817</th>\n",
              "      <td>9.356935e+12</td>\n",
              "      <td>5565023</td>\n",
              "      <td>M</td>\n",
              "      <td>2016-04-11T08:23:15Z</td>\n",
              "      <td>2016-05-04T00:00:00Z</td>\n",
              "      <td>25</td>\n",
              "      <td>JARDIM DA PENHA</td>\n",
              "      <td>0</td>\n",
              "      <td>0</td>\n",
              "      <td>0</td>\n",
              "      <td>0</td>\n",
              "      <td>0</td>\n",
              "      <td>1</td>\n",
              "      <td>No</td>\n",
              "    </tr>\n",
              "    <tr>\n",
              "      <th>25458</th>\n",
              "      <td>7.522369e+12</td>\n",
              "      <td>5672010</td>\n",
              "      <td>M</td>\n",
              "      <td>2016-05-09T07:31:16Z</td>\n",
              "      <td>2016-05-09T00:00:00Z</td>\n",
              "      <td>55</td>\n",
              "      <td>CARATOÍRA</td>\n",
              "      <td>0</td>\n",
              "      <td>1</td>\n",
              "      <td>1</td>\n",
              "      <td>1</td>\n",
              "      <td>0</td>\n",
              "      <td>0</td>\n",
              "      <td>No</td>\n",
              "    </tr>\n",
              "    <tr>\n",
              "      <th>3448</th>\n",
              "      <td>3.191761e+12</td>\n",
              "      <td>5680041</td>\n",
              "      <td>M</td>\n",
              "      <td>2016-05-10T11:00:02Z</td>\n",
              "      <td>2016-05-16T00:00:00Z</td>\n",
              "      <td>6</td>\n",
              "      <td>RESISTÊNCIA</td>\n",
              "      <td>0</td>\n",
              "      <td>0</td>\n",
              "      <td>0</td>\n",
              "      <td>0</td>\n",
              "      <td>0</td>\n",
              "      <td>0</td>\n",
              "      <td>Yes</td>\n",
              "    </tr>\n",
              "    <tr>\n",
              "      <th>97327</th>\n",
              "      <td>9.577218e+13</td>\n",
              "      <td>5747977</td>\n",
              "      <td>M</td>\n",
              "      <td>2016-05-30T16:46:28Z</td>\n",
              "      <td>2016-06-03T00:00:00Z</td>\n",
              "      <td>53</td>\n",
              "      <td>MARUÍPE</td>\n",
              "      <td>0</td>\n",
              "      <td>0</td>\n",
              "      <td>0</td>\n",
              "      <td>0</td>\n",
              "      <td>0</td>\n",
              "      <td>1</td>\n",
              "      <td>No</td>\n",
              "    </tr>\n",
              "    <tr>\n",
              "      <th>43845</th>\n",
              "      <td>9.486638e+13</td>\n",
              "      <td>5641678</td>\n",
              "      <td>F</td>\n",
              "      <td>2016-04-29T14:07:49Z</td>\n",
              "      <td>2016-05-13T00:00:00Z</td>\n",
              "      <td>1</td>\n",
              "      <td>CONSOLAÇÃO</td>\n",
              "      <td>0</td>\n",
              "      <td>0</td>\n",
              "      <td>0</td>\n",
              "      <td>0</td>\n",
              "      <td>0</td>\n",
              "      <td>0</td>\n",
              "      <td>Yes</td>\n",
              "    </tr>\n",
              "  </tbody>\n",
              "</table>\n",
              "</div>\n",
              "      <button class=\"colab-df-convert\" onclick=\"convertToInteractive('df-08f2302f-e815-4e4b-9a4d-1cc79a41c83f')\"\n",
              "              title=\"Convert this dataframe to an interactive table.\"\n",
              "              style=\"display:none;\">\n",
              "        \n",
              "  <svg xmlns=\"http://www.w3.org/2000/svg\" height=\"24px\"viewBox=\"0 0 24 24\"\n",
              "       width=\"24px\">\n",
              "    <path d=\"M0 0h24v24H0V0z\" fill=\"none\"/>\n",
              "    <path d=\"M18.56 5.44l.94 2.06.94-2.06 2.06-.94-2.06-.94-.94-2.06-.94 2.06-2.06.94zm-11 1L8.5 8.5l.94-2.06 2.06-.94-2.06-.94L8.5 2.5l-.94 2.06-2.06.94zm10 10l.94 2.06.94-2.06 2.06-.94-2.06-.94-.94-2.06-.94 2.06-2.06.94z\"/><path d=\"M17.41 7.96l-1.37-1.37c-.4-.4-.92-.59-1.43-.59-.52 0-1.04.2-1.43.59L10.3 9.45l-7.72 7.72c-.78.78-.78 2.05 0 2.83L4 21.41c.39.39.9.59 1.41.59.51 0 1.02-.2 1.41-.59l7.78-7.78 2.81-2.81c.8-.78.8-2.07 0-2.86zM5.41 20L4 18.59l7.72-7.72 1.47 1.35L5.41 20z\"/>\n",
              "  </svg>\n",
              "      </button>\n",
              "      \n",
              "  <style>\n",
              "    .colab-df-container {\n",
              "      display:flex;\n",
              "      flex-wrap:wrap;\n",
              "      gap: 12px;\n",
              "    }\n",
              "\n",
              "    .colab-df-convert {\n",
              "      background-color: #E8F0FE;\n",
              "      border: none;\n",
              "      border-radius: 50%;\n",
              "      cursor: pointer;\n",
              "      display: none;\n",
              "      fill: #1967D2;\n",
              "      height: 32px;\n",
              "      padding: 0 0 0 0;\n",
              "      width: 32px;\n",
              "    }\n",
              "\n",
              "    .colab-df-convert:hover {\n",
              "      background-color: #E2EBFA;\n",
              "      box-shadow: 0px 1px 2px rgba(60, 64, 67, 0.3), 0px 1px 3px 1px rgba(60, 64, 67, 0.15);\n",
              "      fill: #174EA6;\n",
              "    }\n",
              "\n",
              "    [theme=dark] .colab-df-convert {\n",
              "      background-color: #3B4455;\n",
              "      fill: #D2E3FC;\n",
              "    }\n",
              "\n",
              "    [theme=dark] .colab-df-convert:hover {\n",
              "      background-color: #434B5C;\n",
              "      box-shadow: 0px 1px 3px 1px rgba(0, 0, 0, 0.15);\n",
              "      filter: drop-shadow(0px 1px 2px rgba(0, 0, 0, 0.3));\n",
              "      fill: #FFFFFF;\n",
              "    }\n",
              "  </style>\n",
              "\n",
              "      <script>\n",
              "        const buttonEl =\n",
              "          document.querySelector('#df-08f2302f-e815-4e4b-9a4d-1cc79a41c83f button.colab-df-convert');\n",
              "        buttonEl.style.display =\n",
              "          google.colab.kernel.accessAllowed ? 'block' : 'none';\n",
              "\n",
              "        async function convertToInteractive(key) {\n",
              "          const element = document.querySelector('#df-08f2302f-e815-4e4b-9a4d-1cc79a41c83f');\n",
              "          const dataTable =\n",
              "            await google.colab.kernel.invokeFunction('convertToInteractive',\n",
              "                                                     [key], {});\n",
              "          if (!dataTable) return;\n",
              "\n",
              "          const docLinkHtml = 'Like what you see? Visit the ' +\n",
              "            '<a target=\"_blank\" href=https://colab.research.google.com/notebooks/data_table.ipynb>data table notebook</a>'\n",
              "            + ' to learn more about interactive tables.';\n",
              "          element.innerHTML = '';\n",
              "          dataTable['output_type'] = 'display_data';\n",
              "          await google.colab.output.renderOutput(dataTable, element);\n",
              "          const docLink = document.createElement('div');\n",
              "          docLink.innerHTML = docLinkHtml;\n",
              "          element.appendChild(docLink);\n",
              "        }\n",
              "      </script>\n",
              "    </div>\n",
              "  </div>\n",
              "  "
            ],
            "text/plain": [
              "          PatientId  AppointmentID Gender          ScheduledDay  \\\n",
              "17271  3.415817e+14        5651507      F  2016-05-03T08:55:26Z   \n",
              "49817  9.356935e+12        5565023      M  2016-04-11T08:23:15Z   \n",
              "25458  7.522369e+12        5672010      M  2016-05-09T07:31:16Z   \n",
              "3448   3.191761e+12        5680041      M  2016-05-10T11:00:02Z   \n",
              "97327  9.577218e+13        5747977      M  2016-05-30T16:46:28Z   \n",
              "43845  9.486638e+13        5641678      F  2016-04-29T14:07:49Z   \n",
              "\n",
              "             AppointmentDay  Age    Neighbourhood  Scholarship  Hipertension  \\\n",
              "17271  2016-05-11T00:00:00Z   45        SÃO PEDRO            0             0   \n",
              "49817  2016-05-04T00:00:00Z   25  JARDIM DA PENHA            0             0   \n",
              "25458  2016-05-09T00:00:00Z   55        CARATOÍRA            0             1   \n",
              "3448   2016-05-16T00:00:00Z    6      RESISTÊNCIA            0             0   \n",
              "97327  2016-06-03T00:00:00Z   53          MARUÍPE            0             0   \n",
              "43845  2016-05-13T00:00:00Z    1       CONSOLAÇÃO            0             0   \n",
              "\n",
              "       Diabetes  Alcoholism  Handcap  SMS_received No-show  \n",
              "17271         0           0        0             1      No  \n",
              "49817         0           0        0             1      No  \n",
              "25458         1           1        0             0      No  \n",
              "3448          0           0        0             0     Yes  \n",
              "97327         0           0        0             1      No  \n",
              "43845         0           0        0             0     Yes  "
            ]
          },
          "metadata": {},
          "execution_count": 4
        }
      ]
    },
    {
      "cell_type": "code",
      "source": [
        "df.head()"
      ],
      "metadata": {
        "colab": {
          "base_uri": "https://localhost:8080/",
          "height": 374
        },
        "id": "8tlWPZcGP_pU",
        "outputId": "1fc2702e-00e9-4f48-826c-8491f5068db8"
      },
      "execution_count": null,
      "outputs": [
        {
          "output_type": "execute_result",
          "data": {
            "text/html": [
              "\n",
              "  <div id=\"df-ba4314ab-ec6b-46fc-8ef7-3e53bb55954c\">\n",
              "    <div class=\"colab-df-container\">\n",
              "      <div>\n",
              "<style scoped>\n",
              "    .dataframe tbody tr th:only-of-type {\n",
              "        vertical-align: middle;\n",
              "    }\n",
              "\n",
              "    .dataframe tbody tr th {\n",
              "        vertical-align: top;\n",
              "    }\n",
              "\n",
              "    .dataframe thead th {\n",
              "        text-align: right;\n",
              "    }\n",
              "</style>\n",
              "<table border=\"1\" class=\"dataframe\">\n",
              "  <thead>\n",
              "    <tr style=\"text-align: right;\">\n",
              "      <th></th>\n",
              "      <th>PatientId</th>\n",
              "      <th>AppointmentID</th>\n",
              "      <th>Gender</th>\n",
              "      <th>ScheduledDay</th>\n",
              "      <th>AppointmentDay</th>\n",
              "      <th>Age</th>\n",
              "      <th>Neighbourhood</th>\n",
              "      <th>Scholarship</th>\n",
              "      <th>Hipertension</th>\n",
              "      <th>Diabetes</th>\n",
              "      <th>Alcoholism</th>\n",
              "      <th>Handcap</th>\n",
              "      <th>SMS_received</th>\n",
              "      <th>No-show</th>\n",
              "    </tr>\n",
              "  </thead>\n",
              "  <tbody>\n",
              "    <tr>\n",
              "      <th>0</th>\n",
              "      <td>2.987250e+13</td>\n",
              "      <td>5642903</td>\n",
              "      <td>F</td>\n",
              "      <td>2016-04-29T18:38:08Z</td>\n",
              "      <td>2016-04-29T00:00:00Z</td>\n",
              "      <td>62</td>\n",
              "      <td>JARDIM DA PENHA</td>\n",
              "      <td>0</td>\n",
              "      <td>1</td>\n",
              "      <td>0</td>\n",
              "      <td>0</td>\n",
              "      <td>0</td>\n",
              "      <td>0</td>\n",
              "      <td>No</td>\n",
              "    </tr>\n",
              "    <tr>\n",
              "      <th>1</th>\n",
              "      <td>5.589978e+14</td>\n",
              "      <td>5642503</td>\n",
              "      <td>M</td>\n",
              "      <td>2016-04-29T16:08:27Z</td>\n",
              "      <td>2016-04-29T00:00:00Z</td>\n",
              "      <td>56</td>\n",
              "      <td>JARDIM DA PENHA</td>\n",
              "      <td>0</td>\n",
              "      <td>0</td>\n",
              "      <td>0</td>\n",
              "      <td>0</td>\n",
              "      <td>0</td>\n",
              "      <td>0</td>\n",
              "      <td>No</td>\n",
              "    </tr>\n",
              "    <tr>\n",
              "      <th>2</th>\n",
              "      <td>4.262962e+12</td>\n",
              "      <td>5642549</td>\n",
              "      <td>F</td>\n",
              "      <td>2016-04-29T16:19:04Z</td>\n",
              "      <td>2016-04-29T00:00:00Z</td>\n",
              "      <td>62</td>\n",
              "      <td>MATA DA PRAIA</td>\n",
              "      <td>0</td>\n",
              "      <td>0</td>\n",
              "      <td>0</td>\n",
              "      <td>0</td>\n",
              "      <td>0</td>\n",
              "      <td>0</td>\n",
              "      <td>No</td>\n",
              "    </tr>\n",
              "    <tr>\n",
              "      <th>3</th>\n",
              "      <td>8.679512e+11</td>\n",
              "      <td>5642828</td>\n",
              "      <td>F</td>\n",
              "      <td>2016-04-29T17:29:31Z</td>\n",
              "      <td>2016-04-29T00:00:00Z</td>\n",
              "      <td>8</td>\n",
              "      <td>PONTAL DE CAMBURI</td>\n",
              "      <td>0</td>\n",
              "      <td>0</td>\n",
              "      <td>0</td>\n",
              "      <td>0</td>\n",
              "      <td>0</td>\n",
              "      <td>0</td>\n",
              "      <td>No</td>\n",
              "    </tr>\n",
              "    <tr>\n",
              "      <th>4</th>\n",
              "      <td>8.841186e+12</td>\n",
              "      <td>5642494</td>\n",
              "      <td>F</td>\n",
              "      <td>2016-04-29T16:07:23Z</td>\n",
              "      <td>2016-04-29T00:00:00Z</td>\n",
              "      <td>56</td>\n",
              "      <td>JARDIM DA PENHA</td>\n",
              "      <td>0</td>\n",
              "      <td>1</td>\n",
              "      <td>1</td>\n",
              "      <td>0</td>\n",
              "      <td>0</td>\n",
              "      <td>0</td>\n",
              "      <td>No</td>\n",
              "    </tr>\n",
              "  </tbody>\n",
              "</table>\n",
              "</div>\n",
              "      <button class=\"colab-df-convert\" onclick=\"convertToInteractive('df-ba4314ab-ec6b-46fc-8ef7-3e53bb55954c')\"\n",
              "              title=\"Convert this dataframe to an interactive table.\"\n",
              "              style=\"display:none;\">\n",
              "        \n",
              "  <svg xmlns=\"http://www.w3.org/2000/svg\" height=\"24px\"viewBox=\"0 0 24 24\"\n",
              "       width=\"24px\">\n",
              "    <path d=\"M0 0h24v24H0V0z\" fill=\"none\"/>\n",
              "    <path d=\"M18.56 5.44l.94 2.06.94-2.06 2.06-.94-2.06-.94-.94-2.06-.94 2.06-2.06.94zm-11 1L8.5 8.5l.94-2.06 2.06-.94-2.06-.94L8.5 2.5l-.94 2.06-2.06.94zm10 10l.94 2.06.94-2.06 2.06-.94-2.06-.94-.94-2.06-.94 2.06-2.06.94z\"/><path d=\"M17.41 7.96l-1.37-1.37c-.4-.4-.92-.59-1.43-.59-.52 0-1.04.2-1.43.59L10.3 9.45l-7.72 7.72c-.78.78-.78 2.05 0 2.83L4 21.41c.39.39.9.59 1.41.59.51 0 1.02-.2 1.41-.59l7.78-7.78 2.81-2.81c.8-.78.8-2.07 0-2.86zM5.41 20L4 18.59l7.72-7.72 1.47 1.35L5.41 20z\"/>\n",
              "  </svg>\n",
              "      </button>\n",
              "      \n",
              "  <style>\n",
              "    .colab-df-container {\n",
              "      display:flex;\n",
              "      flex-wrap:wrap;\n",
              "      gap: 12px;\n",
              "    }\n",
              "\n",
              "    .colab-df-convert {\n",
              "      background-color: #E8F0FE;\n",
              "      border: none;\n",
              "      border-radius: 50%;\n",
              "      cursor: pointer;\n",
              "      display: none;\n",
              "      fill: #1967D2;\n",
              "      height: 32px;\n",
              "      padding: 0 0 0 0;\n",
              "      width: 32px;\n",
              "    }\n",
              "\n",
              "    .colab-df-convert:hover {\n",
              "      background-color: #E2EBFA;\n",
              "      box-shadow: 0px 1px 2px rgba(60, 64, 67, 0.3), 0px 1px 3px 1px rgba(60, 64, 67, 0.15);\n",
              "      fill: #174EA6;\n",
              "    }\n",
              "\n",
              "    [theme=dark] .colab-df-convert {\n",
              "      background-color: #3B4455;\n",
              "      fill: #D2E3FC;\n",
              "    }\n",
              "\n",
              "    [theme=dark] .colab-df-convert:hover {\n",
              "      background-color: #434B5C;\n",
              "      box-shadow: 0px 1px 3px 1px rgba(0, 0, 0, 0.15);\n",
              "      filter: drop-shadow(0px 1px 2px rgba(0, 0, 0, 0.3));\n",
              "      fill: #FFFFFF;\n",
              "    }\n",
              "  </style>\n",
              "\n",
              "      <script>\n",
              "        const buttonEl =\n",
              "          document.querySelector('#df-ba4314ab-ec6b-46fc-8ef7-3e53bb55954c button.colab-df-convert');\n",
              "        buttonEl.style.display =\n",
              "          google.colab.kernel.accessAllowed ? 'block' : 'none';\n",
              "\n",
              "        async function convertToInteractive(key) {\n",
              "          const element = document.querySelector('#df-ba4314ab-ec6b-46fc-8ef7-3e53bb55954c');\n",
              "          const dataTable =\n",
              "            await google.colab.kernel.invokeFunction('convertToInteractive',\n",
              "                                                     [key], {});\n",
              "          if (!dataTable) return;\n",
              "\n",
              "          const docLinkHtml = 'Like what you see? Visit the ' +\n",
              "            '<a target=\"_blank\" href=https://colab.research.google.com/notebooks/data_table.ipynb>data table notebook</a>'\n",
              "            + ' to learn more about interactive tables.';\n",
              "          element.innerHTML = '';\n",
              "          dataTable['output_type'] = 'display_data';\n",
              "          await google.colab.output.renderOutput(dataTable, element);\n",
              "          const docLink = document.createElement('div');\n",
              "          docLink.innerHTML = docLinkHtml;\n",
              "          element.appendChild(docLink);\n",
              "        }\n",
              "      </script>\n",
              "    </div>\n",
              "  </div>\n",
              "  "
            ],
            "text/plain": [
              "      PatientId  AppointmentID Gender          ScheduledDay  \\\n",
              "0  2.987250e+13        5642903      F  2016-04-29T18:38:08Z   \n",
              "1  5.589978e+14        5642503      M  2016-04-29T16:08:27Z   \n",
              "2  4.262962e+12        5642549      F  2016-04-29T16:19:04Z   \n",
              "3  8.679512e+11        5642828      F  2016-04-29T17:29:31Z   \n",
              "4  8.841186e+12        5642494      F  2016-04-29T16:07:23Z   \n",
              "\n",
              "         AppointmentDay  Age      Neighbourhood  Scholarship  Hipertension  \\\n",
              "0  2016-04-29T00:00:00Z   62    JARDIM DA PENHA            0             1   \n",
              "1  2016-04-29T00:00:00Z   56    JARDIM DA PENHA            0             0   \n",
              "2  2016-04-29T00:00:00Z   62      MATA DA PRAIA            0             0   \n",
              "3  2016-04-29T00:00:00Z    8  PONTAL DE CAMBURI            0             0   \n",
              "4  2016-04-29T00:00:00Z   56    JARDIM DA PENHA            0             1   \n",
              "\n",
              "   Diabetes  Alcoholism  Handcap  SMS_received No-show  \n",
              "0         0           0        0             0      No  \n",
              "1         0           0        0             0      No  \n",
              "2         0           0        0             0      No  \n",
              "3         0           0        0             0      No  \n",
              "4         1           0        0             0      No  "
            ]
          },
          "metadata": {},
          "execution_count": 5
        }
      ]
    },
    {
      "cell_type": "code",
      "source": [
        "df.tail()"
      ],
      "metadata": {
        "colab": {
          "base_uri": "https://localhost:8080/",
          "height": 374
        },
        "id": "vHJDAaIeQBBn",
        "outputId": "c3e2d3b1-df66-4f98-d72e-b2f17a1a0621"
      },
      "execution_count": null,
      "outputs": [
        {
          "output_type": "execute_result",
          "data": {
            "text/html": [
              "\n",
              "  <div id=\"df-b6fa21cd-0679-491c-9adb-f86fd6d5f6e6\">\n",
              "    <div class=\"colab-df-container\">\n",
              "      <div>\n",
              "<style scoped>\n",
              "    .dataframe tbody tr th:only-of-type {\n",
              "        vertical-align: middle;\n",
              "    }\n",
              "\n",
              "    .dataframe tbody tr th {\n",
              "        vertical-align: top;\n",
              "    }\n",
              "\n",
              "    .dataframe thead th {\n",
              "        text-align: right;\n",
              "    }\n",
              "</style>\n",
              "<table border=\"1\" class=\"dataframe\">\n",
              "  <thead>\n",
              "    <tr style=\"text-align: right;\">\n",
              "      <th></th>\n",
              "      <th>PatientId</th>\n",
              "      <th>AppointmentID</th>\n",
              "      <th>Gender</th>\n",
              "      <th>ScheduledDay</th>\n",
              "      <th>AppointmentDay</th>\n",
              "      <th>Age</th>\n",
              "      <th>Neighbourhood</th>\n",
              "      <th>Scholarship</th>\n",
              "      <th>Hipertension</th>\n",
              "      <th>Diabetes</th>\n",
              "      <th>Alcoholism</th>\n",
              "      <th>Handcap</th>\n",
              "      <th>SMS_received</th>\n",
              "      <th>No-show</th>\n",
              "    </tr>\n",
              "  </thead>\n",
              "  <tbody>\n",
              "    <tr>\n",
              "      <th>110522</th>\n",
              "      <td>2.572134e+12</td>\n",
              "      <td>5651768</td>\n",
              "      <td>F</td>\n",
              "      <td>2016-05-03T09:15:35Z</td>\n",
              "      <td>2016-06-07T00:00:00Z</td>\n",
              "      <td>56</td>\n",
              "      <td>MARIA ORTIZ</td>\n",
              "      <td>0</td>\n",
              "      <td>0</td>\n",
              "      <td>0</td>\n",
              "      <td>0</td>\n",
              "      <td>0</td>\n",
              "      <td>1</td>\n",
              "      <td>No</td>\n",
              "    </tr>\n",
              "    <tr>\n",
              "      <th>110523</th>\n",
              "      <td>3.596266e+12</td>\n",
              "      <td>5650093</td>\n",
              "      <td>F</td>\n",
              "      <td>2016-05-03T07:27:33Z</td>\n",
              "      <td>2016-06-07T00:00:00Z</td>\n",
              "      <td>51</td>\n",
              "      <td>MARIA ORTIZ</td>\n",
              "      <td>0</td>\n",
              "      <td>0</td>\n",
              "      <td>0</td>\n",
              "      <td>0</td>\n",
              "      <td>0</td>\n",
              "      <td>1</td>\n",
              "      <td>No</td>\n",
              "    </tr>\n",
              "    <tr>\n",
              "      <th>110524</th>\n",
              "      <td>1.557663e+13</td>\n",
              "      <td>5630692</td>\n",
              "      <td>F</td>\n",
              "      <td>2016-04-27T16:03:52Z</td>\n",
              "      <td>2016-06-07T00:00:00Z</td>\n",
              "      <td>21</td>\n",
              "      <td>MARIA ORTIZ</td>\n",
              "      <td>0</td>\n",
              "      <td>0</td>\n",
              "      <td>0</td>\n",
              "      <td>0</td>\n",
              "      <td>0</td>\n",
              "      <td>1</td>\n",
              "      <td>No</td>\n",
              "    </tr>\n",
              "    <tr>\n",
              "      <th>110525</th>\n",
              "      <td>9.213493e+13</td>\n",
              "      <td>5630323</td>\n",
              "      <td>F</td>\n",
              "      <td>2016-04-27T15:09:23Z</td>\n",
              "      <td>2016-06-07T00:00:00Z</td>\n",
              "      <td>38</td>\n",
              "      <td>MARIA ORTIZ</td>\n",
              "      <td>0</td>\n",
              "      <td>0</td>\n",
              "      <td>0</td>\n",
              "      <td>0</td>\n",
              "      <td>0</td>\n",
              "      <td>1</td>\n",
              "      <td>No</td>\n",
              "    </tr>\n",
              "    <tr>\n",
              "      <th>110526</th>\n",
              "      <td>3.775115e+14</td>\n",
              "      <td>5629448</td>\n",
              "      <td>F</td>\n",
              "      <td>2016-04-27T13:30:56Z</td>\n",
              "      <td>2016-06-07T00:00:00Z</td>\n",
              "      <td>54</td>\n",
              "      <td>MARIA ORTIZ</td>\n",
              "      <td>0</td>\n",
              "      <td>0</td>\n",
              "      <td>0</td>\n",
              "      <td>0</td>\n",
              "      <td>0</td>\n",
              "      <td>1</td>\n",
              "      <td>No</td>\n",
              "    </tr>\n",
              "  </tbody>\n",
              "</table>\n",
              "</div>\n",
              "      <button class=\"colab-df-convert\" onclick=\"convertToInteractive('df-b6fa21cd-0679-491c-9adb-f86fd6d5f6e6')\"\n",
              "              title=\"Convert this dataframe to an interactive table.\"\n",
              "              style=\"display:none;\">\n",
              "        \n",
              "  <svg xmlns=\"http://www.w3.org/2000/svg\" height=\"24px\"viewBox=\"0 0 24 24\"\n",
              "       width=\"24px\">\n",
              "    <path d=\"M0 0h24v24H0V0z\" fill=\"none\"/>\n",
              "    <path d=\"M18.56 5.44l.94 2.06.94-2.06 2.06-.94-2.06-.94-.94-2.06-.94 2.06-2.06.94zm-11 1L8.5 8.5l.94-2.06 2.06-.94-2.06-.94L8.5 2.5l-.94 2.06-2.06.94zm10 10l.94 2.06.94-2.06 2.06-.94-2.06-.94-.94-2.06-.94 2.06-2.06.94z\"/><path d=\"M17.41 7.96l-1.37-1.37c-.4-.4-.92-.59-1.43-.59-.52 0-1.04.2-1.43.59L10.3 9.45l-7.72 7.72c-.78.78-.78 2.05 0 2.83L4 21.41c.39.39.9.59 1.41.59.51 0 1.02-.2 1.41-.59l7.78-7.78 2.81-2.81c.8-.78.8-2.07 0-2.86zM5.41 20L4 18.59l7.72-7.72 1.47 1.35L5.41 20z\"/>\n",
              "  </svg>\n",
              "      </button>\n",
              "      \n",
              "  <style>\n",
              "    .colab-df-container {\n",
              "      display:flex;\n",
              "      flex-wrap:wrap;\n",
              "      gap: 12px;\n",
              "    }\n",
              "\n",
              "    .colab-df-convert {\n",
              "      background-color: #E8F0FE;\n",
              "      border: none;\n",
              "      border-radius: 50%;\n",
              "      cursor: pointer;\n",
              "      display: none;\n",
              "      fill: #1967D2;\n",
              "      height: 32px;\n",
              "      padding: 0 0 0 0;\n",
              "      width: 32px;\n",
              "    }\n",
              "\n",
              "    .colab-df-convert:hover {\n",
              "      background-color: #E2EBFA;\n",
              "      box-shadow: 0px 1px 2px rgba(60, 64, 67, 0.3), 0px 1px 3px 1px rgba(60, 64, 67, 0.15);\n",
              "      fill: #174EA6;\n",
              "    }\n",
              "\n",
              "    [theme=dark] .colab-df-convert {\n",
              "      background-color: #3B4455;\n",
              "      fill: #D2E3FC;\n",
              "    }\n",
              "\n",
              "    [theme=dark] .colab-df-convert:hover {\n",
              "      background-color: #434B5C;\n",
              "      box-shadow: 0px 1px 3px 1px rgba(0, 0, 0, 0.15);\n",
              "      filter: drop-shadow(0px 1px 2px rgba(0, 0, 0, 0.3));\n",
              "      fill: #FFFFFF;\n",
              "    }\n",
              "  </style>\n",
              "\n",
              "      <script>\n",
              "        const buttonEl =\n",
              "          document.querySelector('#df-b6fa21cd-0679-491c-9adb-f86fd6d5f6e6 button.colab-df-convert');\n",
              "        buttonEl.style.display =\n",
              "          google.colab.kernel.accessAllowed ? 'block' : 'none';\n",
              "\n",
              "        async function convertToInteractive(key) {\n",
              "          const element = document.querySelector('#df-b6fa21cd-0679-491c-9adb-f86fd6d5f6e6');\n",
              "          const dataTable =\n",
              "            await google.colab.kernel.invokeFunction('convertToInteractive',\n",
              "                                                     [key], {});\n",
              "          if (!dataTable) return;\n",
              "\n",
              "          const docLinkHtml = 'Like what you see? Visit the ' +\n",
              "            '<a target=\"_blank\" href=https://colab.research.google.com/notebooks/data_table.ipynb>data table notebook</a>'\n",
              "            + ' to learn more about interactive tables.';\n",
              "          element.innerHTML = '';\n",
              "          dataTable['output_type'] = 'display_data';\n",
              "          await google.colab.output.renderOutput(dataTable, element);\n",
              "          const docLink = document.createElement('div');\n",
              "          docLink.innerHTML = docLinkHtml;\n",
              "          element.appendChild(docLink);\n",
              "        }\n",
              "      </script>\n",
              "    </div>\n",
              "  </div>\n",
              "  "
            ],
            "text/plain": [
              "           PatientId  AppointmentID Gender          ScheduledDay  \\\n",
              "110522  2.572134e+12        5651768      F  2016-05-03T09:15:35Z   \n",
              "110523  3.596266e+12        5650093      F  2016-05-03T07:27:33Z   \n",
              "110524  1.557663e+13        5630692      F  2016-04-27T16:03:52Z   \n",
              "110525  9.213493e+13        5630323      F  2016-04-27T15:09:23Z   \n",
              "110526  3.775115e+14        5629448      F  2016-04-27T13:30:56Z   \n",
              "\n",
              "              AppointmentDay  Age Neighbourhood  Scholarship  Hipertension  \\\n",
              "110522  2016-06-07T00:00:00Z   56   MARIA ORTIZ            0             0   \n",
              "110523  2016-06-07T00:00:00Z   51   MARIA ORTIZ            0             0   \n",
              "110524  2016-06-07T00:00:00Z   21   MARIA ORTIZ            0             0   \n",
              "110525  2016-06-07T00:00:00Z   38   MARIA ORTIZ            0             0   \n",
              "110526  2016-06-07T00:00:00Z   54   MARIA ORTIZ            0             0   \n",
              "\n",
              "        Diabetes  Alcoholism  Handcap  SMS_received No-show  \n",
              "110522         0           0        0             1      No  \n",
              "110523         0           0        0             1      No  \n",
              "110524         0           0        0             1      No  \n",
              "110525         0           0        0             1      No  \n",
              "110526         0           0        0             1      No  "
            ]
          },
          "metadata": {},
          "execution_count": 6
        }
      ]
    },
    {
      "cell_type": "code",
      "source": [
        "df.info()"
      ],
      "metadata": {
        "colab": {
          "base_uri": "https://localhost:8080/"
        },
        "id": "JAVfG6dwPnXV",
        "outputId": "066c2ade-66e9-473f-b283-14d9910bd1a6"
      },
      "execution_count": null,
      "outputs": [
        {
          "output_type": "stream",
          "name": "stdout",
          "text": [
            "<class 'pandas.core.frame.DataFrame'>\n",
            "RangeIndex: 110527 entries, 0 to 110526\n",
            "Data columns (total 14 columns):\n",
            " #   Column          Non-Null Count   Dtype  \n",
            "---  ------          --------------   -----  \n",
            " 0   PatientId       110527 non-null  float64\n",
            " 1   AppointmentID   110527 non-null  int64  \n",
            " 2   Gender          110527 non-null  object \n",
            " 3   ScheduledDay    110527 non-null  object \n",
            " 4   AppointmentDay  110527 non-null  object \n",
            " 5   Age             110527 non-null  int64  \n",
            " 6   Neighbourhood   110527 non-null  object \n",
            " 7   Scholarship     110527 non-null  int64  \n",
            " 8   Hipertension    110527 non-null  int64  \n",
            " 9   Diabetes        110527 non-null  int64  \n",
            " 10  Alcoholism      110527 non-null  int64  \n",
            " 11  Handcap         110527 non-null  int64  \n",
            " 12  SMS_received    110527 non-null  int64  \n",
            " 13  No-show         110527 non-null  object \n",
            "dtypes: float64(1), int64(8), object(5)\n",
            "memory usage: 11.8+ MB\n"
          ]
        }
      ]
    },
    {
      "cell_type": "code",
      "source": [
        "df.describe()"
      ],
      "metadata": {
        "colab": {
          "base_uri": "https://localhost:8080/",
          "height": 300
        },
        "id": "u5raU2nyPqZm",
        "outputId": "fb86a258-7764-455c-a77c-fdf92f109d9a"
      },
      "execution_count": null,
      "outputs": [
        {
          "output_type": "execute_result",
          "data": {
            "text/html": [
              "\n",
              "  <div id=\"df-5339d1be-45f9-4562-b441-98c3f6445a56\">\n",
              "    <div class=\"colab-df-container\">\n",
              "      <div>\n",
              "<style scoped>\n",
              "    .dataframe tbody tr th:only-of-type {\n",
              "        vertical-align: middle;\n",
              "    }\n",
              "\n",
              "    .dataframe tbody tr th {\n",
              "        vertical-align: top;\n",
              "    }\n",
              "\n",
              "    .dataframe thead th {\n",
              "        text-align: right;\n",
              "    }\n",
              "</style>\n",
              "<table border=\"1\" class=\"dataframe\">\n",
              "  <thead>\n",
              "    <tr style=\"text-align: right;\">\n",
              "      <th></th>\n",
              "      <th>PatientId</th>\n",
              "      <th>AppointmentID</th>\n",
              "      <th>Age</th>\n",
              "      <th>Scholarship</th>\n",
              "      <th>Hipertension</th>\n",
              "      <th>Diabetes</th>\n",
              "      <th>Alcoholism</th>\n",
              "      <th>Handcap</th>\n",
              "      <th>SMS_received</th>\n",
              "    </tr>\n",
              "  </thead>\n",
              "  <tbody>\n",
              "    <tr>\n",
              "      <th>count</th>\n",
              "      <td>1.105270e+05</td>\n",
              "      <td>1.105270e+05</td>\n",
              "      <td>110527.000000</td>\n",
              "      <td>110527.000000</td>\n",
              "      <td>110527.000000</td>\n",
              "      <td>110527.000000</td>\n",
              "      <td>110527.000000</td>\n",
              "      <td>110527.000000</td>\n",
              "      <td>110527.000000</td>\n",
              "    </tr>\n",
              "    <tr>\n",
              "      <th>mean</th>\n",
              "      <td>1.474963e+14</td>\n",
              "      <td>5.675305e+06</td>\n",
              "      <td>37.088874</td>\n",
              "      <td>0.098266</td>\n",
              "      <td>0.197246</td>\n",
              "      <td>0.071865</td>\n",
              "      <td>0.030400</td>\n",
              "      <td>0.022248</td>\n",
              "      <td>0.321026</td>\n",
              "    </tr>\n",
              "    <tr>\n",
              "      <th>std</th>\n",
              "      <td>2.560949e+14</td>\n",
              "      <td>7.129575e+04</td>\n",
              "      <td>23.110205</td>\n",
              "      <td>0.297675</td>\n",
              "      <td>0.397921</td>\n",
              "      <td>0.258265</td>\n",
              "      <td>0.171686</td>\n",
              "      <td>0.161543</td>\n",
              "      <td>0.466873</td>\n",
              "    </tr>\n",
              "    <tr>\n",
              "      <th>min</th>\n",
              "      <td>3.921784e+04</td>\n",
              "      <td>5.030230e+06</td>\n",
              "      <td>-1.000000</td>\n",
              "      <td>0.000000</td>\n",
              "      <td>0.000000</td>\n",
              "      <td>0.000000</td>\n",
              "      <td>0.000000</td>\n",
              "      <td>0.000000</td>\n",
              "      <td>0.000000</td>\n",
              "    </tr>\n",
              "    <tr>\n",
              "      <th>25%</th>\n",
              "      <td>4.172614e+12</td>\n",
              "      <td>5.640286e+06</td>\n",
              "      <td>18.000000</td>\n",
              "      <td>0.000000</td>\n",
              "      <td>0.000000</td>\n",
              "      <td>0.000000</td>\n",
              "      <td>0.000000</td>\n",
              "      <td>0.000000</td>\n",
              "      <td>0.000000</td>\n",
              "    </tr>\n",
              "    <tr>\n",
              "      <th>50%</th>\n",
              "      <td>3.173184e+13</td>\n",
              "      <td>5.680573e+06</td>\n",
              "      <td>37.000000</td>\n",
              "      <td>0.000000</td>\n",
              "      <td>0.000000</td>\n",
              "      <td>0.000000</td>\n",
              "      <td>0.000000</td>\n",
              "      <td>0.000000</td>\n",
              "      <td>0.000000</td>\n",
              "    </tr>\n",
              "    <tr>\n",
              "      <th>75%</th>\n",
              "      <td>9.439172e+13</td>\n",
              "      <td>5.725524e+06</td>\n",
              "      <td>55.000000</td>\n",
              "      <td>0.000000</td>\n",
              "      <td>0.000000</td>\n",
              "      <td>0.000000</td>\n",
              "      <td>0.000000</td>\n",
              "      <td>0.000000</td>\n",
              "      <td>1.000000</td>\n",
              "    </tr>\n",
              "    <tr>\n",
              "      <th>max</th>\n",
              "      <td>9.999816e+14</td>\n",
              "      <td>5.790484e+06</td>\n",
              "      <td>115.000000</td>\n",
              "      <td>1.000000</td>\n",
              "      <td>1.000000</td>\n",
              "      <td>1.000000</td>\n",
              "      <td>1.000000</td>\n",
              "      <td>4.000000</td>\n",
              "      <td>1.000000</td>\n",
              "    </tr>\n",
              "  </tbody>\n",
              "</table>\n",
              "</div>\n",
              "      <button class=\"colab-df-convert\" onclick=\"convertToInteractive('df-5339d1be-45f9-4562-b441-98c3f6445a56')\"\n",
              "              title=\"Convert this dataframe to an interactive table.\"\n",
              "              style=\"display:none;\">\n",
              "        \n",
              "  <svg xmlns=\"http://www.w3.org/2000/svg\" height=\"24px\"viewBox=\"0 0 24 24\"\n",
              "       width=\"24px\">\n",
              "    <path d=\"M0 0h24v24H0V0z\" fill=\"none\"/>\n",
              "    <path d=\"M18.56 5.44l.94 2.06.94-2.06 2.06-.94-2.06-.94-.94-2.06-.94 2.06-2.06.94zm-11 1L8.5 8.5l.94-2.06 2.06-.94-2.06-.94L8.5 2.5l-.94 2.06-2.06.94zm10 10l.94 2.06.94-2.06 2.06-.94-2.06-.94-.94-2.06-.94 2.06-2.06.94z\"/><path d=\"M17.41 7.96l-1.37-1.37c-.4-.4-.92-.59-1.43-.59-.52 0-1.04.2-1.43.59L10.3 9.45l-7.72 7.72c-.78.78-.78 2.05 0 2.83L4 21.41c.39.39.9.59 1.41.59.51 0 1.02-.2 1.41-.59l7.78-7.78 2.81-2.81c.8-.78.8-2.07 0-2.86zM5.41 20L4 18.59l7.72-7.72 1.47 1.35L5.41 20z\"/>\n",
              "  </svg>\n",
              "      </button>\n",
              "      \n",
              "  <style>\n",
              "    .colab-df-container {\n",
              "      display:flex;\n",
              "      flex-wrap:wrap;\n",
              "      gap: 12px;\n",
              "    }\n",
              "\n",
              "    .colab-df-convert {\n",
              "      background-color: #E8F0FE;\n",
              "      border: none;\n",
              "      border-radius: 50%;\n",
              "      cursor: pointer;\n",
              "      display: none;\n",
              "      fill: #1967D2;\n",
              "      height: 32px;\n",
              "      padding: 0 0 0 0;\n",
              "      width: 32px;\n",
              "    }\n",
              "\n",
              "    .colab-df-convert:hover {\n",
              "      background-color: #E2EBFA;\n",
              "      box-shadow: 0px 1px 2px rgba(60, 64, 67, 0.3), 0px 1px 3px 1px rgba(60, 64, 67, 0.15);\n",
              "      fill: #174EA6;\n",
              "    }\n",
              "\n",
              "    [theme=dark] .colab-df-convert {\n",
              "      background-color: #3B4455;\n",
              "      fill: #D2E3FC;\n",
              "    }\n",
              "\n",
              "    [theme=dark] .colab-df-convert:hover {\n",
              "      background-color: #434B5C;\n",
              "      box-shadow: 0px 1px 3px 1px rgba(0, 0, 0, 0.15);\n",
              "      filter: drop-shadow(0px 1px 2px rgba(0, 0, 0, 0.3));\n",
              "      fill: #FFFFFF;\n",
              "    }\n",
              "  </style>\n",
              "\n",
              "      <script>\n",
              "        const buttonEl =\n",
              "          document.querySelector('#df-5339d1be-45f9-4562-b441-98c3f6445a56 button.colab-df-convert');\n",
              "        buttonEl.style.display =\n",
              "          google.colab.kernel.accessAllowed ? 'block' : 'none';\n",
              "\n",
              "        async function convertToInteractive(key) {\n",
              "          const element = document.querySelector('#df-5339d1be-45f9-4562-b441-98c3f6445a56');\n",
              "          const dataTable =\n",
              "            await google.colab.kernel.invokeFunction('convertToInteractive',\n",
              "                                                     [key], {});\n",
              "          if (!dataTable) return;\n",
              "\n",
              "          const docLinkHtml = 'Like what you see? Visit the ' +\n",
              "            '<a target=\"_blank\" href=https://colab.research.google.com/notebooks/data_table.ipynb>data table notebook</a>'\n",
              "            + ' to learn more about interactive tables.';\n",
              "          element.innerHTML = '';\n",
              "          dataTable['output_type'] = 'display_data';\n",
              "          await google.colab.output.renderOutput(dataTable, element);\n",
              "          const docLink = document.createElement('div');\n",
              "          docLink.innerHTML = docLinkHtml;\n",
              "          element.appendChild(docLink);\n",
              "        }\n",
              "      </script>\n",
              "    </div>\n",
              "  </div>\n",
              "  "
            ],
            "text/plain": [
              "          PatientId  AppointmentID            Age    Scholarship  \\\n",
              "count  1.105270e+05   1.105270e+05  110527.000000  110527.000000   \n",
              "mean   1.474963e+14   5.675305e+06      37.088874       0.098266   \n",
              "std    2.560949e+14   7.129575e+04      23.110205       0.297675   \n",
              "min    3.921784e+04   5.030230e+06      -1.000000       0.000000   \n",
              "25%    4.172614e+12   5.640286e+06      18.000000       0.000000   \n",
              "50%    3.173184e+13   5.680573e+06      37.000000       0.000000   \n",
              "75%    9.439172e+13   5.725524e+06      55.000000       0.000000   \n",
              "max    9.999816e+14   5.790484e+06     115.000000       1.000000   \n",
              "\n",
              "        Hipertension       Diabetes     Alcoholism        Handcap  \\\n",
              "count  110527.000000  110527.000000  110527.000000  110527.000000   \n",
              "mean        0.197246       0.071865       0.030400       0.022248   \n",
              "std         0.397921       0.258265       0.171686       0.161543   \n",
              "min         0.000000       0.000000       0.000000       0.000000   \n",
              "25%         0.000000       0.000000       0.000000       0.000000   \n",
              "50%         0.000000       0.000000       0.000000       0.000000   \n",
              "75%         0.000000       0.000000       0.000000       0.000000   \n",
              "max         1.000000       1.000000       1.000000       4.000000   \n",
              "\n",
              "        SMS_received  \n",
              "count  110527.000000  \n",
              "mean        0.321026  \n",
              "std         0.466873  \n",
              "min         0.000000  \n",
              "25%         0.000000  \n",
              "50%         0.000000  \n",
              "75%         1.000000  \n",
              "max         1.000000  "
            ]
          },
          "metadata": {},
          "execution_count": 8
        }
      ]
    },
    {
      "cell_type": "code",
      "source": [
        "df.isnull().sum()"
      ],
      "metadata": {
        "colab": {
          "base_uri": "https://localhost:8080/"
        },
        "id": "5jDnUP9pPugT",
        "outputId": "fa5c1c8f-a0cb-42ce-fe5b-cbec68ce7a63"
      },
      "execution_count": null,
      "outputs": [
        {
          "output_type": "execute_result",
          "data": {
            "text/plain": [
              "PatientId         0\n",
              "AppointmentID     0\n",
              "Gender            0\n",
              "ScheduledDay      0\n",
              "AppointmentDay    0\n",
              "Age               0\n",
              "Neighbourhood     0\n",
              "Scholarship       0\n",
              "Hipertension      0\n",
              "Diabetes          0\n",
              "Alcoholism        0\n",
              "Handcap           0\n",
              "SMS_received      0\n",
              "No-show           0\n",
              "dtype: int64"
            ]
          },
          "metadata": {},
          "execution_count": 9
        }
      ]
    },
    {
      "cell_type": "code",
      "source": [
        "for col in df.columns :\n",
        "  print(\"Unique Values in \"+ col+\" Column\")\n",
        "  print('-'*100)\n",
        "  print(df[col].unique())\n",
        "  print('-'*100)\n"
      ],
      "metadata": {
        "colab": {
          "base_uri": "https://localhost:8080/"
        },
        "id": "E_XIQKSARCQY",
        "outputId": "87cf540a-0252-4b20-9e1b-afc1e685482e"
      },
      "execution_count": null,
      "outputs": [
        {
          "output_type": "stream",
          "name": "stdout",
          "text": [
            "Unique Values in PatientId Column\n",
            "----------------------------------------------------------------------------------------------------\n",
            "[2.98724998e+13 5.58997777e+14 4.26296230e+12 ... 7.26331493e+13\n",
            " 9.96997666e+14 1.55766317e+13]\n",
            "----------------------------------------------------------------------------------------------------\n",
            "Unique Values in AppointmentID Column\n",
            "----------------------------------------------------------------------------------------------------\n",
            "[5642903 5642503 5642549 ... 5630692 5630323 5629448]\n",
            "----------------------------------------------------------------------------------------------------\n",
            "Unique Values in Gender Column\n",
            "----------------------------------------------------------------------------------------------------\n",
            "['F' 'M']\n",
            "----------------------------------------------------------------------------------------------------\n",
            "Unique Values in ScheduledDay Column\n",
            "----------------------------------------------------------------------------------------------------\n",
            "['2016-04-29T18:38:08Z' '2016-04-29T16:08:27Z' '2016-04-29T16:19:04Z' ...\n",
            " '2016-04-27T16:03:52Z' '2016-04-27T15:09:23Z' '2016-04-27T13:30:56Z']\n",
            "----------------------------------------------------------------------------------------------------\n",
            "Unique Values in AppointmentDay Column\n",
            "----------------------------------------------------------------------------------------------------\n",
            "['2016-04-29T00:00:00Z' '2016-05-03T00:00:00Z' '2016-05-10T00:00:00Z'\n",
            " '2016-05-17T00:00:00Z' '2016-05-24T00:00:00Z' '2016-05-31T00:00:00Z'\n",
            " '2016-05-02T00:00:00Z' '2016-05-30T00:00:00Z' '2016-05-16T00:00:00Z'\n",
            " '2016-05-04T00:00:00Z' '2016-05-19T00:00:00Z' '2016-05-12T00:00:00Z'\n",
            " '2016-05-06T00:00:00Z' '2016-05-20T00:00:00Z' '2016-05-05T00:00:00Z'\n",
            " '2016-05-13T00:00:00Z' '2016-05-09T00:00:00Z' '2016-05-25T00:00:00Z'\n",
            " '2016-05-11T00:00:00Z' '2016-05-18T00:00:00Z' '2016-05-14T00:00:00Z'\n",
            " '2016-06-02T00:00:00Z' '2016-06-03T00:00:00Z' '2016-06-06T00:00:00Z'\n",
            " '2016-06-07T00:00:00Z' '2016-06-01T00:00:00Z' '2016-06-08T00:00:00Z']\n",
            "----------------------------------------------------------------------------------------------------\n",
            "Unique Values in Age Column\n",
            "----------------------------------------------------------------------------------------------------\n",
            "[ 62  56   8  76  23  39  21  19  30  29  22  28  54  15  50  40  46   4\n",
            "  13  65  45  51  32  12  61  38  79  18  63  64  85  59  55  71  49  78\n",
            "  31  58  27   6   2  11   7   0   3   1  69  68  60  67  36  10  35  20\n",
            "  26  34  33  16  42   5  47  17  41  44  37  24  66  77  81  70  53  75\n",
            "  73  52  74  43  89  57  14   9  48  83  72  25  80  87  88  84  82  90\n",
            "  94  86  91  98  92  96  93  95  97 102 115 100  99  -1]\n",
            "----------------------------------------------------------------------------------------------------\n",
            "Unique Values in Neighbourhood Column\n",
            "----------------------------------------------------------------------------------------------------\n",
            "['JARDIM DA PENHA' 'MATA DA PRAIA' 'PONTAL DE CAMBURI' 'REPÚBLICA'\n",
            " 'GOIABEIRAS' 'ANDORINHAS' 'CONQUISTA' 'NOVA PALESTINA' 'DA PENHA'\n",
            " 'TABUAZEIRO' 'BENTO FERREIRA' 'SÃO PEDRO' 'SANTA MARTHA' 'SÃO CRISTÓVÃO'\n",
            " 'MARUÍPE' 'GRANDE VITÓRIA' 'SÃO BENEDITO' 'ILHA DAS CAIEIRAS'\n",
            " 'SANTO ANDRÉ' 'SOLON BORGES' 'BONFIM' 'JARDIM CAMBURI' 'MARIA ORTIZ'\n",
            " 'JABOUR' 'ANTÔNIO HONÓRIO' 'RESISTÊNCIA' 'ILHA DE SANTA MARIA'\n",
            " 'JUCUTUQUARA' 'MONTE BELO' 'MÁRIO CYPRESTE' 'SANTO ANTÔNIO' 'BELA VISTA'\n",
            " 'PRAIA DO SUÁ' 'SANTA HELENA' 'ITARARÉ' 'INHANGUETÁ' 'UNIVERSITÁRIO'\n",
            " 'SÃO JOSÉ' 'REDENÇÃO' 'SANTA CLARA' 'CENTRO' 'PARQUE MOSCOSO'\n",
            " 'DO MOSCOSO' 'SANTOS DUMONT' 'CARATOÍRA' 'ARIOVALDO FAVALESSA'\n",
            " 'ILHA DO FRADE' 'GURIGICA' 'JOANA D´ARC' 'CONSOLAÇÃO' 'PRAIA DO CANTO'\n",
            " 'BOA VISTA' 'MORADA DE CAMBURI' 'SANTA LUÍZA' 'SANTA LÚCIA'\n",
            " 'BARRO VERMELHO' 'ESTRELINHA' 'FORTE SÃO JOÃO' 'FONTE GRANDE'\n",
            " 'ENSEADA DO SUÁ' 'SANTOS REIS' 'PIEDADE' 'JESUS DE NAZARETH'\n",
            " 'SANTA TEREZA' 'CRUZAMENTO' 'ILHA DO PRÍNCIPE' 'ROMÃO' 'COMDUSA'\n",
            " 'SANTA CECÍLIA' 'VILA RUBIM' 'DE LOURDES' 'DO QUADRO' 'DO CABRAL' 'HORTO'\n",
            " 'SEGURANÇA DO LAR' 'ILHA DO BOI' 'FRADINHOS' 'NAZARETH' 'AEROPORTO'\n",
            " 'ILHAS OCEÂNICAS DE TRINDADE' 'PARQUE INDUSTRIAL']\n",
            "----------------------------------------------------------------------------------------------------\n",
            "Unique Values in Scholarship Column\n",
            "----------------------------------------------------------------------------------------------------\n",
            "[0 1]\n",
            "----------------------------------------------------------------------------------------------------\n",
            "Unique Values in Hipertension Column\n",
            "----------------------------------------------------------------------------------------------------\n",
            "[1 0]\n",
            "----------------------------------------------------------------------------------------------------\n",
            "Unique Values in Diabetes Column\n",
            "----------------------------------------------------------------------------------------------------\n",
            "[0 1]\n",
            "----------------------------------------------------------------------------------------------------\n",
            "Unique Values in Alcoholism Column\n",
            "----------------------------------------------------------------------------------------------------\n",
            "[0 1]\n",
            "----------------------------------------------------------------------------------------------------\n",
            "Unique Values in Handcap Column\n",
            "----------------------------------------------------------------------------------------------------\n",
            "[0 1 2 3 4]\n",
            "----------------------------------------------------------------------------------------------------\n",
            "Unique Values in SMS_received Column\n",
            "----------------------------------------------------------------------------------------------------\n",
            "[0 1]\n",
            "----------------------------------------------------------------------------------------------------\n",
            "Unique Values in No-show Column\n",
            "----------------------------------------------------------------------------------------------------\n",
            "['No' 'Yes']\n",
            "----------------------------------------------------------------------------------------------------\n"
          ]
        }
      ]
    },
    {
      "cell_type": "markdown",
      "metadata": {
        "id": "QX1C7yPTjpJf"
      },
      "source": [
        "## Data Cleaning ♾\n",
        "1. Checking Duplicated Rows or Columns\n",
        "2. Renaming Columns\n",
        "3. Converting  datatype of ScheduledDay  and AppointmentDay Columns to datatype of datatime\n",
        "4. Creating Features as hours , days , months and hours from ScheduledDay and AppointmentDay Columns \n",
        "5. Handling Values in Handcap Column\n",
        "6. Handling Values in age Column\n",
        "7. Handling 0,1 values to Yes and No\n",
        "5. Removing unneeded Columns"
      ]
    },
    {
      "cell_type": "markdown",
      "source": [
        "###  Checking Duplicated Rows or Columns"
      ],
      "metadata": {
        "id": "OjR6DbK5S5Tk"
      }
    },
    {
      "cell_type": "code",
      "execution_count": null,
      "metadata": {
        "collapsed": true,
        "id": "BW6anA_BjpJi",
        "colab": {
          "base_uri": "https://localhost:8080/"
        },
        "outputId": "d4ecbdfa-8d21-4b2c-db88-c2b3206a0f61"
      },
      "outputs": [
        {
          "output_type": "execute_result",
          "data": {
            "text/plain": [
              "0"
            ]
          },
          "metadata": {},
          "execution_count": 11
        }
      ],
      "source": [
        "df.duplicated().sum()"
      ]
    },
    {
      "cell_type": "code",
      "source": [
        "df.columns"
      ],
      "metadata": {
        "colab": {
          "base_uri": "https://localhost:8080/"
        },
        "id": "92MRHlh0QkHR",
        "outputId": "f3320172-35b4-4d84-f68f-ffa61325e951"
      },
      "execution_count": null,
      "outputs": [
        {
          "output_type": "execute_result",
          "data": {
            "text/plain": [
              "Index(['PatientId', 'AppointmentID', 'Gender', 'ScheduledDay',\n",
              "       'AppointmentDay', 'Age', 'Neighbourhood', 'Scholarship', 'Hipertension',\n",
              "       'Diabetes', 'Alcoholism', 'Handcap', 'SMS_received', 'No-show'],\n",
              "      dtype='object')"
            ]
          },
          "metadata": {},
          "execution_count": 12
        }
      ]
    },
    {
      "cell_type": "markdown",
      "source": [
        "### Renaming Columns"
      ],
      "metadata": {
        "id": "E5YpxMzoXeEL"
      }
    },
    {
      "cell_type": "code",
      "source": [
        "df.rename(columns={ 'ScheduledDay':'Scheduled_Date',\n",
        "            'AppointmentDay':'Appointment_Date',\n",
        "            'No-show':'No_show',\n",
        "            'Handcap':'Handicap'},inplace = True)\n",
        "df"
      ],
      "metadata": {
        "colab": {
          "base_uri": "https://localhost:8080/",
          "height": 661
        },
        "id": "IbTmVP5_Xe5T",
        "outputId": "7cc4e263-21c2-4809-d545-3a4b65c3b26a"
      },
      "execution_count": null,
      "outputs": [
        {
          "output_type": "execute_result",
          "data": {
            "text/html": [
              "\n",
              "  <div id=\"df-82186422-0ffc-4260-a66a-46726b50f4be\">\n",
              "    <div class=\"colab-df-container\">\n",
              "      <div>\n",
              "<style scoped>\n",
              "    .dataframe tbody tr th:only-of-type {\n",
              "        vertical-align: middle;\n",
              "    }\n",
              "\n",
              "    .dataframe tbody tr th {\n",
              "        vertical-align: top;\n",
              "    }\n",
              "\n",
              "    .dataframe thead th {\n",
              "        text-align: right;\n",
              "    }\n",
              "</style>\n",
              "<table border=\"1\" class=\"dataframe\">\n",
              "  <thead>\n",
              "    <tr style=\"text-align: right;\">\n",
              "      <th></th>\n",
              "      <th>PatientId</th>\n",
              "      <th>AppointmentID</th>\n",
              "      <th>Gender</th>\n",
              "      <th>Scheduled_Date</th>\n",
              "      <th>Appointment_Date</th>\n",
              "      <th>Age</th>\n",
              "      <th>Neighbourhood</th>\n",
              "      <th>Scholarship</th>\n",
              "      <th>Hipertension</th>\n",
              "      <th>Diabetes</th>\n",
              "      <th>Alcoholism</th>\n",
              "      <th>Handicap</th>\n",
              "      <th>SMS_received</th>\n",
              "      <th>No_show</th>\n",
              "    </tr>\n",
              "  </thead>\n",
              "  <tbody>\n",
              "    <tr>\n",
              "      <th>0</th>\n",
              "      <td>2.987250e+13</td>\n",
              "      <td>5642903</td>\n",
              "      <td>F</td>\n",
              "      <td>2016-04-29T18:38:08Z</td>\n",
              "      <td>2016-04-29T00:00:00Z</td>\n",
              "      <td>62</td>\n",
              "      <td>JARDIM DA PENHA</td>\n",
              "      <td>0</td>\n",
              "      <td>1</td>\n",
              "      <td>0</td>\n",
              "      <td>0</td>\n",
              "      <td>0</td>\n",
              "      <td>0</td>\n",
              "      <td>No</td>\n",
              "    </tr>\n",
              "    <tr>\n",
              "      <th>1</th>\n",
              "      <td>5.589978e+14</td>\n",
              "      <td>5642503</td>\n",
              "      <td>M</td>\n",
              "      <td>2016-04-29T16:08:27Z</td>\n",
              "      <td>2016-04-29T00:00:00Z</td>\n",
              "      <td>56</td>\n",
              "      <td>JARDIM DA PENHA</td>\n",
              "      <td>0</td>\n",
              "      <td>0</td>\n",
              "      <td>0</td>\n",
              "      <td>0</td>\n",
              "      <td>0</td>\n",
              "      <td>0</td>\n",
              "      <td>No</td>\n",
              "    </tr>\n",
              "    <tr>\n",
              "      <th>2</th>\n",
              "      <td>4.262962e+12</td>\n",
              "      <td>5642549</td>\n",
              "      <td>F</td>\n",
              "      <td>2016-04-29T16:19:04Z</td>\n",
              "      <td>2016-04-29T00:00:00Z</td>\n",
              "      <td>62</td>\n",
              "      <td>MATA DA PRAIA</td>\n",
              "      <td>0</td>\n",
              "      <td>0</td>\n",
              "      <td>0</td>\n",
              "      <td>0</td>\n",
              "      <td>0</td>\n",
              "      <td>0</td>\n",
              "      <td>No</td>\n",
              "    </tr>\n",
              "    <tr>\n",
              "      <th>3</th>\n",
              "      <td>8.679512e+11</td>\n",
              "      <td>5642828</td>\n",
              "      <td>F</td>\n",
              "      <td>2016-04-29T17:29:31Z</td>\n",
              "      <td>2016-04-29T00:00:00Z</td>\n",
              "      <td>8</td>\n",
              "      <td>PONTAL DE CAMBURI</td>\n",
              "      <td>0</td>\n",
              "      <td>0</td>\n",
              "      <td>0</td>\n",
              "      <td>0</td>\n",
              "      <td>0</td>\n",
              "      <td>0</td>\n",
              "      <td>No</td>\n",
              "    </tr>\n",
              "    <tr>\n",
              "      <th>4</th>\n",
              "      <td>8.841186e+12</td>\n",
              "      <td>5642494</td>\n",
              "      <td>F</td>\n",
              "      <td>2016-04-29T16:07:23Z</td>\n",
              "      <td>2016-04-29T00:00:00Z</td>\n",
              "      <td>56</td>\n",
              "      <td>JARDIM DA PENHA</td>\n",
              "      <td>0</td>\n",
              "      <td>1</td>\n",
              "      <td>1</td>\n",
              "      <td>0</td>\n",
              "      <td>0</td>\n",
              "      <td>0</td>\n",
              "      <td>No</td>\n",
              "    </tr>\n",
              "    <tr>\n",
              "      <th>...</th>\n",
              "      <td>...</td>\n",
              "      <td>...</td>\n",
              "      <td>...</td>\n",
              "      <td>...</td>\n",
              "      <td>...</td>\n",
              "      <td>...</td>\n",
              "      <td>...</td>\n",
              "      <td>...</td>\n",
              "      <td>...</td>\n",
              "      <td>...</td>\n",
              "      <td>...</td>\n",
              "      <td>...</td>\n",
              "      <td>...</td>\n",
              "      <td>...</td>\n",
              "    </tr>\n",
              "    <tr>\n",
              "      <th>110522</th>\n",
              "      <td>2.572134e+12</td>\n",
              "      <td>5651768</td>\n",
              "      <td>F</td>\n",
              "      <td>2016-05-03T09:15:35Z</td>\n",
              "      <td>2016-06-07T00:00:00Z</td>\n",
              "      <td>56</td>\n",
              "      <td>MARIA ORTIZ</td>\n",
              "      <td>0</td>\n",
              "      <td>0</td>\n",
              "      <td>0</td>\n",
              "      <td>0</td>\n",
              "      <td>0</td>\n",
              "      <td>1</td>\n",
              "      <td>No</td>\n",
              "    </tr>\n",
              "    <tr>\n",
              "      <th>110523</th>\n",
              "      <td>3.596266e+12</td>\n",
              "      <td>5650093</td>\n",
              "      <td>F</td>\n",
              "      <td>2016-05-03T07:27:33Z</td>\n",
              "      <td>2016-06-07T00:00:00Z</td>\n",
              "      <td>51</td>\n",
              "      <td>MARIA ORTIZ</td>\n",
              "      <td>0</td>\n",
              "      <td>0</td>\n",
              "      <td>0</td>\n",
              "      <td>0</td>\n",
              "      <td>0</td>\n",
              "      <td>1</td>\n",
              "      <td>No</td>\n",
              "    </tr>\n",
              "    <tr>\n",
              "      <th>110524</th>\n",
              "      <td>1.557663e+13</td>\n",
              "      <td>5630692</td>\n",
              "      <td>F</td>\n",
              "      <td>2016-04-27T16:03:52Z</td>\n",
              "      <td>2016-06-07T00:00:00Z</td>\n",
              "      <td>21</td>\n",
              "      <td>MARIA ORTIZ</td>\n",
              "      <td>0</td>\n",
              "      <td>0</td>\n",
              "      <td>0</td>\n",
              "      <td>0</td>\n",
              "      <td>0</td>\n",
              "      <td>1</td>\n",
              "      <td>No</td>\n",
              "    </tr>\n",
              "    <tr>\n",
              "      <th>110525</th>\n",
              "      <td>9.213493e+13</td>\n",
              "      <td>5630323</td>\n",
              "      <td>F</td>\n",
              "      <td>2016-04-27T15:09:23Z</td>\n",
              "      <td>2016-06-07T00:00:00Z</td>\n",
              "      <td>38</td>\n",
              "      <td>MARIA ORTIZ</td>\n",
              "      <td>0</td>\n",
              "      <td>0</td>\n",
              "      <td>0</td>\n",
              "      <td>0</td>\n",
              "      <td>0</td>\n",
              "      <td>1</td>\n",
              "      <td>No</td>\n",
              "    </tr>\n",
              "    <tr>\n",
              "      <th>110526</th>\n",
              "      <td>3.775115e+14</td>\n",
              "      <td>5629448</td>\n",
              "      <td>F</td>\n",
              "      <td>2016-04-27T13:30:56Z</td>\n",
              "      <td>2016-06-07T00:00:00Z</td>\n",
              "      <td>54</td>\n",
              "      <td>MARIA ORTIZ</td>\n",
              "      <td>0</td>\n",
              "      <td>0</td>\n",
              "      <td>0</td>\n",
              "      <td>0</td>\n",
              "      <td>0</td>\n",
              "      <td>1</td>\n",
              "      <td>No</td>\n",
              "    </tr>\n",
              "  </tbody>\n",
              "</table>\n",
              "<p>110527 rows × 14 columns</p>\n",
              "</div>\n",
              "      <button class=\"colab-df-convert\" onclick=\"convertToInteractive('df-82186422-0ffc-4260-a66a-46726b50f4be')\"\n",
              "              title=\"Convert this dataframe to an interactive table.\"\n",
              "              style=\"display:none;\">\n",
              "        \n",
              "  <svg xmlns=\"http://www.w3.org/2000/svg\" height=\"24px\"viewBox=\"0 0 24 24\"\n",
              "       width=\"24px\">\n",
              "    <path d=\"M0 0h24v24H0V0z\" fill=\"none\"/>\n",
              "    <path d=\"M18.56 5.44l.94 2.06.94-2.06 2.06-.94-2.06-.94-.94-2.06-.94 2.06-2.06.94zm-11 1L8.5 8.5l.94-2.06 2.06-.94-2.06-.94L8.5 2.5l-.94 2.06-2.06.94zm10 10l.94 2.06.94-2.06 2.06-.94-2.06-.94-.94-2.06-.94 2.06-2.06.94z\"/><path d=\"M17.41 7.96l-1.37-1.37c-.4-.4-.92-.59-1.43-.59-.52 0-1.04.2-1.43.59L10.3 9.45l-7.72 7.72c-.78.78-.78 2.05 0 2.83L4 21.41c.39.39.9.59 1.41.59.51 0 1.02-.2 1.41-.59l7.78-7.78 2.81-2.81c.8-.78.8-2.07 0-2.86zM5.41 20L4 18.59l7.72-7.72 1.47 1.35L5.41 20z\"/>\n",
              "  </svg>\n",
              "      </button>\n",
              "      \n",
              "  <style>\n",
              "    .colab-df-container {\n",
              "      display:flex;\n",
              "      flex-wrap:wrap;\n",
              "      gap: 12px;\n",
              "    }\n",
              "\n",
              "    .colab-df-convert {\n",
              "      background-color: #E8F0FE;\n",
              "      border: none;\n",
              "      border-radius: 50%;\n",
              "      cursor: pointer;\n",
              "      display: none;\n",
              "      fill: #1967D2;\n",
              "      height: 32px;\n",
              "      padding: 0 0 0 0;\n",
              "      width: 32px;\n",
              "    }\n",
              "\n",
              "    .colab-df-convert:hover {\n",
              "      background-color: #E2EBFA;\n",
              "      box-shadow: 0px 1px 2px rgba(60, 64, 67, 0.3), 0px 1px 3px 1px rgba(60, 64, 67, 0.15);\n",
              "      fill: #174EA6;\n",
              "    }\n",
              "\n",
              "    [theme=dark] .colab-df-convert {\n",
              "      background-color: #3B4455;\n",
              "      fill: #D2E3FC;\n",
              "    }\n",
              "\n",
              "    [theme=dark] .colab-df-convert:hover {\n",
              "      background-color: #434B5C;\n",
              "      box-shadow: 0px 1px 3px 1px rgba(0, 0, 0, 0.15);\n",
              "      filter: drop-shadow(0px 1px 2px rgba(0, 0, 0, 0.3));\n",
              "      fill: #FFFFFF;\n",
              "    }\n",
              "  </style>\n",
              "\n",
              "      <script>\n",
              "        const buttonEl =\n",
              "          document.querySelector('#df-82186422-0ffc-4260-a66a-46726b50f4be button.colab-df-convert');\n",
              "        buttonEl.style.display =\n",
              "          google.colab.kernel.accessAllowed ? 'block' : 'none';\n",
              "\n",
              "        async function convertToInteractive(key) {\n",
              "          const element = document.querySelector('#df-82186422-0ffc-4260-a66a-46726b50f4be');\n",
              "          const dataTable =\n",
              "            await google.colab.kernel.invokeFunction('convertToInteractive',\n",
              "                                                     [key], {});\n",
              "          if (!dataTable) return;\n",
              "\n",
              "          const docLinkHtml = 'Like what you see? Visit the ' +\n",
              "            '<a target=\"_blank\" href=https://colab.research.google.com/notebooks/data_table.ipynb>data table notebook</a>'\n",
              "            + ' to learn more about interactive tables.';\n",
              "          element.innerHTML = '';\n",
              "          dataTable['output_type'] = 'display_data';\n",
              "          await google.colab.output.renderOutput(dataTable, element);\n",
              "          const docLink = document.createElement('div');\n",
              "          docLink.innerHTML = docLinkHtml;\n",
              "          element.appendChild(docLink);\n",
              "        }\n",
              "      </script>\n",
              "    </div>\n",
              "  </div>\n",
              "  "
            ],
            "text/plain": [
              "           PatientId  AppointmentID Gender        Scheduled_Date  \\\n",
              "0       2.987250e+13        5642903      F  2016-04-29T18:38:08Z   \n",
              "1       5.589978e+14        5642503      M  2016-04-29T16:08:27Z   \n",
              "2       4.262962e+12        5642549      F  2016-04-29T16:19:04Z   \n",
              "3       8.679512e+11        5642828      F  2016-04-29T17:29:31Z   \n",
              "4       8.841186e+12        5642494      F  2016-04-29T16:07:23Z   \n",
              "...              ...            ...    ...                   ...   \n",
              "110522  2.572134e+12        5651768      F  2016-05-03T09:15:35Z   \n",
              "110523  3.596266e+12        5650093      F  2016-05-03T07:27:33Z   \n",
              "110524  1.557663e+13        5630692      F  2016-04-27T16:03:52Z   \n",
              "110525  9.213493e+13        5630323      F  2016-04-27T15:09:23Z   \n",
              "110526  3.775115e+14        5629448      F  2016-04-27T13:30:56Z   \n",
              "\n",
              "            Appointment_Date  Age      Neighbourhood  Scholarship  \\\n",
              "0       2016-04-29T00:00:00Z   62    JARDIM DA PENHA            0   \n",
              "1       2016-04-29T00:00:00Z   56    JARDIM DA PENHA            0   \n",
              "2       2016-04-29T00:00:00Z   62      MATA DA PRAIA            0   \n",
              "3       2016-04-29T00:00:00Z    8  PONTAL DE CAMBURI            0   \n",
              "4       2016-04-29T00:00:00Z   56    JARDIM DA PENHA            0   \n",
              "...                      ...  ...                ...          ...   \n",
              "110522  2016-06-07T00:00:00Z   56        MARIA ORTIZ            0   \n",
              "110523  2016-06-07T00:00:00Z   51        MARIA ORTIZ            0   \n",
              "110524  2016-06-07T00:00:00Z   21        MARIA ORTIZ            0   \n",
              "110525  2016-06-07T00:00:00Z   38        MARIA ORTIZ            0   \n",
              "110526  2016-06-07T00:00:00Z   54        MARIA ORTIZ            0   \n",
              "\n",
              "        Hipertension  Diabetes  Alcoholism  Handicap  SMS_received No_show  \n",
              "0                  1         0           0         0             0      No  \n",
              "1                  0         0           0         0             0      No  \n",
              "2                  0         0           0         0             0      No  \n",
              "3                  0         0           0         0             0      No  \n",
              "4                  1         1           0         0             0      No  \n",
              "...              ...       ...         ...       ...           ...     ...  \n",
              "110522             0         0           0         0             1      No  \n",
              "110523             0         0           0         0             1      No  \n",
              "110524             0         0           0         0             1      No  \n",
              "110525             0         0           0         0             1      No  \n",
              "110526             0         0           0         0             1      No  \n",
              "\n",
              "[110527 rows x 14 columns]"
            ]
          },
          "metadata": {},
          "execution_count": 13
        }
      ]
    },
    {
      "cell_type": "markdown",
      "source": [
        "### Converting datatype of ScheduledDay and AppointmentDay Columns to datatype of datatime"
      ],
      "metadata": {
        "id": "tnPUACWOS9iy"
      }
    },
    {
      "cell_type": "code",
      "source": [
        "df['Scheduled_Date'] = pd.to_datetime(df['Scheduled_Date'])\n",
        "df['Appointment_Date'] = pd.to_datetime(df['Appointment_Date'])\n",
        "df.info()"
      ],
      "metadata": {
        "colab": {
          "base_uri": "https://localhost:8080/"
        },
        "id": "4wIFQqhuS2lu",
        "outputId": "9a6bdd46-e2b4-48b2-dc01-19991a8f711f"
      },
      "execution_count": null,
      "outputs": [
        {
          "output_type": "stream",
          "name": "stdout",
          "text": [
            "<class 'pandas.core.frame.DataFrame'>\n",
            "RangeIndex: 110527 entries, 0 to 110526\n",
            "Data columns (total 14 columns):\n",
            " #   Column            Non-Null Count   Dtype              \n",
            "---  ------            --------------   -----              \n",
            " 0   PatientId         110527 non-null  float64            \n",
            " 1   AppointmentID     110527 non-null  int64              \n",
            " 2   Gender            110527 non-null  object             \n",
            " 3   Scheduled_Date    110527 non-null  datetime64[ns, UTC]\n",
            " 4   Appointment_Date  110527 non-null  datetime64[ns, UTC]\n",
            " 5   Age               110527 non-null  int64              \n",
            " 6   Neighbourhood     110527 non-null  object             \n",
            " 7   Scholarship       110527 non-null  int64              \n",
            " 8   Hipertension      110527 non-null  int64              \n",
            " 9   Diabetes          110527 non-null  int64              \n",
            " 10  Alcoholism        110527 non-null  int64              \n",
            " 11  Handicap          110527 non-null  int64              \n",
            " 12  SMS_received      110527 non-null  int64              \n",
            " 13  No_show           110527 non-null  object             \n",
            "dtypes: datetime64[ns, UTC](2), float64(1), int64(8), object(3)\n",
            "memory usage: 11.8+ MB\n"
          ]
        }
      ]
    },
    {
      "cell_type": "markdown",
      "source": [
        "### Creating Features as hours , days , months and hours from Scheduled_Date and Appointment_Date Columns "
      ],
      "metadata": {
        "id": "Ncwe0jU4Wj9G"
      }
    },
    {
      "cell_type": "code",
      "source": [
        "df['Scheduled_Month_Name'] = df['Scheduled_Date'].dt.month_name()\n",
        "df['Scheduled_Day'] = df['Scheduled_Date'].dt.day\n",
        "df['Scheduled_Day_Name'] = df['Scheduled_Date'].dt.day_name()\n",
        "df['Scheduled_Hour'] = df['Scheduled_Date'].dt.hour"
      ],
      "metadata": {
        "id": "VmycrHkTWF0J"
      },
      "execution_count": null,
      "outputs": []
    },
    {
      "cell_type": "code",
      "source": [
        "df['Scheduled_Date'] = pd.to_datetime(df['Scheduled_Date'].dt.date)"
      ],
      "metadata": {
        "id": "bx975oHPeaTA"
      },
      "execution_count": null,
      "outputs": []
    },
    {
      "cell_type": "code",
      "source": [
        "df['Appointment_Month_Name'] = df['Appointment_Date'].dt.month_name()\n",
        "df['Appointment_Day'] = df['Appointment_Date'].dt.day\n",
        "df['Appointment_Day_Name'] = df['Appointment_Date'].dt.day_name()\n",
        "df['Appointment_Hour'] = df['Appointment_Date'].dt.hour"
      ],
      "metadata": {
        "id": "StGGypbwcMh8"
      },
      "execution_count": null,
      "outputs": []
    },
    {
      "cell_type": "code",
      "source": [
        "df['Appointment_Date'] = pd.to_datetime(df['Appointment_Date'].dt.date)"
      ],
      "metadata": {
        "id": "ReM7uMvxecs4"
      },
      "execution_count": null,
      "outputs": []
    },
    {
      "cell_type": "code",
      "source": [
        "df['Waiting_Days'] = (df['Appointment_Date'] - df['Scheduled_Date']).dt.days"
      ],
      "metadata": {
        "id": "h_4_aiwMcZgW"
      },
      "execution_count": null,
      "outputs": []
    },
    {
      "cell_type": "code",
      "source": [
        "df['Waiting_Days'].unique()"
      ],
      "metadata": {
        "colab": {
          "base_uri": "https://localhost:8080/"
        },
        "id": "uo55_8x1dobI",
        "outputId": "a6af18ca-0f61-4a2a-924e-696328b2eee7"
      },
      "execution_count": null,
      "outputs": [
        {
          "output_type": "execute_result",
          "data": {
            "text/plain": [
              "array([  0,   2,   3,   1,   4,   9,  29,  10,  23,  11,  18,  17,  14,\n",
              "        28,  24,  21,  15,  16,  22,  43,  30,  31,  42,  32,  56,  45,\n",
              "        46,  39,  37,  38,  44,  50,  60,  52,  53,  65,  67,  91,  66,\n",
              "        84,  78,  87, 115, 109,  63,  70,  72,  57,  58,  51,  59,  41,\n",
              "        49,  73,  64,  20,  33,  34,   6,  35,  36,  12,  13,  40,  47,\n",
              "         8,   5,   7,  25,  26,  48,  27,  19,  61,  55,  62, 176,  54,\n",
              "        77,  69,  83,  76,  89,  81, 103,  79,  68,  75,  85, 112,  -1,\n",
              "        80,  86,  98,  94, 142, 155, 162, 169, 104, 133, 125,  96,  88,\n",
              "        90, 151, 126, 127, 111, 119,  74,  71,  82, 108, 110, 102, 122,\n",
              "       101, 105,  92,  97,  93, 107,  95,  -6, 139, 132, 179, 117, 146,\n",
              "       123])"
            ]
          },
          "metadata": {},
          "execution_count": 20
        }
      ]
    },
    {
      "cell_type": "code",
      "source": [
        "np.sort(df['Waiting_Days'].unique())"
      ],
      "metadata": {
        "colab": {
          "base_uri": "https://localhost:8080/"
        },
        "id": "b5SfxMmKekKX",
        "outputId": "84453088-3e04-4364-bc93-eebd82edbfcf"
      },
      "execution_count": null,
      "outputs": [
        {
          "output_type": "execute_result",
          "data": {
            "text/plain": [
              "array([ -6,  -1,   0,   1,   2,   3,   4,   5,   6,   7,   8,   9,  10,\n",
              "        11,  12,  13,  14,  15,  16,  17,  18,  19,  20,  21,  22,  23,\n",
              "        24,  25,  26,  27,  28,  29,  30,  31,  32,  33,  34,  35,  36,\n",
              "        37,  38,  39,  40,  41,  42,  43,  44,  45,  46,  47,  48,  49,\n",
              "        50,  51,  52,  53,  54,  55,  56,  57,  58,  59,  60,  61,  62,\n",
              "        63,  64,  65,  66,  67,  68,  69,  70,  71,  72,  73,  74,  75,\n",
              "        76,  77,  78,  79,  80,  81,  82,  83,  84,  85,  86,  87,  88,\n",
              "        89,  90,  91,  92,  93,  94,  95,  96,  97,  98, 101, 102, 103,\n",
              "       104, 105, 107, 108, 109, 110, 111, 112, 115, 117, 119, 122, 123,\n",
              "       125, 126, 127, 132, 133, 139, 142, 146, 151, 155, 162, 169, 176,\n",
              "       179])"
            ]
          },
          "metadata": {},
          "execution_count": 21
        }
      ]
    },
    {
      "cell_type": "markdown",
      "source": [
        "there're error in 5 waiting days as they've negative values"
      ],
      "metadata": {
        "id": "vg17STFyfWd0"
      }
    },
    {
      "cell_type": "code",
      "source": [
        "df['Waiting_Days'].value_counts().sort_index().head(5)"
      ],
      "metadata": {
        "colab": {
          "base_uri": "https://localhost:8080/"
        },
        "id": "oG1tK6XleLjQ",
        "outputId": "08b85260-4253-4191-bda2-fb87d1f5103a"
      },
      "execution_count": null,
      "outputs": [
        {
          "output_type": "execute_result",
          "data": {
            "text/plain": [
              "-6        1\n",
              "-1        4\n",
              " 0    38563\n",
              " 1     5213\n",
              " 2     6725\n",
              "Name: Waiting_Days, dtype: int64"
            ]
          },
          "metadata": {},
          "execution_count": 22
        }
      ]
    },
    {
      "cell_type": "code",
      "source": [
        "# Dropping this 5 rows\n",
        "df.drop(df[df['Waiting_Days']<0].index,inplace= True)"
      ],
      "metadata": {
        "id": "n710pnABe5G6"
      },
      "execution_count": null,
      "outputs": []
    },
    {
      "cell_type": "markdown",
      "source": [
        "### Handling Values in Handcap Column"
      ],
      "metadata": {
        "id": "9517-0eqfxgs"
      }
    },
    {
      "cell_type": "code",
      "source": [
        "df['Handicap'].value_counts()"
      ],
      "metadata": {
        "colab": {
          "base_uri": "https://localhost:8080/"
        },
        "id": "qvogdZZBf6Vb",
        "outputId": "001398bc-8fd3-4690-e595-94d5478ec448"
      },
      "execution_count": null,
      "outputs": [
        {
          "output_type": "execute_result",
          "data": {
            "text/plain": [
              "0    108283\n",
              "1      2040\n",
              "2       183\n",
              "3        13\n",
              "4         3\n",
              "Name: Handicap, dtype: int64"
            ]
          },
          "metadata": {},
          "execution_count": 24
        }
      ]
    },
    {
      "cell_type": "code",
      "source": [
        "df['Handicap'] = df['Handicap'].apply(lambda value : 1 if value>0  else 0 )"
      ],
      "metadata": {
        "id": "9sqOzNXMf_5g"
      },
      "execution_count": null,
      "outputs": []
    },
    {
      "cell_type": "code",
      "source": [
        "df['Handicap'].value_counts()"
      ],
      "metadata": {
        "colab": {
          "base_uri": "https://localhost:8080/"
        },
        "id": "Ekh33sqsgbMX",
        "outputId": "decef5c7-1961-48ca-94f1-093efb774601"
      },
      "execution_count": null,
      "outputs": [
        {
          "output_type": "execute_result",
          "data": {
            "text/plain": [
              "0    108283\n",
              "1      2239\n",
              "Name: Handicap, dtype: int64"
            ]
          },
          "metadata": {},
          "execution_count": 26
        }
      ]
    },
    {
      "cell_type": "markdown",
      "source": [
        "### Handling Values in Age Column"
      ],
      "metadata": {
        "id": "ruzyA5JlgnZD"
      }
    },
    {
      "cell_type": "code",
      "source": [
        "df['Age'].unique()"
      ],
      "metadata": {
        "colab": {
          "base_uri": "https://localhost:8080/"
        },
        "id": "n5DdKf5Ygs5I",
        "outputId": "f5ebf654-b596-4c55-91e0-ce3a795ccfb4"
      },
      "execution_count": null,
      "outputs": [
        {
          "output_type": "execute_result",
          "data": {
            "text/plain": [
              "array([ 62,  56,   8,  76,  23,  39,  21,  19,  30,  29,  22,  28,  54,\n",
              "        15,  50,  40,  46,   4,  13,  65,  45,  51,  32,  12,  61,  38,\n",
              "        79,  18,  63,  64,  85,  59,  55,  71,  49,  78,  31,  58,  27,\n",
              "         6,   2,  11,   7,   0,   3,   1,  69,  68,  60,  67,  36,  10,\n",
              "        35,  20,  26,  34,  33,  16,  42,   5,  47,  17,  41,  44,  37,\n",
              "        24,  66,  77,  81,  70,  53,  75,  73,  52,  74,  43,  89,  57,\n",
              "        14,   9,  48,  83,  72,  25,  80,  87,  88,  84,  82,  90,  94,\n",
              "        86,  91,  98,  92,  96,  93,  95,  97, 102, 115, 100,  99,  -1])"
            ]
          },
          "metadata": {},
          "execution_count": 27
        }
      ]
    },
    {
      "cell_type": "code",
      "source": [
        "np.sort(df['Age'].unique())"
      ],
      "metadata": {
        "colab": {
          "base_uri": "https://localhost:8080/"
        },
        "id": "0tp1L4IIgyTe",
        "outputId": "6747b1f0-728a-4ed6-8cdf-70b79ddab579"
      },
      "execution_count": null,
      "outputs": [
        {
          "output_type": "execute_result",
          "data": {
            "text/plain": [
              "array([ -1,   0,   1,   2,   3,   4,   5,   6,   7,   8,   9,  10,  11,\n",
              "        12,  13,  14,  15,  16,  17,  18,  19,  20,  21,  22,  23,  24,\n",
              "        25,  26,  27,  28,  29,  30,  31,  32,  33,  34,  35,  36,  37,\n",
              "        38,  39,  40,  41,  42,  43,  44,  45,  46,  47,  48,  49,  50,\n",
              "        51,  52,  53,  54,  55,  56,  57,  58,  59,  60,  61,  62,  63,\n",
              "        64,  65,  66,  67,  68,  69,  70,  71,  72,  73,  74,  75,  76,\n",
              "        77,  78,  79,  80,  81,  82,  83,  84,  85,  86,  87,  88,  89,\n",
              "        90,  91,  92,  93,  94,  95,  96,  97,  98,  99, 100, 102, 115])"
            ]
          },
          "metadata": {},
          "execution_count": 28
        }
      ]
    },
    {
      "cell_type": "code",
      "source": [
        "df[df['Age']==-1]"
      ],
      "metadata": {
        "colab": {
          "base_uri": "https://localhost:8080/",
          "height": 174
        },
        "id": "EphIrLQ4g2IY",
        "outputId": "c293301e-02b7-4286-c501-05e0c3a94df0"
      },
      "execution_count": null,
      "outputs": [
        {
          "output_type": "execute_result",
          "data": {
            "text/html": [
              "\n",
              "  <div id=\"df-5e49a2bc-d73a-4de1-8604-687e0f2e0957\">\n",
              "    <div class=\"colab-df-container\">\n",
              "      <div>\n",
              "<style scoped>\n",
              "    .dataframe tbody tr th:only-of-type {\n",
              "        vertical-align: middle;\n",
              "    }\n",
              "\n",
              "    .dataframe tbody tr th {\n",
              "        vertical-align: top;\n",
              "    }\n",
              "\n",
              "    .dataframe thead th {\n",
              "        text-align: right;\n",
              "    }\n",
              "</style>\n",
              "<table border=\"1\" class=\"dataframe\">\n",
              "  <thead>\n",
              "    <tr style=\"text-align: right;\">\n",
              "      <th></th>\n",
              "      <th>PatientId</th>\n",
              "      <th>AppointmentID</th>\n",
              "      <th>Gender</th>\n",
              "      <th>Scheduled_Date</th>\n",
              "      <th>Appointment_Date</th>\n",
              "      <th>Age</th>\n",
              "      <th>Neighbourhood</th>\n",
              "      <th>Scholarship</th>\n",
              "      <th>Hipertension</th>\n",
              "      <th>Diabetes</th>\n",
              "      <th>...</th>\n",
              "      <th>No_show</th>\n",
              "      <th>Scheduled_Month_Name</th>\n",
              "      <th>Scheduled_Day</th>\n",
              "      <th>Scheduled_Day_Name</th>\n",
              "      <th>Scheduled_Hour</th>\n",
              "      <th>Appointment_Month_Name</th>\n",
              "      <th>Appointment_Day</th>\n",
              "      <th>Appointment_Day_Name</th>\n",
              "      <th>Appointment_Hour</th>\n",
              "      <th>Waiting_Days</th>\n",
              "    </tr>\n",
              "  </thead>\n",
              "  <tbody>\n",
              "    <tr>\n",
              "      <th>99832</th>\n",
              "      <td>4.659432e+14</td>\n",
              "      <td>5775010</td>\n",
              "      <td>F</td>\n",
              "      <td>2016-06-06</td>\n",
              "      <td>2016-06-06</td>\n",
              "      <td>-1</td>\n",
              "      <td>ROMÃO</td>\n",
              "      <td>0</td>\n",
              "      <td>0</td>\n",
              "      <td>0</td>\n",
              "      <td>...</td>\n",
              "      <td>No</td>\n",
              "      <td>June</td>\n",
              "      <td>6</td>\n",
              "      <td>Monday</td>\n",
              "      <td>8</td>\n",
              "      <td>June</td>\n",
              "      <td>6</td>\n",
              "      <td>Monday</td>\n",
              "      <td>0</td>\n",
              "      <td>0</td>\n",
              "    </tr>\n",
              "  </tbody>\n",
              "</table>\n",
              "<p>1 rows × 23 columns</p>\n",
              "</div>\n",
              "      <button class=\"colab-df-convert\" onclick=\"convertToInteractive('df-5e49a2bc-d73a-4de1-8604-687e0f2e0957')\"\n",
              "              title=\"Convert this dataframe to an interactive table.\"\n",
              "              style=\"display:none;\">\n",
              "        \n",
              "  <svg xmlns=\"http://www.w3.org/2000/svg\" height=\"24px\"viewBox=\"0 0 24 24\"\n",
              "       width=\"24px\">\n",
              "    <path d=\"M0 0h24v24H0V0z\" fill=\"none\"/>\n",
              "    <path d=\"M18.56 5.44l.94 2.06.94-2.06 2.06-.94-2.06-.94-.94-2.06-.94 2.06-2.06.94zm-11 1L8.5 8.5l.94-2.06 2.06-.94-2.06-.94L8.5 2.5l-.94 2.06-2.06.94zm10 10l.94 2.06.94-2.06 2.06-.94-2.06-.94-.94-2.06-.94 2.06-2.06.94z\"/><path d=\"M17.41 7.96l-1.37-1.37c-.4-.4-.92-.59-1.43-.59-.52 0-1.04.2-1.43.59L10.3 9.45l-7.72 7.72c-.78.78-.78 2.05 0 2.83L4 21.41c.39.39.9.59 1.41.59.51 0 1.02-.2 1.41-.59l7.78-7.78 2.81-2.81c.8-.78.8-2.07 0-2.86zM5.41 20L4 18.59l7.72-7.72 1.47 1.35L5.41 20z\"/>\n",
              "  </svg>\n",
              "      </button>\n",
              "      \n",
              "  <style>\n",
              "    .colab-df-container {\n",
              "      display:flex;\n",
              "      flex-wrap:wrap;\n",
              "      gap: 12px;\n",
              "    }\n",
              "\n",
              "    .colab-df-convert {\n",
              "      background-color: #E8F0FE;\n",
              "      border: none;\n",
              "      border-radius: 50%;\n",
              "      cursor: pointer;\n",
              "      display: none;\n",
              "      fill: #1967D2;\n",
              "      height: 32px;\n",
              "      padding: 0 0 0 0;\n",
              "      width: 32px;\n",
              "    }\n",
              "\n",
              "    .colab-df-convert:hover {\n",
              "      background-color: #E2EBFA;\n",
              "      box-shadow: 0px 1px 2px rgba(60, 64, 67, 0.3), 0px 1px 3px 1px rgba(60, 64, 67, 0.15);\n",
              "      fill: #174EA6;\n",
              "    }\n",
              "\n",
              "    [theme=dark] .colab-df-convert {\n",
              "      background-color: #3B4455;\n",
              "      fill: #D2E3FC;\n",
              "    }\n",
              "\n",
              "    [theme=dark] .colab-df-convert:hover {\n",
              "      background-color: #434B5C;\n",
              "      box-shadow: 0px 1px 3px 1px rgba(0, 0, 0, 0.15);\n",
              "      filter: drop-shadow(0px 1px 2px rgba(0, 0, 0, 0.3));\n",
              "      fill: #FFFFFF;\n",
              "    }\n",
              "  </style>\n",
              "\n",
              "      <script>\n",
              "        const buttonEl =\n",
              "          document.querySelector('#df-5e49a2bc-d73a-4de1-8604-687e0f2e0957 button.colab-df-convert');\n",
              "        buttonEl.style.display =\n",
              "          google.colab.kernel.accessAllowed ? 'block' : 'none';\n",
              "\n",
              "        async function convertToInteractive(key) {\n",
              "          const element = document.querySelector('#df-5e49a2bc-d73a-4de1-8604-687e0f2e0957');\n",
              "          const dataTable =\n",
              "            await google.colab.kernel.invokeFunction('convertToInteractive',\n",
              "                                                     [key], {});\n",
              "          if (!dataTable) return;\n",
              "\n",
              "          const docLinkHtml = 'Like what you see? Visit the ' +\n",
              "            '<a target=\"_blank\" href=https://colab.research.google.com/notebooks/data_table.ipynb>data table notebook</a>'\n",
              "            + ' to learn more about interactive tables.';\n",
              "          element.innerHTML = '';\n",
              "          dataTable['output_type'] = 'display_data';\n",
              "          await google.colab.output.renderOutput(dataTable, element);\n",
              "          const docLink = document.createElement('div');\n",
              "          docLink.innerHTML = docLinkHtml;\n",
              "          element.appendChild(docLink);\n",
              "        }\n",
              "      </script>\n",
              "    </div>\n",
              "  </div>\n",
              "  "
            ],
            "text/plain": [
              "          PatientId  AppointmentID Gender Scheduled_Date Appointment_Date  \\\n",
              "99832  4.659432e+14        5775010      F     2016-06-06       2016-06-06   \n",
              "\n",
              "       Age Neighbourhood  Scholarship  Hipertension  Diabetes  ...  No_show  \\\n",
              "99832   -1         ROMÃO            0             0         0  ...       No   \n",
              "\n",
              "       Scheduled_Month_Name  Scheduled_Day Scheduled_Day_Name Scheduled_Hour  \\\n",
              "99832                  June              6             Monday              8   \n",
              "\n",
              "       Appointment_Month_Name Appointment_Day  Appointment_Day_Name  \\\n",
              "99832                    June               6                Monday   \n",
              "\n",
              "      Appointment_Hour  Waiting_Days  \n",
              "99832                0             0  \n",
              "\n",
              "[1 rows x 23 columns]"
            ]
          },
          "metadata": {},
          "execution_count": 29
        }
      ]
    },
    {
      "cell_type": "markdown",
      "source": [
        "there is one error in age value as it's negative values"
      ],
      "metadata": {
        "id": "Yrw2wnsIhG9n"
      }
    },
    {
      "cell_type": "code",
      "source": [
        "# Dropping this  row\n",
        "df.drop(df[df['Age']==-1].index,inplace= True)"
      ],
      "metadata": {
        "id": "-E3tPgAGhByM"
      },
      "execution_count": null,
      "outputs": []
    },
    {
      "cell_type": "markdown",
      "source": [
        "### Handling 0,1 values to Yes and No"
      ],
      "metadata": {
        "id": "mgBezv7sqbJb"
      }
    },
    {
      "cell_type": "code",
      "source": [
        "dict_yes_no = {\n",
        "    0 : 'No',\n",
        "    1 : 'Yes' }\n",
        "col_handled  = ['Scholarship','Hipertension','Diabetes','Alcoholism','Handicap','SMS_received']    \n",
        "for col in col_handled :\n",
        "   df[col] = df[col].map(dict_yes_no)"
      ],
      "metadata": {
        "id": "_Z0XN_XXqhBy"
      },
      "execution_count": null,
      "outputs": []
    },
    {
      "cell_type": "code",
      "source": [
        "for col in df.columns :\n",
        "  print(\"Unique Values in \"+ col+\" Column\")\n",
        "  print('-'*100)\n",
        "  print(df[col].unique())\n",
        "  print('-'*100)"
      ],
      "metadata": {
        "colab": {
          "base_uri": "https://localhost:8080/"
        },
        "id": "e-JgUG8Ar-dj",
        "outputId": "f55bc913-7e43-4d24-f18a-fa540b298520"
      },
      "execution_count": null,
      "outputs": [
        {
          "output_type": "stream",
          "name": "stdout",
          "text": [
            "Unique Values in PatientId Column\n",
            "----------------------------------------------------------------------------------------------------\n",
            "[2.98724998e+13 5.58997777e+14 4.26296230e+12 ... 7.26331493e+13\n",
            " 9.96997666e+14 1.55766317e+13]\n",
            "----------------------------------------------------------------------------------------------------\n",
            "Unique Values in AppointmentID Column\n",
            "----------------------------------------------------------------------------------------------------\n",
            "[5642903 5642503 5642549 ... 5630692 5630323 5629448]\n",
            "----------------------------------------------------------------------------------------------------\n",
            "Unique Values in Gender Column\n",
            "----------------------------------------------------------------------------------------------------\n",
            "['F' 'M']\n",
            "----------------------------------------------------------------------------------------------------\n",
            "Unique Values in Scheduled_Date Column\n",
            "----------------------------------------------------------------------------------------------------\n",
            "['2016-04-29T00:00:00.000000000' '2016-04-27T00:00:00.000000000'\n",
            " '2016-04-26T00:00:00.000000000' '2016-04-28T00:00:00.000000000'\n",
            " '2016-04-25T00:00:00.000000000' '2016-04-20T00:00:00.000000000'\n",
            " '2016-03-31T00:00:00.000000000' '2016-04-19T00:00:00.000000000'\n",
            " '2016-04-06T00:00:00.000000000' '2016-04-18T00:00:00.000000000'\n",
            " '2016-04-11T00:00:00.000000000' '2016-04-12T00:00:00.000000000'\n",
            " '2016-04-15T00:00:00.000000000' '2016-04-01T00:00:00.000000000'\n",
            " '2016-04-05T00:00:00.000000000' '2016-04-08T00:00:00.000000000'\n",
            " '2016-04-14T00:00:00.000000000' '2016-04-13T00:00:00.000000000'\n",
            " '2016-04-07T00:00:00.000000000' '2016-03-17T00:00:00.000000000'\n",
            " '2016-03-30T00:00:00.000000000' '2016-03-29T00:00:00.000000000'\n",
            " '2016-03-18T00:00:00.000000000' '2016-03-28T00:00:00.000000000'\n",
            " '2016-03-04T00:00:00.000000000' '2016-03-15T00:00:00.000000000'\n",
            " '2016-03-14T00:00:00.000000000' '2016-03-21T00:00:00.000000000'\n",
            " '2016-03-23T00:00:00.000000000' '2016-03-22T00:00:00.000000000'\n",
            " '2016-03-16T00:00:00.000000000' '2016-03-10T00:00:00.000000000'\n",
            " '2016-02-29T00:00:00.000000000' '2016-03-08T00:00:00.000000000'\n",
            " '2016-03-07T00:00:00.000000000' '2016-02-24T00:00:00.000000000'\n",
            " '2016-02-22T00:00:00.000000000' '2016-01-29T00:00:00.000000000'\n",
            " '2016-02-23T00:00:00.000000000' '2016-02-05T00:00:00.000000000'\n",
            " '2016-02-11T00:00:00.000000000' '2016-02-02T00:00:00.000000000'\n",
            " '2016-01-05T00:00:00.000000000' '2016-01-11T00:00:00.000000000'\n",
            " '2016-02-26T00:00:00.000000000' '2016-02-19T00:00:00.000000000'\n",
            " '2016-02-17T00:00:00.000000000' '2016-03-03T00:00:00.000000000'\n",
            " '2016-03-02T00:00:00.000000000' '2016-03-09T00:00:00.000000000'\n",
            " '2016-03-01T00:00:00.000000000' '2016-03-19T00:00:00.000000000'\n",
            " '2016-03-11T00:00:00.000000000' '2016-02-16T00:00:00.000000000'\n",
            " '2016-02-25T00:00:00.000000000' '2016-04-09T00:00:00.000000000'\n",
            " '2016-05-24T00:00:00.000000000' '2016-05-25T00:00:00.000000000'\n",
            " '2016-05-31T00:00:00.000000000' '2016-05-17T00:00:00.000000000'\n",
            " '2016-05-30T00:00:00.000000000' '2016-05-12T00:00:00.000000000'\n",
            " '2016-05-19T00:00:00.000000000' '2016-05-10T00:00:00.000000000'\n",
            " '2016-05-02T00:00:00.000000000' '2016-05-16T00:00:00.000000000'\n",
            " '2016-05-04T00:00:00.000000000' '2016-05-13T00:00:00.000000000'\n",
            " '2016-05-20T00:00:00.000000000' '2016-05-05T00:00:00.000000000'\n",
            " '2016-05-18T00:00:00.000000000' '2016-05-06T00:00:00.000000000'\n",
            " '2016-05-09T00:00:00.000000000' '2016-05-03T00:00:00.000000000'\n",
            " '2016-05-11T00:00:00.000000000' '2015-11-10T00:00:00.000000000'\n",
            " '2016-02-18T00:00:00.000000000' '2016-02-03T00:00:00.000000000'\n",
            " '2016-01-14T00:00:00.000000000' '2016-01-21T00:00:00.000000000'\n",
            " '2016-01-28T00:00:00.000000000' '2016-02-01T00:00:00.000000000'\n",
            " '2015-12-14T00:00:00.000000000' '2015-12-08T00:00:00.000000000'\n",
            " '2016-01-07T00:00:00.000000000' '2016-04-30T00:00:00.000000000'\n",
            " '2016-04-16T00:00:00.000000000' '2016-02-04T00:00:00.000000000'\n",
            " '2015-12-03T00:00:00.000000000' '2016-01-04T00:00:00.000000000'\n",
            " '2016-01-13T00:00:00.000000000' '2016-02-12T00:00:00.000000000'\n",
            " '2016-01-20T00:00:00.000000000' '2016-01-22T00:00:00.000000000'\n",
            " '2016-01-25T00:00:00.000000000' '2016-01-27T00:00:00.000000000'\n",
            " '2016-01-19T00:00:00.000000000' '2016-02-15T00:00:00.000000000'\n",
            " '2016-05-14T00:00:00.000000000' '2016-05-07T00:00:00.000000000'\n",
            " '2016-06-02T00:00:00.000000000' '2016-06-03T00:00:00.000000000'\n",
            " '2016-06-01T00:00:00.000000000' '2016-06-06T00:00:00.000000000'\n",
            " '2016-06-07T00:00:00.000000000' '2016-06-08T00:00:00.000000000'\n",
            " '2016-06-04T00:00:00.000000000' '2016-01-26T00:00:00.000000000'\n",
            " '2015-12-07T00:00:00.000000000' '2015-12-15T00:00:00.000000000'\n",
            " '2016-03-05T00:00:00.000000000']\n",
            "----------------------------------------------------------------------------------------------------\n",
            "Unique Values in Appointment_Date Column\n",
            "----------------------------------------------------------------------------------------------------\n",
            "['2016-04-29T00:00:00.000000000' '2016-05-03T00:00:00.000000000'\n",
            " '2016-05-10T00:00:00.000000000' '2016-05-17T00:00:00.000000000'\n",
            " '2016-05-24T00:00:00.000000000' '2016-05-31T00:00:00.000000000'\n",
            " '2016-05-02T00:00:00.000000000' '2016-05-30T00:00:00.000000000'\n",
            " '2016-05-16T00:00:00.000000000' '2016-05-04T00:00:00.000000000'\n",
            " '2016-05-19T00:00:00.000000000' '2016-05-12T00:00:00.000000000'\n",
            " '2016-05-06T00:00:00.000000000' '2016-05-20T00:00:00.000000000'\n",
            " '2016-05-05T00:00:00.000000000' '2016-05-13T00:00:00.000000000'\n",
            " '2016-05-09T00:00:00.000000000' '2016-05-25T00:00:00.000000000'\n",
            " '2016-05-11T00:00:00.000000000' '2016-05-18T00:00:00.000000000'\n",
            " '2016-05-14T00:00:00.000000000' '2016-06-02T00:00:00.000000000'\n",
            " '2016-06-03T00:00:00.000000000' '2016-06-06T00:00:00.000000000'\n",
            " '2016-06-07T00:00:00.000000000' '2016-06-01T00:00:00.000000000'\n",
            " '2016-06-08T00:00:00.000000000']\n",
            "----------------------------------------------------------------------------------------------------\n",
            "Unique Values in Age Column\n",
            "----------------------------------------------------------------------------------------------------\n",
            "[ 62  56   8  76  23  39  21  19  30  29  22  28  54  15  50  40  46   4\n",
            "  13  65  45  51  32  12  61  38  79  18  63  64  85  59  55  71  49  78\n",
            "  31  58  27   6   2  11   7   0   3   1  69  68  60  67  36  10  35  20\n",
            "  26  34  33  16  42   5  47  17  41  44  37  24  66  77  81  70  53  75\n",
            "  73  52  74  43  89  57  14   9  48  83  72  25  80  87  88  84  82  90\n",
            "  94  86  91  98  92  96  93  95  97 102 115 100  99]\n",
            "----------------------------------------------------------------------------------------------------\n",
            "Unique Values in Neighbourhood Column\n",
            "----------------------------------------------------------------------------------------------------\n",
            "['JARDIM DA PENHA' 'MATA DA PRAIA' 'PONTAL DE CAMBURI' 'REPÚBLICA'\n",
            " 'GOIABEIRAS' 'ANDORINHAS' 'CONQUISTA' 'NOVA PALESTINA' 'DA PENHA'\n",
            " 'TABUAZEIRO' 'BENTO FERREIRA' 'SÃO PEDRO' 'SANTA MARTHA' 'SÃO CRISTÓVÃO'\n",
            " 'MARUÍPE' 'GRANDE VITÓRIA' 'SÃO BENEDITO' 'ILHA DAS CAIEIRAS'\n",
            " 'SANTO ANDRÉ' 'SOLON BORGES' 'BONFIM' 'JARDIM CAMBURI' 'MARIA ORTIZ'\n",
            " 'JABOUR' 'ANTÔNIO HONÓRIO' 'RESISTÊNCIA' 'ILHA DE SANTA MARIA'\n",
            " 'JUCUTUQUARA' 'MONTE BELO' 'MÁRIO CYPRESTE' 'SANTO ANTÔNIO' 'BELA VISTA'\n",
            " 'PRAIA DO SUÁ' 'SANTA HELENA' 'ITARARÉ' 'INHANGUETÁ' 'UNIVERSITÁRIO'\n",
            " 'SÃO JOSÉ' 'REDENÇÃO' 'SANTA CLARA' 'CENTRO' 'PARQUE MOSCOSO'\n",
            " 'DO MOSCOSO' 'SANTOS DUMONT' 'CARATOÍRA' 'ARIOVALDO FAVALESSA'\n",
            " 'ILHA DO FRADE' 'GURIGICA' 'JOANA D´ARC' 'CONSOLAÇÃO' 'PRAIA DO CANTO'\n",
            " 'BOA VISTA' 'MORADA DE CAMBURI' 'SANTA LUÍZA' 'SANTA LÚCIA'\n",
            " 'BARRO VERMELHO' 'ESTRELINHA' 'FORTE SÃO JOÃO' 'FONTE GRANDE'\n",
            " 'ENSEADA DO SUÁ' 'SANTOS REIS' 'PIEDADE' 'JESUS DE NAZARETH'\n",
            " 'SANTA TEREZA' 'CRUZAMENTO' 'ILHA DO PRÍNCIPE' 'ROMÃO' 'COMDUSA'\n",
            " 'SANTA CECÍLIA' 'VILA RUBIM' 'DE LOURDES' 'DO QUADRO' 'DO CABRAL' 'HORTO'\n",
            " 'SEGURANÇA DO LAR' 'ILHA DO BOI' 'FRADINHOS' 'NAZARETH' 'AEROPORTO'\n",
            " 'ILHAS OCEÂNICAS DE TRINDADE' 'PARQUE INDUSTRIAL']\n",
            "----------------------------------------------------------------------------------------------------\n",
            "Unique Values in Scholarship Column\n",
            "----------------------------------------------------------------------------------------------------\n",
            "['No' 'Yes']\n",
            "----------------------------------------------------------------------------------------------------\n",
            "Unique Values in Hipertension Column\n",
            "----------------------------------------------------------------------------------------------------\n",
            "['Yes' 'No']\n",
            "----------------------------------------------------------------------------------------------------\n",
            "Unique Values in Diabetes Column\n",
            "----------------------------------------------------------------------------------------------------\n",
            "['No' 'Yes']\n",
            "----------------------------------------------------------------------------------------------------\n",
            "Unique Values in Alcoholism Column\n",
            "----------------------------------------------------------------------------------------------------\n",
            "['No' 'Yes']\n",
            "----------------------------------------------------------------------------------------------------\n",
            "Unique Values in Handicap Column\n",
            "----------------------------------------------------------------------------------------------------\n",
            "['No' 'Yes']\n",
            "----------------------------------------------------------------------------------------------------\n",
            "Unique Values in SMS_received Column\n",
            "----------------------------------------------------------------------------------------------------\n",
            "['No' 'Yes']\n",
            "----------------------------------------------------------------------------------------------------\n",
            "Unique Values in No_show Column\n",
            "----------------------------------------------------------------------------------------------------\n",
            "['No' 'Yes']\n",
            "----------------------------------------------------------------------------------------------------\n",
            "Unique Values in Scheduled_Month_Name Column\n",
            "----------------------------------------------------------------------------------------------------\n",
            "['April' 'March' 'February' 'January' 'May' 'November' 'December' 'June']\n",
            "----------------------------------------------------------------------------------------------------\n",
            "Unique Values in Scheduled_Day Column\n",
            "----------------------------------------------------------------------------------------------------\n",
            "[29 27 26 28 25 20 31 19  6 18 11 12 15  1  5  8 14 13  7 17 30  4 21 23\n",
            " 22 16 10 24  2  3  9]\n",
            "----------------------------------------------------------------------------------------------------\n",
            "Unique Values in Scheduled_Day_Name Column\n",
            "----------------------------------------------------------------------------------------------------\n",
            "['Friday' 'Wednesday' 'Tuesday' 'Thursday' 'Monday' 'Saturday']\n",
            "----------------------------------------------------------------------------------------------------\n",
            "Unique Values in Scheduled_Hour Column\n",
            "----------------------------------------------------------------------------------------------------\n",
            "[18 16 17  8 15 12 14 11 10  9  7 13 19 20  6 21]\n",
            "----------------------------------------------------------------------------------------------------\n",
            "Unique Values in Appointment_Month_Name Column\n",
            "----------------------------------------------------------------------------------------------------\n",
            "['April' 'May' 'June']\n",
            "----------------------------------------------------------------------------------------------------\n",
            "Unique Values in Appointment_Day Column\n",
            "----------------------------------------------------------------------------------------------------\n",
            "[29  3 10 17 24 31  2 30 16  4 19 12  6 20  5 13  9 25 11 18 14  7  1  8]\n",
            "----------------------------------------------------------------------------------------------------\n",
            "Unique Values in Appointment_Day_Name Column\n",
            "----------------------------------------------------------------------------------------------------\n",
            "['Friday' 'Tuesday' 'Monday' 'Wednesday' 'Thursday' 'Saturday']\n",
            "----------------------------------------------------------------------------------------------------\n",
            "Unique Values in Appointment_Hour Column\n",
            "----------------------------------------------------------------------------------------------------\n",
            "[0]\n",
            "----------------------------------------------------------------------------------------------------\n",
            "Unique Values in Waiting_Days Column\n",
            "----------------------------------------------------------------------------------------------------\n",
            "[  0   2   3   1   4   9  29  10  23  11  18  17  14  28  24  21  15  16\n",
            "  22  43  30  31  42  32  56  45  46  39  37  38  44  50  60  52  53  65\n",
            "  67  91  66  84  78  87 115 109  63  70  72  57  58  51  59  41  49  73\n",
            "  64  20  33  34   6  35  36  12  13  40  47   8   5   7  25  26  48  27\n",
            "  19  61  55  62 176  54  77  69  83  76  89  81 103  79  68  75  85 112\n",
            "  80  86  98  94 142 155 162 169 104 133 125  96  88  90 151 126 127 111\n",
            " 119  74  71  82 108 110 102 122 101 105  92  97  93 107  95 139 132 179\n",
            " 117 146 123]\n",
            "----------------------------------------------------------------------------------------------------\n"
          ]
        }
      ]
    },
    {
      "cell_type": "code",
      "source": [
        "df"
      ],
      "metadata": {
        "colab": {
          "base_uri": "https://localhost:8080/",
          "height": 574
        },
        "id": "dsbzM4AutG0e",
        "outputId": "46bcb21c-6cb2-4a79-b9e6-dda0867fd380"
      },
      "execution_count": null,
      "outputs": [
        {
          "output_type": "execute_result",
          "data": {
            "text/html": [
              "\n",
              "  <div id=\"df-ffd8d867-756d-41d8-af54-cf6ec2b18df6\">\n",
              "    <div class=\"colab-df-container\">\n",
              "      <div>\n",
              "<style scoped>\n",
              "    .dataframe tbody tr th:only-of-type {\n",
              "        vertical-align: middle;\n",
              "    }\n",
              "\n",
              "    .dataframe tbody tr th {\n",
              "        vertical-align: top;\n",
              "    }\n",
              "\n",
              "    .dataframe thead th {\n",
              "        text-align: right;\n",
              "    }\n",
              "</style>\n",
              "<table border=\"1\" class=\"dataframe\">\n",
              "  <thead>\n",
              "    <tr style=\"text-align: right;\">\n",
              "      <th></th>\n",
              "      <th>PatientId</th>\n",
              "      <th>AppointmentID</th>\n",
              "      <th>Gender</th>\n",
              "      <th>Scheduled_Date</th>\n",
              "      <th>Appointment_Date</th>\n",
              "      <th>Age</th>\n",
              "      <th>Neighbourhood</th>\n",
              "      <th>Scholarship</th>\n",
              "      <th>Hipertension</th>\n",
              "      <th>Diabetes</th>\n",
              "      <th>...</th>\n",
              "      <th>No_show</th>\n",
              "      <th>Scheduled_Month_Name</th>\n",
              "      <th>Scheduled_Day</th>\n",
              "      <th>Scheduled_Day_Name</th>\n",
              "      <th>Scheduled_Hour</th>\n",
              "      <th>Appointment_Month_Name</th>\n",
              "      <th>Appointment_Day</th>\n",
              "      <th>Appointment_Day_Name</th>\n",
              "      <th>Appointment_Hour</th>\n",
              "      <th>Waiting_Days</th>\n",
              "    </tr>\n",
              "  </thead>\n",
              "  <tbody>\n",
              "    <tr>\n",
              "      <th>0</th>\n",
              "      <td>2.987250e+13</td>\n",
              "      <td>5642903</td>\n",
              "      <td>F</td>\n",
              "      <td>2016-04-29</td>\n",
              "      <td>2016-04-29</td>\n",
              "      <td>62</td>\n",
              "      <td>JARDIM DA PENHA</td>\n",
              "      <td>No</td>\n",
              "      <td>Yes</td>\n",
              "      <td>No</td>\n",
              "      <td>...</td>\n",
              "      <td>No</td>\n",
              "      <td>April</td>\n",
              "      <td>29</td>\n",
              "      <td>Friday</td>\n",
              "      <td>18</td>\n",
              "      <td>April</td>\n",
              "      <td>29</td>\n",
              "      <td>Friday</td>\n",
              "      <td>0</td>\n",
              "      <td>0</td>\n",
              "    </tr>\n",
              "    <tr>\n",
              "      <th>1</th>\n",
              "      <td>5.589978e+14</td>\n",
              "      <td>5642503</td>\n",
              "      <td>M</td>\n",
              "      <td>2016-04-29</td>\n",
              "      <td>2016-04-29</td>\n",
              "      <td>56</td>\n",
              "      <td>JARDIM DA PENHA</td>\n",
              "      <td>No</td>\n",
              "      <td>No</td>\n",
              "      <td>No</td>\n",
              "      <td>...</td>\n",
              "      <td>No</td>\n",
              "      <td>April</td>\n",
              "      <td>29</td>\n",
              "      <td>Friday</td>\n",
              "      <td>16</td>\n",
              "      <td>April</td>\n",
              "      <td>29</td>\n",
              "      <td>Friday</td>\n",
              "      <td>0</td>\n",
              "      <td>0</td>\n",
              "    </tr>\n",
              "    <tr>\n",
              "      <th>2</th>\n",
              "      <td>4.262962e+12</td>\n",
              "      <td>5642549</td>\n",
              "      <td>F</td>\n",
              "      <td>2016-04-29</td>\n",
              "      <td>2016-04-29</td>\n",
              "      <td>62</td>\n",
              "      <td>MATA DA PRAIA</td>\n",
              "      <td>No</td>\n",
              "      <td>No</td>\n",
              "      <td>No</td>\n",
              "      <td>...</td>\n",
              "      <td>No</td>\n",
              "      <td>April</td>\n",
              "      <td>29</td>\n",
              "      <td>Friday</td>\n",
              "      <td>16</td>\n",
              "      <td>April</td>\n",
              "      <td>29</td>\n",
              "      <td>Friday</td>\n",
              "      <td>0</td>\n",
              "      <td>0</td>\n",
              "    </tr>\n",
              "    <tr>\n",
              "      <th>3</th>\n",
              "      <td>8.679512e+11</td>\n",
              "      <td>5642828</td>\n",
              "      <td>F</td>\n",
              "      <td>2016-04-29</td>\n",
              "      <td>2016-04-29</td>\n",
              "      <td>8</td>\n",
              "      <td>PONTAL DE CAMBURI</td>\n",
              "      <td>No</td>\n",
              "      <td>No</td>\n",
              "      <td>No</td>\n",
              "      <td>...</td>\n",
              "      <td>No</td>\n",
              "      <td>April</td>\n",
              "      <td>29</td>\n",
              "      <td>Friday</td>\n",
              "      <td>17</td>\n",
              "      <td>April</td>\n",
              "      <td>29</td>\n",
              "      <td>Friday</td>\n",
              "      <td>0</td>\n",
              "      <td>0</td>\n",
              "    </tr>\n",
              "    <tr>\n",
              "      <th>4</th>\n",
              "      <td>8.841186e+12</td>\n",
              "      <td>5642494</td>\n",
              "      <td>F</td>\n",
              "      <td>2016-04-29</td>\n",
              "      <td>2016-04-29</td>\n",
              "      <td>56</td>\n",
              "      <td>JARDIM DA PENHA</td>\n",
              "      <td>No</td>\n",
              "      <td>Yes</td>\n",
              "      <td>Yes</td>\n",
              "      <td>...</td>\n",
              "      <td>No</td>\n",
              "      <td>April</td>\n",
              "      <td>29</td>\n",
              "      <td>Friday</td>\n",
              "      <td>16</td>\n",
              "      <td>April</td>\n",
              "      <td>29</td>\n",
              "      <td>Friday</td>\n",
              "      <td>0</td>\n",
              "      <td>0</td>\n",
              "    </tr>\n",
              "    <tr>\n",
              "      <th>...</th>\n",
              "      <td>...</td>\n",
              "      <td>...</td>\n",
              "      <td>...</td>\n",
              "      <td>...</td>\n",
              "      <td>...</td>\n",
              "      <td>...</td>\n",
              "      <td>...</td>\n",
              "      <td>...</td>\n",
              "      <td>...</td>\n",
              "      <td>...</td>\n",
              "      <td>...</td>\n",
              "      <td>...</td>\n",
              "      <td>...</td>\n",
              "      <td>...</td>\n",
              "      <td>...</td>\n",
              "      <td>...</td>\n",
              "      <td>...</td>\n",
              "      <td>...</td>\n",
              "      <td>...</td>\n",
              "      <td>...</td>\n",
              "      <td>...</td>\n",
              "    </tr>\n",
              "    <tr>\n",
              "      <th>110522</th>\n",
              "      <td>2.572134e+12</td>\n",
              "      <td>5651768</td>\n",
              "      <td>F</td>\n",
              "      <td>2016-05-03</td>\n",
              "      <td>2016-06-07</td>\n",
              "      <td>56</td>\n",
              "      <td>MARIA ORTIZ</td>\n",
              "      <td>No</td>\n",
              "      <td>No</td>\n",
              "      <td>No</td>\n",
              "      <td>...</td>\n",
              "      <td>No</td>\n",
              "      <td>May</td>\n",
              "      <td>3</td>\n",
              "      <td>Tuesday</td>\n",
              "      <td>9</td>\n",
              "      <td>June</td>\n",
              "      <td>7</td>\n",
              "      <td>Tuesday</td>\n",
              "      <td>0</td>\n",
              "      <td>35</td>\n",
              "    </tr>\n",
              "    <tr>\n",
              "      <th>110523</th>\n",
              "      <td>3.596266e+12</td>\n",
              "      <td>5650093</td>\n",
              "      <td>F</td>\n",
              "      <td>2016-05-03</td>\n",
              "      <td>2016-06-07</td>\n",
              "      <td>51</td>\n",
              "      <td>MARIA ORTIZ</td>\n",
              "      <td>No</td>\n",
              "      <td>No</td>\n",
              "      <td>No</td>\n",
              "      <td>...</td>\n",
              "      <td>No</td>\n",
              "      <td>May</td>\n",
              "      <td>3</td>\n",
              "      <td>Tuesday</td>\n",
              "      <td>7</td>\n",
              "      <td>June</td>\n",
              "      <td>7</td>\n",
              "      <td>Tuesday</td>\n",
              "      <td>0</td>\n",
              "      <td>35</td>\n",
              "    </tr>\n",
              "    <tr>\n",
              "      <th>110524</th>\n",
              "      <td>1.557663e+13</td>\n",
              "      <td>5630692</td>\n",
              "      <td>F</td>\n",
              "      <td>2016-04-27</td>\n",
              "      <td>2016-06-07</td>\n",
              "      <td>21</td>\n",
              "      <td>MARIA ORTIZ</td>\n",
              "      <td>No</td>\n",
              "      <td>No</td>\n",
              "      <td>No</td>\n",
              "      <td>...</td>\n",
              "      <td>No</td>\n",
              "      <td>April</td>\n",
              "      <td>27</td>\n",
              "      <td>Wednesday</td>\n",
              "      <td>16</td>\n",
              "      <td>June</td>\n",
              "      <td>7</td>\n",
              "      <td>Tuesday</td>\n",
              "      <td>0</td>\n",
              "      <td>41</td>\n",
              "    </tr>\n",
              "    <tr>\n",
              "      <th>110525</th>\n",
              "      <td>9.213493e+13</td>\n",
              "      <td>5630323</td>\n",
              "      <td>F</td>\n",
              "      <td>2016-04-27</td>\n",
              "      <td>2016-06-07</td>\n",
              "      <td>38</td>\n",
              "      <td>MARIA ORTIZ</td>\n",
              "      <td>No</td>\n",
              "      <td>No</td>\n",
              "      <td>No</td>\n",
              "      <td>...</td>\n",
              "      <td>No</td>\n",
              "      <td>April</td>\n",
              "      <td>27</td>\n",
              "      <td>Wednesday</td>\n",
              "      <td>15</td>\n",
              "      <td>June</td>\n",
              "      <td>7</td>\n",
              "      <td>Tuesday</td>\n",
              "      <td>0</td>\n",
              "      <td>41</td>\n",
              "    </tr>\n",
              "    <tr>\n",
              "      <th>110526</th>\n",
              "      <td>3.775115e+14</td>\n",
              "      <td>5629448</td>\n",
              "      <td>F</td>\n",
              "      <td>2016-04-27</td>\n",
              "      <td>2016-06-07</td>\n",
              "      <td>54</td>\n",
              "      <td>MARIA ORTIZ</td>\n",
              "      <td>No</td>\n",
              "      <td>No</td>\n",
              "      <td>No</td>\n",
              "      <td>...</td>\n",
              "      <td>No</td>\n",
              "      <td>April</td>\n",
              "      <td>27</td>\n",
              "      <td>Wednesday</td>\n",
              "      <td>13</td>\n",
              "      <td>June</td>\n",
              "      <td>7</td>\n",
              "      <td>Tuesday</td>\n",
              "      <td>0</td>\n",
              "      <td>41</td>\n",
              "    </tr>\n",
              "  </tbody>\n",
              "</table>\n",
              "<p>110521 rows × 23 columns</p>\n",
              "</div>\n",
              "      <button class=\"colab-df-convert\" onclick=\"convertToInteractive('df-ffd8d867-756d-41d8-af54-cf6ec2b18df6')\"\n",
              "              title=\"Convert this dataframe to an interactive table.\"\n",
              "              style=\"display:none;\">\n",
              "        \n",
              "  <svg xmlns=\"http://www.w3.org/2000/svg\" height=\"24px\"viewBox=\"0 0 24 24\"\n",
              "       width=\"24px\">\n",
              "    <path d=\"M0 0h24v24H0V0z\" fill=\"none\"/>\n",
              "    <path d=\"M18.56 5.44l.94 2.06.94-2.06 2.06-.94-2.06-.94-.94-2.06-.94 2.06-2.06.94zm-11 1L8.5 8.5l.94-2.06 2.06-.94-2.06-.94L8.5 2.5l-.94 2.06-2.06.94zm10 10l.94 2.06.94-2.06 2.06-.94-2.06-.94-.94-2.06-.94 2.06-2.06.94z\"/><path d=\"M17.41 7.96l-1.37-1.37c-.4-.4-.92-.59-1.43-.59-.52 0-1.04.2-1.43.59L10.3 9.45l-7.72 7.72c-.78.78-.78 2.05 0 2.83L4 21.41c.39.39.9.59 1.41.59.51 0 1.02-.2 1.41-.59l7.78-7.78 2.81-2.81c.8-.78.8-2.07 0-2.86zM5.41 20L4 18.59l7.72-7.72 1.47 1.35L5.41 20z\"/>\n",
              "  </svg>\n",
              "      </button>\n",
              "      \n",
              "  <style>\n",
              "    .colab-df-container {\n",
              "      display:flex;\n",
              "      flex-wrap:wrap;\n",
              "      gap: 12px;\n",
              "    }\n",
              "\n",
              "    .colab-df-convert {\n",
              "      background-color: #E8F0FE;\n",
              "      border: none;\n",
              "      border-radius: 50%;\n",
              "      cursor: pointer;\n",
              "      display: none;\n",
              "      fill: #1967D2;\n",
              "      height: 32px;\n",
              "      padding: 0 0 0 0;\n",
              "      width: 32px;\n",
              "    }\n",
              "\n",
              "    .colab-df-convert:hover {\n",
              "      background-color: #E2EBFA;\n",
              "      box-shadow: 0px 1px 2px rgba(60, 64, 67, 0.3), 0px 1px 3px 1px rgba(60, 64, 67, 0.15);\n",
              "      fill: #174EA6;\n",
              "    }\n",
              "\n",
              "    [theme=dark] .colab-df-convert {\n",
              "      background-color: #3B4455;\n",
              "      fill: #D2E3FC;\n",
              "    }\n",
              "\n",
              "    [theme=dark] .colab-df-convert:hover {\n",
              "      background-color: #434B5C;\n",
              "      box-shadow: 0px 1px 3px 1px rgba(0, 0, 0, 0.15);\n",
              "      filter: drop-shadow(0px 1px 2px rgba(0, 0, 0, 0.3));\n",
              "      fill: #FFFFFF;\n",
              "    }\n",
              "  </style>\n",
              "\n",
              "      <script>\n",
              "        const buttonEl =\n",
              "          document.querySelector('#df-ffd8d867-756d-41d8-af54-cf6ec2b18df6 button.colab-df-convert');\n",
              "        buttonEl.style.display =\n",
              "          google.colab.kernel.accessAllowed ? 'block' : 'none';\n",
              "\n",
              "        async function convertToInteractive(key) {\n",
              "          const element = document.querySelector('#df-ffd8d867-756d-41d8-af54-cf6ec2b18df6');\n",
              "          const dataTable =\n",
              "            await google.colab.kernel.invokeFunction('convertToInteractive',\n",
              "                                                     [key], {});\n",
              "          if (!dataTable) return;\n",
              "\n",
              "          const docLinkHtml = 'Like what you see? Visit the ' +\n",
              "            '<a target=\"_blank\" href=https://colab.research.google.com/notebooks/data_table.ipynb>data table notebook</a>'\n",
              "            + ' to learn more about interactive tables.';\n",
              "          element.innerHTML = '';\n",
              "          dataTable['output_type'] = 'display_data';\n",
              "          await google.colab.output.renderOutput(dataTable, element);\n",
              "          const docLink = document.createElement('div');\n",
              "          docLink.innerHTML = docLinkHtml;\n",
              "          element.appendChild(docLink);\n",
              "        }\n",
              "      </script>\n",
              "    </div>\n",
              "  </div>\n",
              "  "
            ],
            "text/plain": [
              "           PatientId  AppointmentID Gender Scheduled_Date Appointment_Date  \\\n",
              "0       2.987250e+13        5642903      F     2016-04-29       2016-04-29   \n",
              "1       5.589978e+14        5642503      M     2016-04-29       2016-04-29   \n",
              "2       4.262962e+12        5642549      F     2016-04-29       2016-04-29   \n",
              "3       8.679512e+11        5642828      F     2016-04-29       2016-04-29   \n",
              "4       8.841186e+12        5642494      F     2016-04-29       2016-04-29   \n",
              "...              ...            ...    ...            ...              ...   \n",
              "110522  2.572134e+12        5651768      F     2016-05-03       2016-06-07   \n",
              "110523  3.596266e+12        5650093      F     2016-05-03       2016-06-07   \n",
              "110524  1.557663e+13        5630692      F     2016-04-27       2016-06-07   \n",
              "110525  9.213493e+13        5630323      F     2016-04-27       2016-06-07   \n",
              "110526  3.775115e+14        5629448      F     2016-04-27       2016-06-07   \n",
              "\n",
              "        Age      Neighbourhood Scholarship Hipertension Diabetes  ... No_show  \\\n",
              "0        62    JARDIM DA PENHA          No          Yes       No  ...      No   \n",
              "1        56    JARDIM DA PENHA          No           No       No  ...      No   \n",
              "2        62      MATA DA PRAIA          No           No       No  ...      No   \n",
              "3         8  PONTAL DE CAMBURI          No           No       No  ...      No   \n",
              "4        56    JARDIM DA PENHA          No          Yes      Yes  ...      No   \n",
              "...     ...                ...         ...          ...      ...  ...     ...   \n",
              "110522   56        MARIA ORTIZ          No           No       No  ...      No   \n",
              "110523   51        MARIA ORTIZ          No           No       No  ...      No   \n",
              "110524   21        MARIA ORTIZ          No           No       No  ...      No   \n",
              "110525   38        MARIA ORTIZ          No           No       No  ...      No   \n",
              "110526   54        MARIA ORTIZ          No           No       No  ...      No   \n",
              "\n",
              "       Scheduled_Month_Name Scheduled_Day Scheduled_Day_Name Scheduled_Hour  \\\n",
              "0                     April            29             Friday             18   \n",
              "1                     April            29             Friday             16   \n",
              "2                     April            29             Friday             16   \n",
              "3                     April            29             Friday             17   \n",
              "4                     April            29             Friday             16   \n",
              "...                     ...           ...                ...            ...   \n",
              "110522                  May             3            Tuesday              9   \n",
              "110523                  May             3            Tuesday              7   \n",
              "110524                April            27          Wednesday             16   \n",
              "110525                April            27          Wednesday             15   \n",
              "110526                April            27          Wednesday             13   \n",
              "\n",
              "        Appointment_Month_Name Appointment_Day  Appointment_Day_Name  \\\n",
              "0                        April              29                Friday   \n",
              "1                        April              29                Friday   \n",
              "2                        April              29                Friday   \n",
              "3                        April              29                Friday   \n",
              "4                        April              29                Friday   \n",
              "...                        ...             ...                   ...   \n",
              "110522                    June               7               Tuesday   \n",
              "110523                    June               7               Tuesday   \n",
              "110524                    June               7               Tuesday   \n",
              "110525                    June               7               Tuesday   \n",
              "110526                    June               7               Tuesday   \n",
              "\n",
              "       Appointment_Hour  Waiting_Days  \n",
              "0                     0             0  \n",
              "1                     0             0  \n",
              "2                     0             0  \n",
              "3                     0             0  \n",
              "4                     0             0  \n",
              "...                 ...           ...  \n",
              "110522                0            35  \n",
              "110523                0            35  \n",
              "110524                0            41  \n",
              "110525                0            41  \n",
              "110526                0            41  \n",
              "\n",
              "[110521 rows x 23 columns]"
            ]
          },
          "metadata": {},
          "execution_count": 33
        }
      ]
    },
    {
      "cell_type": "markdown",
      "source": [
        "### Removing uneeded Columns"
      ],
      "metadata": {
        "id": "8Oc_vv4ofyy7"
      }
    },
    {
      "cell_type": "code",
      "source": [
        "# Dropping uneeded Columns\n",
        "df.drop(columns=['PatientId','AppointmentID'],axis = 1 , inplace = True)"
      ],
      "metadata": {
        "id": "4cz5fqxLSAVF"
      },
      "execution_count": null,
      "outputs": []
    },
    {
      "cell_type": "code",
      "source": [
        "df"
      ],
      "metadata": {
        "colab": {
          "base_uri": "https://localhost:8080/",
          "height": 574
        },
        "id": "8zRgYrl0ttlB",
        "outputId": "c8ad9475-4a97-4b3d-ff78-2d369813bfca"
      },
      "execution_count": null,
      "outputs": [
        {
          "output_type": "execute_result",
          "data": {
            "text/html": [
              "\n",
              "  <div id=\"df-677779dc-d778-44c7-aa63-4ca07505d2d7\">\n",
              "    <div class=\"colab-df-container\">\n",
              "      <div>\n",
              "<style scoped>\n",
              "    .dataframe tbody tr th:only-of-type {\n",
              "        vertical-align: middle;\n",
              "    }\n",
              "\n",
              "    .dataframe tbody tr th {\n",
              "        vertical-align: top;\n",
              "    }\n",
              "\n",
              "    .dataframe thead th {\n",
              "        text-align: right;\n",
              "    }\n",
              "</style>\n",
              "<table border=\"1\" class=\"dataframe\">\n",
              "  <thead>\n",
              "    <tr style=\"text-align: right;\">\n",
              "      <th></th>\n",
              "      <th>Gender</th>\n",
              "      <th>Scheduled_Date</th>\n",
              "      <th>Appointment_Date</th>\n",
              "      <th>Age</th>\n",
              "      <th>Neighbourhood</th>\n",
              "      <th>Scholarship</th>\n",
              "      <th>Hipertension</th>\n",
              "      <th>Diabetes</th>\n",
              "      <th>Alcoholism</th>\n",
              "      <th>Handicap</th>\n",
              "      <th>...</th>\n",
              "      <th>No_show</th>\n",
              "      <th>Scheduled_Month_Name</th>\n",
              "      <th>Scheduled_Day</th>\n",
              "      <th>Scheduled_Day_Name</th>\n",
              "      <th>Scheduled_Hour</th>\n",
              "      <th>Appointment_Month_Name</th>\n",
              "      <th>Appointment_Day</th>\n",
              "      <th>Appointment_Day_Name</th>\n",
              "      <th>Appointment_Hour</th>\n",
              "      <th>Waiting_Days</th>\n",
              "    </tr>\n",
              "  </thead>\n",
              "  <tbody>\n",
              "    <tr>\n",
              "      <th>0</th>\n",
              "      <td>F</td>\n",
              "      <td>2016-04-29</td>\n",
              "      <td>2016-04-29</td>\n",
              "      <td>62</td>\n",
              "      <td>JARDIM DA PENHA</td>\n",
              "      <td>No</td>\n",
              "      <td>Yes</td>\n",
              "      <td>No</td>\n",
              "      <td>No</td>\n",
              "      <td>No</td>\n",
              "      <td>...</td>\n",
              "      <td>No</td>\n",
              "      <td>April</td>\n",
              "      <td>29</td>\n",
              "      <td>Friday</td>\n",
              "      <td>18</td>\n",
              "      <td>April</td>\n",
              "      <td>29</td>\n",
              "      <td>Friday</td>\n",
              "      <td>0</td>\n",
              "      <td>0</td>\n",
              "    </tr>\n",
              "    <tr>\n",
              "      <th>1</th>\n",
              "      <td>M</td>\n",
              "      <td>2016-04-29</td>\n",
              "      <td>2016-04-29</td>\n",
              "      <td>56</td>\n",
              "      <td>JARDIM DA PENHA</td>\n",
              "      <td>No</td>\n",
              "      <td>No</td>\n",
              "      <td>No</td>\n",
              "      <td>No</td>\n",
              "      <td>No</td>\n",
              "      <td>...</td>\n",
              "      <td>No</td>\n",
              "      <td>April</td>\n",
              "      <td>29</td>\n",
              "      <td>Friday</td>\n",
              "      <td>16</td>\n",
              "      <td>April</td>\n",
              "      <td>29</td>\n",
              "      <td>Friday</td>\n",
              "      <td>0</td>\n",
              "      <td>0</td>\n",
              "    </tr>\n",
              "    <tr>\n",
              "      <th>2</th>\n",
              "      <td>F</td>\n",
              "      <td>2016-04-29</td>\n",
              "      <td>2016-04-29</td>\n",
              "      <td>62</td>\n",
              "      <td>MATA DA PRAIA</td>\n",
              "      <td>No</td>\n",
              "      <td>No</td>\n",
              "      <td>No</td>\n",
              "      <td>No</td>\n",
              "      <td>No</td>\n",
              "      <td>...</td>\n",
              "      <td>No</td>\n",
              "      <td>April</td>\n",
              "      <td>29</td>\n",
              "      <td>Friday</td>\n",
              "      <td>16</td>\n",
              "      <td>April</td>\n",
              "      <td>29</td>\n",
              "      <td>Friday</td>\n",
              "      <td>0</td>\n",
              "      <td>0</td>\n",
              "    </tr>\n",
              "    <tr>\n",
              "      <th>3</th>\n",
              "      <td>F</td>\n",
              "      <td>2016-04-29</td>\n",
              "      <td>2016-04-29</td>\n",
              "      <td>8</td>\n",
              "      <td>PONTAL DE CAMBURI</td>\n",
              "      <td>No</td>\n",
              "      <td>No</td>\n",
              "      <td>No</td>\n",
              "      <td>No</td>\n",
              "      <td>No</td>\n",
              "      <td>...</td>\n",
              "      <td>No</td>\n",
              "      <td>April</td>\n",
              "      <td>29</td>\n",
              "      <td>Friday</td>\n",
              "      <td>17</td>\n",
              "      <td>April</td>\n",
              "      <td>29</td>\n",
              "      <td>Friday</td>\n",
              "      <td>0</td>\n",
              "      <td>0</td>\n",
              "    </tr>\n",
              "    <tr>\n",
              "      <th>4</th>\n",
              "      <td>F</td>\n",
              "      <td>2016-04-29</td>\n",
              "      <td>2016-04-29</td>\n",
              "      <td>56</td>\n",
              "      <td>JARDIM DA PENHA</td>\n",
              "      <td>No</td>\n",
              "      <td>Yes</td>\n",
              "      <td>Yes</td>\n",
              "      <td>No</td>\n",
              "      <td>No</td>\n",
              "      <td>...</td>\n",
              "      <td>No</td>\n",
              "      <td>April</td>\n",
              "      <td>29</td>\n",
              "      <td>Friday</td>\n",
              "      <td>16</td>\n",
              "      <td>April</td>\n",
              "      <td>29</td>\n",
              "      <td>Friday</td>\n",
              "      <td>0</td>\n",
              "      <td>0</td>\n",
              "    </tr>\n",
              "    <tr>\n",
              "      <th>...</th>\n",
              "      <td>...</td>\n",
              "      <td>...</td>\n",
              "      <td>...</td>\n",
              "      <td>...</td>\n",
              "      <td>...</td>\n",
              "      <td>...</td>\n",
              "      <td>...</td>\n",
              "      <td>...</td>\n",
              "      <td>...</td>\n",
              "      <td>...</td>\n",
              "      <td>...</td>\n",
              "      <td>...</td>\n",
              "      <td>...</td>\n",
              "      <td>...</td>\n",
              "      <td>...</td>\n",
              "      <td>...</td>\n",
              "      <td>...</td>\n",
              "      <td>...</td>\n",
              "      <td>...</td>\n",
              "      <td>...</td>\n",
              "      <td>...</td>\n",
              "    </tr>\n",
              "    <tr>\n",
              "      <th>110522</th>\n",
              "      <td>F</td>\n",
              "      <td>2016-05-03</td>\n",
              "      <td>2016-06-07</td>\n",
              "      <td>56</td>\n",
              "      <td>MARIA ORTIZ</td>\n",
              "      <td>No</td>\n",
              "      <td>No</td>\n",
              "      <td>No</td>\n",
              "      <td>No</td>\n",
              "      <td>No</td>\n",
              "      <td>...</td>\n",
              "      <td>No</td>\n",
              "      <td>May</td>\n",
              "      <td>3</td>\n",
              "      <td>Tuesday</td>\n",
              "      <td>9</td>\n",
              "      <td>June</td>\n",
              "      <td>7</td>\n",
              "      <td>Tuesday</td>\n",
              "      <td>0</td>\n",
              "      <td>35</td>\n",
              "    </tr>\n",
              "    <tr>\n",
              "      <th>110523</th>\n",
              "      <td>F</td>\n",
              "      <td>2016-05-03</td>\n",
              "      <td>2016-06-07</td>\n",
              "      <td>51</td>\n",
              "      <td>MARIA ORTIZ</td>\n",
              "      <td>No</td>\n",
              "      <td>No</td>\n",
              "      <td>No</td>\n",
              "      <td>No</td>\n",
              "      <td>No</td>\n",
              "      <td>...</td>\n",
              "      <td>No</td>\n",
              "      <td>May</td>\n",
              "      <td>3</td>\n",
              "      <td>Tuesday</td>\n",
              "      <td>7</td>\n",
              "      <td>June</td>\n",
              "      <td>7</td>\n",
              "      <td>Tuesday</td>\n",
              "      <td>0</td>\n",
              "      <td>35</td>\n",
              "    </tr>\n",
              "    <tr>\n",
              "      <th>110524</th>\n",
              "      <td>F</td>\n",
              "      <td>2016-04-27</td>\n",
              "      <td>2016-06-07</td>\n",
              "      <td>21</td>\n",
              "      <td>MARIA ORTIZ</td>\n",
              "      <td>No</td>\n",
              "      <td>No</td>\n",
              "      <td>No</td>\n",
              "      <td>No</td>\n",
              "      <td>No</td>\n",
              "      <td>...</td>\n",
              "      <td>No</td>\n",
              "      <td>April</td>\n",
              "      <td>27</td>\n",
              "      <td>Wednesday</td>\n",
              "      <td>16</td>\n",
              "      <td>June</td>\n",
              "      <td>7</td>\n",
              "      <td>Tuesday</td>\n",
              "      <td>0</td>\n",
              "      <td>41</td>\n",
              "    </tr>\n",
              "    <tr>\n",
              "      <th>110525</th>\n",
              "      <td>F</td>\n",
              "      <td>2016-04-27</td>\n",
              "      <td>2016-06-07</td>\n",
              "      <td>38</td>\n",
              "      <td>MARIA ORTIZ</td>\n",
              "      <td>No</td>\n",
              "      <td>No</td>\n",
              "      <td>No</td>\n",
              "      <td>No</td>\n",
              "      <td>No</td>\n",
              "      <td>...</td>\n",
              "      <td>No</td>\n",
              "      <td>April</td>\n",
              "      <td>27</td>\n",
              "      <td>Wednesday</td>\n",
              "      <td>15</td>\n",
              "      <td>June</td>\n",
              "      <td>7</td>\n",
              "      <td>Tuesday</td>\n",
              "      <td>0</td>\n",
              "      <td>41</td>\n",
              "    </tr>\n",
              "    <tr>\n",
              "      <th>110526</th>\n",
              "      <td>F</td>\n",
              "      <td>2016-04-27</td>\n",
              "      <td>2016-06-07</td>\n",
              "      <td>54</td>\n",
              "      <td>MARIA ORTIZ</td>\n",
              "      <td>No</td>\n",
              "      <td>No</td>\n",
              "      <td>No</td>\n",
              "      <td>No</td>\n",
              "      <td>No</td>\n",
              "      <td>...</td>\n",
              "      <td>No</td>\n",
              "      <td>April</td>\n",
              "      <td>27</td>\n",
              "      <td>Wednesday</td>\n",
              "      <td>13</td>\n",
              "      <td>June</td>\n",
              "      <td>7</td>\n",
              "      <td>Tuesday</td>\n",
              "      <td>0</td>\n",
              "      <td>41</td>\n",
              "    </tr>\n",
              "  </tbody>\n",
              "</table>\n",
              "<p>110521 rows × 21 columns</p>\n",
              "</div>\n",
              "      <button class=\"colab-df-convert\" onclick=\"convertToInteractive('df-677779dc-d778-44c7-aa63-4ca07505d2d7')\"\n",
              "              title=\"Convert this dataframe to an interactive table.\"\n",
              "              style=\"display:none;\">\n",
              "        \n",
              "  <svg xmlns=\"http://www.w3.org/2000/svg\" height=\"24px\"viewBox=\"0 0 24 24\"\n",
              "       width=\"24px\">\n",
              "    <path d=\"M0 0h24v24H0V0z\" fill=\"none\"/>\n",
              "    <path d=\"M18.56 5.44l.94 2.06.94-2.06 2.06-.94-2.06-.94-.94-2.06-.94 2.06-2.06.94zm-11 1L8.5 8.5l.94-2.06 2.06-.94-2.06-.94L8.5 2.5l-.94 2.06-2.06.94zm10 10l.94 2.06.94-2.06 2.06-.94-2.06-.94-.94-2.06-.94 2.06-2.06.94z\"/><path d=\"M17.41 7.96l-1.37-1.37c-.4-.4-.92-.59-1.43-.59-.52 0-1.04.2-1.43.59L10.3 9.45l-7.72 7.72c-.78.78-.78 2.05 0 2.83L4 21.41c.39.39.9.59 1.41.59.51 0 1.02-.2 1.41-.59l7.78-7.78 2.81-2.81c.8-.78.8-2.07 0-2.86zM5.41 20L4 18.59l7.72-7.72 1.47 1.35L5.41 20z\"/>\n",
              "  </svg>\n",
              "      </button>\n",
              "      \n",
              "  <style>\n",
              "    .colab-df-container {\n",
              "      display:flex;\n",
              "      flex-wrap:wrap;\n",
              "      gap: 12px;\n",
              "    }\n",
              "\n",
              "    .colab-df-convert {\n",
              "      background-color: #E8F0FE;\n",
              "      border: none;\n",
              "      border-radius: 50%;\n",
              "      cursor: pointer;\n",
              "      display: none;\n",
              "      fill: #1967D2;\n",
              "      height: 32px;\n",
              "      padding: 0 0 0 0;\n",
              "      width: 32px;\n",
              "    }\n",
              "\n",
              "    .colab-df-convert:hover {\n",
              "      background-color: #E2EBFA;\n",
              "      box-shadow: 0px 1px 2px rgba(60, 64, 67, 0.3), 0px 1px 3px 1px rgba(60, 64, 67, 0.15);\n",
              "      fill: #174EA6;\n",
              "    }\n",
              "\n",
              "    [theme=dark] .colab-df-convert {\n",
              "      background-color: #3B4455;\n",
              "      fill: #D2E3FC;\n",
              "    }\n",
              "\n",
              "    [theme=dark] .colab-df-convert:hover {\n",
              "      background-color: #434B5C;\n",
              "      box-shadow: 0px 1px 3px 1px rgba(0, 0, 0, 0.15);\n",
              "      filter: drop-shadow(0px 1px 2px rgba(0, 0, 0, 0.3));\n",
              "      fill: #FFFFFF;\n",
              "    }\n",
              "  </style>\n",
              "\n",
              "      <script>\n",
              "        const buttonEl =\n",
              "          document.querySelector('#df-677779dc-d778-44c7-aa63-4ca07505d2d7 button.colab-df-convert');\n",
              "        buttonEl.style.display =\n",
              "          google.colab.kernel.accessAllowed ? 'block' : 'none';\n",
              "\n",
              "        async function convertToInteractive(key) {\n",
              "          const element = document.querySelector('#df-677779dc-d778-44c7-aa63-4ca07505d2d7');\n",
              "          const dataTable =\n",
              "            await google.colab.kernel.invokeFunction('convertToInteractive',\n",
              "                                                     [key], {});\n",
              "          if (!dataTable) return;\n",
              "\n",
              "          const docLinkHtml = 'Like what you see? Visit the ' +\n",
              "            '<a target=\"_blank\" href=https://colab.research.google.com/notebooks/data_table.ipynb>data table notebook</a>'\n",
              "            + ' to learn more about interactive tables.';\n",
              "          element.innerHTML = '';\n",
              "          dataTable['output_type'] = 'display_data';\n",
              "          await google.colab.output.renderOutput(dataTable, element);\n",
              "          const docLink = document.createElement('div');\n",
              "          docLink.innerHTML = docLinkHtml;\n",
              "          element.appendChild(docLink);\n",
              "        }\n",
              "      </script>\n",
              "    </div>\n",
              "  </div>\n",
              "  "
            ],
            "text/plain": [
              "       Gender Scheduled_Date Appointment_Date  Age      Neighbourhood  \\\n",
              "0           F     2016-04-29       2016-04-29   62    JARDIM DA PENHA   \n",
              "1           M     2016-04-29       2016-04-29   56    JARDIM DA PENHA   \n",
              "2           F     2016-04-29       2016-04-29   62      MATA DA PRAIA   \n",
              "3           F     2016-04-29       2016-04-29    8  PONTAL DE CAMBURI   \n",
              "4           F     2016-04-29       2016-04-29   56    JARDIM DA PENHA   \n",
              "...       ...            ...              ...  ...                ...   \n",
              "110522      F     2016-05-03       2016-06-07   56        MARIA ORTIZ   \n",
              "110523      F     2016-05-03       2016-06-07   51        MARIA ORTIZ   \n",
              "110524      F     2016-04-27       2016-06-07   21        MARIA ORTIZ   \n",
              "110525      F     2016-04-27       2016-06-07   38        MARIA ORTIZ   \n",
              "110526      F     2016-04-27       2016-06-07   54        MARIA ORTIZ   \n",
              "\n",
              "       Scholarship Hipertension Diabetes Alcoholism Handicap  ... No_show  \\\n",
              "0               No          Yes       No         No       No  ...      No   \n",
              "1               No           No       No         No       No  ...      No   \n",
              "2               No           No       No         No       No  ...      No   \n",
              "3               No           No       No         No       No  ...      No   \n",
              "4               No          Yes      Yes         No       No  ...      No   \n",
              "...            ...          ...      ...        ...      ...  ...     ...   \n",
              "110522          No           No       No         No       No  ...      No   \n",
              "110523          No           No       No         No       No  ...      No   \n",
              "110524          No           No       No         No       No  ...      No   \n",
              "110525          No           No       No         No       No  ...      No   \n",
              "110526          No           No       No         No       No  ...      No   \n",
              "\n",
              "       Scheduled_Month_Name Scheduled_Day  Scheduled_Day_Name Scheduled_Hour  \\\n",
              "0                     April            29              Friday             18   \n",
              "1                     April            29              Friday             16   \n",
              "2                     April            29              Friday             16   \n",
              "3                     April            29              Friday             17   \n",
              "4                     April            29              Friday             16   \n",
              "...                     ...           ...                 ...            ...   \n",
              "110522                  May             3             Tuesday              9   \n",
              "110523                  May             3             Tuesday              7   \n",
              "110524                April            27           Wednesday             16   \n",
              "110525                April            27           Wednesday             15   \n",
              "110526                April            27           Wednesday             13   \n",
              "\n",
              "        Appointment_Month_Name Appointment_Day  Appointment_Day_Name  \\\n",
              "0                        April              29                Friday   \n",
              "1                        April              29                Friday   \n",
              "2                        April              29                Friday   \n",
              "3                        April              29                Friday   \n",
              "4                        April              29                Friday   \n",
              "...                        ...             ...                   ...   \n",
              "110522                    June               7               Tuesday   \n",
              "110523                    June               7               Tuesday   \n",
              "110524                    June               7               Tuesday   \n",
              "110525                    June               7               Tuesday   \n",
              "110526                    June               7               Tuesday   \n",
              "\n",
              "       Appointment_Hour  Waiting_Days  \n",
              "0                     0             0  \n",
              "1                     0             0  \n",
              "2                     0             0  \n",
              "3                     0             0  \n",
              "4                     0             0  \n",
              "...                 ...           ...  \n",
              "110522                0            35  \n",
              "110523                0            35  \n",
              "110524                0            41  \n",
              "110525                0            41  \n",
              "110526                0            41  \n",
              "\n",
              "[110521 rows x 21 columns]"
            ]
          },
          "metadata": {},
          "execution_count": 35
        }
      ]
    },
    {
      "cell_type": "markdown",
      "metadata": {
        "id": "Ly1_QXaDjpJn"
      },
      "source": [
        "<a id='eda'></a>\n",
        "#Exploratory Data Analysis ⛲\n",
        "\n"
      ]
    },
    {
      "cell_type": "markdown",
      "source": [
        "### Does People Show-Up or No-Show to  Appointments ?"
      ],
      "metadata": {
        "id": "vJiyDBep2ZQi"
      }
    },
    {
      "cell_type": "code",
      "execution_count": null,
      "metadata": {
        "collapsed": true,
        "id": "4CqDSTyPjpJq",
        "colab": {
          "base_uri": "https://localhost:8080/",
          "height": 507
        },
        "outputId": "c2141172-ba41-4541-a454-83bd35e148ea"
      },
      "outputs": [
        {
          "output_type": "display_data",
          "data": {
            "image/png": "[encoded data removed]",
            "text/plain": [
              "<Figure size 720x576 with 1 Axes>"
            ]
          },
          "metadata": {}
        }
      ],
      "source": [
        "sns.set(rc={'figure.figsize':(10, 8)}, font_scale=1.3)\n",
        "plt.bar(['Show-Up ' ,'No-Show'],df['No_show'].value_counts(),facecolor = 'b',edgecolor='k')\n",
        "plt.title('Show-Up or No-Show Count',size = 16)\n",
        "plt.show()"
      ]
    },
    {
      "cell_type": "code",
      "source": [
        "plt.pie(df['No_show'].value_counts(),labels=['Show-Up ' ,'No-Show'],\n",
        "        shadow= True, autopct='%.2f%%', colors =['b','r'], explode = [0.1,0])\n",
        "plt.title('Show-Up or No-Show Count',size = 16)\n",
        "plt.axis ('equal')\n",
        "plt.show()"
      ],
      "metadata": {
        "colab": {
          "base_uri": "https://localhost:8080/",
          "height": 484
        },
        "id": "8MIwwUDvGLij",
        "outputId": "8782dd3c-51e7-41b2-bb0c-cc873e66f336"
      },
      "execution_count": null,
      "outputs": [
        {
          "output_type": "display_data",
          "data": {
            "image/png": "[encoded data removed]",
            "text/plain": [
              "<Figure size 720x576 with 1 Axes>"
            ]
          },
          "metadata": {}
        }
      ]
    },
    {
      "cell_type": "markdown",
      "source": [
        "**Conclusion :** Most of patient people has been showed up to appointments "
      ],
      "metadata": {
        "id": "Wxd-Ohte6Rgy"
      }
    },
    {
      "cell_type": "markdown",
      "source": [
        "### Does Males Showed up to Appointments more than Females ?"
      ],
      "metadata": {
        "id": "raCHskLv4hs6"
      }
    },
    {
      "cell_type": "code",
      "source": [
        "showed = df[df['No_show']=='No']\n",
        "un_showed = df[df['No_show']=='Yes']"
      ],
      "metadata": {
        "id": "xAGINPjW6Fxj"
      },
      "execution_count": null,
      "outputs": []
    },
    {
      "cell_type": "code",
      "source": [
        "un_showed['Gender']"
      ],
      "metadata": {
        "colab": {
          "base_uri": "https://localhost:8080/"
        },
        "id": "uyvSBXec8fzv",
        "outputId": "ff81c3ca-d48f-41de-c8f4-016a04d8549e"
      },
      "execution_count": null,
      "outputs": [
        {
          "output_type": "execute_result",
          "data": {
            "text/plain": [
              "6         F\n",
              "7         F\n",
              "11        M\n",
              "17        F\n",
              "20        F\n",
              "         ..\n",
              "110484    F\n",
              "110492    M\n",
              "110496    F\n",
              "110515    M\n",
              "110516    F\n",
              "Name: Gender, Length: 22314, dtype: object"
            ]
          },
          "metadata": {},
          "execution_count": 39
        }
      ]
    },
    {
      "cell_type": "code",
      "source": [
        "sns.countplot(x=df['Gender'],hue=df['No_show'],palette='rocket')\n",
        "plt.title('Show-Up or No-Show vs Genader',size = 18)\n",
        "plt.show()"
      ],
      "metadata": {
        "colab": {
          "base_uri": "https://localhost:8080/",
          "height": 528
        },
        "id": "qqki6OEp6nRw",
        "outputId": "a5d27754-0434-4b47-ac8a-e0009ebff88d"
      },
      "execution_count": null,
      "outputs": [
        {
          "output_type": "display_data",
          "data": {
            "image/png": "[encoded data removed]",
            "text/plain": [
              "<Figure size 720x576 with 1 Axes>"
            ]
          },
          "metadata": {}
        }
      ]
    },
    {
      "cell_type": "code",
      "source": [
        "labels = ['Female', 'Male']\n",
        "fig, ax = plt.subplots(figsize=(15,8))\n",
        "ax.bar(labels, showed['Gender'].value_counts(), label='Showed_Up'\n",
        "                       ,facecolor ='b',edgecolor='k')\n",
        "ax.bar(labels, un_showed['Gender'].value_counts(), bottom=showed['Gender'].value_counts(),\n",
        "       label=\"No_Show\",facecolor ='r',edgecolor='k')\n",
        "plt.title('Show-Up or No-Show vs Genader',size = 18)\n",
        "ax.legend()\n"
      ],
      "metadata": {
        "colab": {
          "base_uri": "https://localhost:8080/",
          "height": 526
        },
        "id": "fx9FAbAm77gH",
        "outputId": "41031667-1256-4556-b2dc-803fe8a3f86e"
      },
      "execution_count": null,
      "outputs": [
        {
          "output_type": "execute_result",
          "data": {
            "text/plain": [
              "<matplotlib.legend.Legend at 0x7fcd4d2e71d0>"
            ]
          },
          "metadata": {},
          "execution_count": 41
        },
        {
          "output_type": "display_data",
          "data": {
            "image/png": "[encoded data removed]",
            "text/plain": [
              "<Figure size 1080x576 with 1 Axes>"
            ]
          },
          "metadata": {}
        }
      ]
    },
    {
      "cell_type": "markdown",
      "source": [
        "**Conclusion :**  Patients Females have been shown up to appointments   more than  Patients Males"
      ],
      "metadata": {
        "id": "8zyb1cQN7Uaj"
      }
    },
    {
      "cell_type": "markdown",
      "metadata": {
        "id": "ok20qllojpJu"
      },
      "source": [
        "### What is Age Average for Diseases ? \n",
        ">  Age Average for Diseases as Chronic diseases  (diabetes and hypertension) and Handicaps for Males and Females"
      ]
    },
    {
      "cell_type": "markdown",
      "source": [
        "#### Diabetes"
      ],
      "metadata": {
        "id": "pidJJbMnrb8Q"
      }
    },
    {
      "cell_type": "code",
      "source": [
        "df.groupby(['Diabetes']).mean()['Age']"
      ],
      "metadata": {
        "colab": {
          "base_uri": "https://localhost:8080/"
        },
        "id": "9sS5PzfiEujY",
        "outputId": "e74aa537-59ed-40fd-ff6a-7d670b0d7501"
      },
      "execution_count": null,
      "outputs": [
        {
          "output_type": "execute_result",
          "data": {
            "text/plain": [
              "Diabetes\n",
              "No     35.209051\n",
              "Yes    61.372529\n",
              "Name: Age, dtype: float64"
            ]
          },
          "metadata": {},
          "execution_count": 42
        }
      ]
    },
    {
      "cell_type": "code",
      "execution_count": null,
      "metadata": {
        "collapsed": true,
        "id": "kgGW6gPAjpJx",
        "colab": {
          "base_uri": "https://localhost:8080/",
          "height": 528
        },
        "outputId": "fa492d47-75df-474e-c2a6-0ddb2b5c305d"
      },
      "outputs": [
        {
          "output_type": "display_data",
          "data": {
            "image/png": "[encoded data removed]",
            "text/plain": [
              "<Figure size 720x576 with 1 Axes>"
            ]
          },
          "metadata": {}
        }
      ],
      "source": [
        "sns.barplot(x=df['Diabetes'],y =df['Age'],order=['Yes','No'],palette='Set1')\n",
        "plt.title('Age Average for Having  Diabetes or not ',size = 18)\n",
        "plt.show()"
      ]
    },
    {
      "cell_type": "code",
      "source": [
        "pd.pivot_table(df, values ='Age',index='Gender', columns='Diabetes')"
      ],
      "metadata": {
        "colab": {
          "base_uri": "https://localhost:8080/",
          "height": 143
        },
        "id": "s2HvzU8gH7_g",
        "outputId": "524bd068-f971-4e39-d05f-a83c797b5018"
      },
      "execution_count": null,
      "outputs": [
        {
          "output_type": "execute_result",
          "data": {
            "text/html": [
              "\n",
              "  <div id=\"df-0bf2fb1c-9db7-4b78-bb53-9a56766f7ef5\">\n",
              "    <div class=\"colab-df-container\">\n",
              "      <div>\n",
              "<style scoped>\n",
              "    .dataframe tbody tr th:only-of-type {\n",
              "        vertical-align: middle;\n",
              "    }\n",
              "\n",
              "    .dataframe tbody tr th {\n",
              "        vertical-align: top;\n",
              "    }\n",
              "\n",
              "    .dataframe thead th {\n",
              "        text-align: right;\n",
              "    }\n",
              "</style>\n",
              "<table border=\"1\" class=\"dataframe\">\n",
              "  <thead>\n",
              "    <tr style=\"text-align: right;\">\n",
              "      <th>Diabetes</th>\n",
              "      <th>No</th>\n",
              "      <th>Yes</th>\n",
              "    </tr>\n",
              "    <tr>\n",
              "      <th>Gender</th>\n",
              "      <th></th>\n",
              "      <th></th>\n",
              "    </tr>\n",
              "  </thead>\n",
              "  <tbody>\n",
              "    <tr>\n",
              "      <th>F</th>\n",
              "      <td>36.988857</td>\n",
              "      <td>61.407599</td>\n",
              "    </tr>\n",
              "    <tr>\n",
              "      <th>M</th>\n",
              "      <td>31.966050</td>\n",
              "      <td>61.288404</td>\n",
              "    </tr>\n",
              "  </tbody>\n",
              "</table>\n",
              "</div>\n",
              "      <button class=\"colab-df-convert\" onclick=\"convertToInteractive('df-0bf2fb1c-9db7-4b78-bb53-9a56766f7ef5')\"\n",
              "              title=\"Convert this dataframe to an interactive table.\"\n",
              "              style=\"display:none;\">\n",
              "        \n",
              "  <svg xmlns=\"http://www.w3.org/2000/svg\" height=\"24px\"viewBox=\"0 0 24 24\"\n",
              "       width=\"24px\">\n",
              "    <path d=\"M0 0h24v24H0V0z\" fill=\"none\"/>\n",
              "    <path d=\"M18.56 5.44l.94 2.06.94-2.06 2.06-.94-2.06-.94-.94-2.06-.94 2.06-2.06.94zm-11 1L8.5 8.5l.94-2.06 2.06-.94-2.06-.94L8.5 2.5l-.94 2.06-2.06.94zm10 10l.94 2.06.94-2.06 2.06-.94-2.06-.94-.94-2.06-.94 2.06-2.06.94z\"/><path d=\"M17.41 7.96l-1.37-1.37c-.4-.4-.92-.59-1.43-.59-.52 0-1.04.2-1.43.59L10.3 9.45l-7.72 7.72c-.78.78-.78 2.05 0 2.83L4 21.41c.39.39.9.59 1.41.59.51 0 1.02-.2 1.41-.59l7.78-7.78 2.81-2.81c.8-.78.8-2.07 0-2.86zM5.41 20L4 18.59l7.72-7.72 1.47 1.35L5.41 20z\"/>\n",
              "  </svg>\n",
              "      </button>\n",
              "      \n",
              "  <style>\n",
              "    .colab-df-container {\n",
              "      display:flex;\n",
              "      flex-wrap:wrap;\n",
              "      gap: 12px;\n",
              "    }\n",
              "\n",
              "    .colab-df-convert {\n",
              "      background-color: #E8F0FE;\n",
              "      border: none;\n",
              "      border-radius: 50%;\n",
              "      cursor: pointer;\n",
              "      display: none;\n",
              "      fill: #1967D2;\n",
              "      height: 32px;\n",
              "      padding: 0 0 0 0;\n",
              "      width: 32px;\n",
              "    }\n",
              "\n",
              "    .colab-df-convert:hover {\n",
              "      background-color: #E2EBFA;\n",
              "      box-shadow: 0px 1px 2px rgba(60, 64, 67, 0.3), 0px 1px 3px 1px rgba(60, 64, 67, 0.15);\n",
              "      fill: #174EA6;\n",
              "    }\n",
              "\n",
              "    [theme=dark] .colab-df-convert {\n",
              "      background-color: #3B4455;\n",
              "      fill: #D2E3FC;\n",
              "    }\n",
              "\n",
              "    [theme=dark] .colab-df-convert:hover {\n",
              "      background-color: #434B5C;\n",
              "      box-shadow: 0px 1px 3px 1px rgba(0, 0, 0, 0.15);\n",
              "      filter: drop-shadow(0px 1px 2px rgba(0, 0, 0, 0.3));\n",
              "      fill: #FFFFFF;\n",
              "    }\n",
              "  </style>\n",
              "\n",
              "      <script>\n",
              "        const buttonEl =\n",
              "          document.querySelector('#df-0bf2fb1c-9db7-4b78-bb53-9a56766f7ef5 button.colab-df-convert');\n",
              "        buttonEl.style.display =\n",
              "          google.colab.kernel.accessAllowed ? 'block' : 'none';\n",
              "\n",
              "        async function convertToInteractive(key) {\n",
              "          const element = document.querySelector('#df-0bf2fb1c-9db7-4b78-bb53-9a56766f7ef5');\n",
              "          const dataTable =\n",
              "            await google.colab.kernel.invokeFunction('convertToInteractive',\n",
              "                                                     [key], {});\n",
              "          if (!dataTable) return;\n",
              "\n",
              "          const docLinkHtml = 'Like what you see? Visit the ' +\n",
              "            '<a target=\"_blank\" href=https://colab.research.google.com/notebooks/data_table.ipynb>data table notebook</a>'\n",
              "            + ' to learn more about interactive tables.';\n",
              "          element.innerHTML = '';\n",
              "          dataTable['output_type'] = 'display_data';\n",
              "          await google.colab.output.renderOutput(dataTable, element);\n",
              "          const docLink = document.createElement('div');\n",
              "          docLink.innerHTML = docLinkHtml;\n",
              "          element.appendChild(docLink);\n",
              "        }\n",
              "      </script>\n",
              "    </div>\n",
              "  </div>\n",
              "  "
            ],
            "text/plain": [
              "Diabetes         No        Yes\n",
              "Gender                        \n",
              "F         36.988857  61.407599\n",
              "M         31.966050  61.288404"
            ]
          },
          "metadata": {},
          "execution_count": 44
        }
      ]
    },
    {
      "cell_type": "code",
      "source": [
        "sns.barplot(x=df['Diabetes'],y =df['Age'],order=['Yes','No'],palette='rocket',hue=df['Gender'])\n",
        "plt.show()"
      ],
      "metadata": {
        "colab": {
          "base_uri": "https://localhost:8080/",
          "height": 508
        },
        "id": "FJOKVV0WHONf",
        "outputId": "dfbad861-e7cd-4839-a3a0-461978c5edd9"
      },
      "execution_count": null,
      "outputs": [
        {
          "output_type": "display_data",
          "data": {
            "image/png": "[encoded data removed]",
            "text/plain": [
              "<Figure size 720x576 with 1 Axes>"
            ]
          },
          "metadata": {}
        }
      ]
    },
    {
      "cell_type": "markdown",
      "source": [
        "#### Hipertension"
      ],
      "metadata": {
        "id": "sK8EgNZyrys5"
      }
    },
    {
      "cell_type": "code",
      "source": [
        "df.groupby(['Hipertension']).mean()['Age']"
      ],
      "metadata": {
        "colab": {
          "base_uri": "https://localhost:8080/"
        },
        "id": "vKFfYoRCFvWn",
        "outputId": "6685785d-c176-43b1-f107-44115f528bc3"
      },
      "execution_count": null,
      "outputs": [
        {
          "output_type": "execute_result",
          "data": {
            "text/plain": [
              "Hipertension\n",
              "No     31.308826\n",
              "Yes    60.613596\n",
              "Name: Age, dtype: float64"
            ]
          },
          "metadata": {},
          "execution_count": 46
        }
      ]
    },
    {
      "cell_type": "code",
      "source": [
        "sns.barplot(x=df['Hipertension'],y =df['Age'],order=['Yes','No'],palette='Set1')\n",
        "plt.title('Age Average for Having  Hipertension or not ',size = 18)\n",
        "plt.show()"
      ],
      "metadata": {
        "colab": {
          "base_uri": "https://localhost:8080/",
          "height": 528
        },
        "id": "hTFKmLKTEkT7",
        "outputId": "d7678fa0-cd6b-43e7-9e2b-6d0aff5c1a9d"
      },
      "execution_count": null,
      "outputs": [
        {
          "output_type": "display_data",
          "data": {
            "image/png": "[encoded data removed]",
            "text/plain": [
              "<Figure size 720x576 with 1 Axes>"
            ]
          },
          "metadata": {}
        }
      ]
    },
    {
      "cell_type": "code",
      "source": [
        "pd.pivot_table(df, values ='Age',index='Gender', columns='Hipertension')"
      ],
      "metadata": {
        "colab": {
          "base_uri": "https://localhost:8080/",
          "height": 143
        },
        "id": "jusKQ0NbJVlL",
        "outputId": "f9aa6650-04d2-44e7-b976-3ed3a2391722"
      },
      "execution_count": null,
      "outputs": [
        {
          "output_type": "execute_result",
          "data": {
            "text/html": [
              "\n",
              "  <div id=\"df-fc324d78-1814-4bc8-b213-e383c6a20850\">\n",
              "    <div class=\"colab-df-container\">\n",
              "      <div>\n",
              "<style scoped>\n",
              "    .dataframe tbody tr th:only-of-type {\n",
              "        vertical-align: middle;\n",
              "    }\n",
              "\n",
              "    .dataframe tbody tr th {\n",
              "        vertical-align: top;\n",
              "    }\n",
              "\n",
              "    .dataframe thead th {\n",
              "        text-align: right;\n",
              "    }\n",
              "</style>\n",
              "<table border=\"1\" class=\"dataframe\">\n",
              "  <thead>\n",
              "    <tr style=\"text-align: right;\">\n",
              "      <th>Hipertension</th>\n",
              "      <th>No</th>\n",
              "      <th>Yes</th>\n",
              "    </tr>\n",
              "    <tr>\n",
              "      <th>Gender</th>\n",
              "      <th></th>\n",
              "      <th></th>\n",
              "    </tr>\n",
              "  </thead>\n",
              "  <tbody>\n",
              "    <tr>\n",
              "      <th>F</th>\n",
              "      <td>33.030479</td>\n",
              "      <td>60.492861</td>\n",
              "    </tr>\n",
              "    <tr>\n",
              "      <th>M</th>\n",
              "      <td>28.290227</td>\n",
              "      <td>60.900186</td>\n",
              "    </tr>\n",
              "  </tbody>\n",
              "</table>\n",
              "</div>\n",
              "      <button class=\"colab-df-convert\" onclick=\"convertToInteractive('df-fc324d78-1814-4bc8-b213-e383c6a20850')\"\n",
              "              title=\"Convert this dataframe to an interactive table.\"\n",
              "              style=\"display:none;\">\n",
              "        \n",
              "  <svg xmlns=\"http://www.w3.org/2000/svg\" height=\"24px\"viewBox=\"0 0 24 24\"\n",
              "       width=\"24px\">\n",
              "    <path d=\"M0 0h24v24H0V0z\" fill=\"none\"/>\n",
              "    <path d=\"M18.56 5.44l.94 2.06.94-2.06 2.06-.94-2.06-.94-.94-2.06-.94 2.06-2.06.94zm-11 1L8.5 8.5l.94-2.06 2.06-.94-2.06-.94L8.5 2.5l-.94 2.06-2.06.94zm10 10l.94 2.06.94-2.06 2.06-.94-2.06-.94-.94-2.06-.94 2.06-2.06.94z\"/><path d=\"M17.41 7.96l-1.37-1.37c-.4-.4-.92-.59-1.43-.59-.52 0-1.04.2-1.43.59L10.3 9.45l-7.72 7.72c-.78.78-.78 2.05 0 2.83L4 21.41c.39.39.9.59 1.41.59.51 0 1.02-.2 1.41-.59l7.78-7.78 2.81-2.81c.8-.78.8-2.07 0-2.86zM5.41 20L4 18.59l7.72-7.72 1.47 1.35L5.41 20z\"/>\n",
              "  </svg>\n",
              "      </button>\n",
              "      \n",
              "  <style>\n",
              "    .colab-df-container {\n",
              "      display:flex;\n",
              "      flex-wrap:wrap;\n",
              "      gap: 12px;\n",
              "    }\n",
              "\n",
              "    .colab-df-convert {\n",
              "      background-color: #E8F0FE;\n",
              "      border: none;\n",
              "      border-radius: 50%;\n",
              "      cursor: pointer;\n",
              "      display: none;\n",
              "      fill: #1967D2;\n",
              "      height: 32px;\n",
              "      padding: 0 0 0 0;\n",
              "      width: 32px;\n",
              "    }\n",
              "\n",
              "    .colab-df-convert:hover {\n",
              "      background-color: #E2EBFA;\n",
              "      box-shadow: 0px 1px 2px rgba(60, 64, 67, 0.3), 0px 1px 3px 1px rgba(60, 64, 67, 0.15);\n",
              "      fill: #174EA6;\n",
              "    }\n",
              "\n",
              "    [theme=dark] .colab-df-convert {\n",
              "      background-color: #3B4455;\n",
              "      fill: #D2E3FC;\n",
              "    }\n",
              "\n",
              "    [theme=dark] .colab-df-convert:hover {\n",
              "      background-color: #434B5C;\n",
              "      box-shadow: 0px 1px 3px 1px rgba(0, 0, 0, 0.15);\n",
              "      filter: drop-shadow(0px 1px 2px rgba(0, 0, 0, 0.3));\n",
              "      fill: #FFFFFF;\n",
              "    }\n",
              "  </style>\n",
              "\n",
              "      <script>\n",
              "        const buttonEl =\n",
              "          document.querySelector('#df-fc324d78-1814-4bc8-b213-e383c6a20850 button.colab-df-convert');\n",
              "        buttonEl.style.display =\n",
              "          google.colab.kernel.accessAllowed ? 'block' : 'none';\n",
              "\n",
              "        async function convertToInteractive(key) {\n",
              "          const element = document.querySelector('#df-fc324d78-1814-4bc8-b213-e383c6a20850');\n",
              "          const dataTable =\n",
              "            await google.colab.kernel.invokeFunction('convertToInteractive',\n",
              "                                                     [key], {});\n",
              "          if (!dataTable) return;\n",
              "\n",
              "          const docLinkHtml = 'Like what you see? Visit the ' +\n",
              "            '<a target=\"_blank\" href=https://colab.research.google.com/notebooks/data_table.ipynb>data table notebook</a>'\n",
              "            + ' to learn more about interactive tables.';\n",
              "          element.innerHTML = '';\n",
              "          dataTable['output_type'] = 'display_data';\n",
              "          await google.colab.output.renderOutput(dataTable, element);\n",
              "          const docLink = document.createElement('div');\n",
              "          docLink.innerHTML = docLinkHtml;\n",
              "          element.appendChild(docLink);\n",
              "        }\n",
              "      </script>\n",
              "    </div>\n",
              "  </div>\n",
              "  "
            ],
            "text/plain": [
              "Hipertension         No        Yes\n",
              "Gender                            \n",
              "F             33.030479  60.492861\n",
              "M             28.290227  60.900186"
            ]
          },
          "metadata": {},
          "execution_count": 48
        }
      ]
    },
    {
      "cell_type": "code",
      "source": [
        "sns.barplot(x=df['Hipertension'],y =df['Age'],order=['Yes','No'],palette='rocket',hue=df['Gender'])"
      ],
      "metadata": {
        "colab": {
          "base_uri": "https://localhost:8080/",
          "height": 526
        },
        "id": "EJN-4pT8Hpea",
        "outputId": "3a97c98e-ef03-4224-a52e-edf0a1754cbe"
      },
      "execution_count": null,
      "outputs": [
        {
          "output_type": "execute_result",
          "data": {
            "text/plain": [
              "<matplotlib.axes._subplots.AxesSubplot at 0x7fcd4d0a2050>"
            ]
          },
          "metadata": {},
          "execution_count": 49
        },
        {
          "output_type": "display_data",
          "data": {
            "image/png": "[encoded data removed]",
            "text/plain": [
              "<Figure size 720x576 with 1 Axes>"
            ]
          },
          "metadata": {}
        }
      ]
    },
    {
      "cell_type": "markdown",
      "source": [
        "#### Handicap"
      ],
      "metadata": {
        "id": "rHsiHf6FsHlZ"
      }
    },
    {
      "cell_type": "code",
      "source": [
        "df.groupby(['Handicap']).mean()['Age']"
      ],
      "metadata": {
        "colab": {
          "base_uri": "https://localhost:8080/"
        },
        "id": "pB3zCP6jFhj8",
        "outputId": "78116b44-eb15-4b49-c148-7b26e041fe51"
      },
      "execution_count": null,
      "outputs": [
        {
          "output_type": "execute_result",
          "data": {
            "text/plain": [
              "Handicap\n",
              "No     36.810818\n",
              "Yes    50.561411\n",
              "Name: Age, dtype: float64"
            ]
          },
          "metadata": {},
          "execution_count": 50
        }
      ]
    },
    {
      "cell_type": "code",
      "source": [
        "sns.barplot(x=df['Handicap'],y =df['Age'],order=['Yes','No'],palette='Set1')\n",
        "plt.title('Age Average for Having  Hipertension or not ',size = 18)\n",
        "plt.show()"
      ],
      "metadata": {
        "id": "eF3sqeTPGFw-",
        "colab": {
          "base_uri": "https://localhost:8080/",
          "height": 528
        },
        "outputId": "e2563152-abb1-45d0-c8d2-7f15b61ce576"
      },
      "execution_count": null,
      "outputs": [
        {
          "output_type": "display_data",
          "data": {
            "image/png": "[encoded data removed]",
            "text/plain": [
              "<Figure size 720x576 with 1 Axes>"
            ]
          },
          "metadata": {}
        }
      ]
    },
    {
      "cell_type": "code",
      "source": [
        "pd.pivot_table(df, values ='Age',index='Gender', columns='Handicap')"
      ],
      "metadata": {
        "id": "4B8dMgRiJ7wU",
        "colab": {
          "base_uri": "https://localhost:8080/",
          "height": 143
        },
        "outputId": "7d899928-f326-4fb2-ca65-2e8036a5e34b"
      },
      "execution_count": null,
      "outputs": [
        {
          "output_type": "execute_result",
          "data": {
            "text/html": [
              "\n",
              "  <div id=\"df-3162f318-2a30-4e6f-93d2-faf5dc0a3597\">\n",
              "    <div class=\"colab-df-container\">\n",
              "      <div>\n",
              "<style scoped>\n",
              "    .dataframe tbody tr th:only-of-type {\n",
              "        vertical-align: middle;\n",
              "    }\n",
              "\n",
              "    .dataframe tbody tr th {\n",
              "        vertical-align: top;\n",
              "    }\n",
              "\n",
              "    .dataframe thead th {\n",
              "        text-align: right;\n",
              "    }\n",
              "</style>\n",
              "<table border=\"1\" class=\"dataframe\">\n",
              "  <thead>\n",
              "    <tr style=\"text-align: right;\">\n",
              "      <th>Handicap</th>\n",
              "      <th>No</th>\n",
              "      <th>Yes</th>\n",
              "    </tr>\n",
              "    <tr>\n",
              "      <th>Gender</th>\n",
              "      <th></th>\n",
              "      <th></th>\n",
              "    </tr>\n",
              "  </thead>\n",
              "  <tbody>\n",
              "    <tr>\n",
              "      <th>F</th>\n",
              "      <td>38.650942</td>\n",
              "      <td>52.222653</td>\n",
              "    </tr>\n",
              "    <tr>\n",
              "      <th>M</th>\n",
              "      <td>33.370637</td>\n",
              "      <td>48.307368</td>\n",
              "    </tr>\n",
              "  </tbody>\n",
              "</table>\n",
              "</div>\n",
              "      <button class=\"colab-df-convert\" onclick=\"convertToInteractive('df-3162f318-2a30-4e6f-93d2-faf5dc0a3597')\"\n",
              "              title=\"Convert this dataframe to an interactive table.\"\n",
              "              style=\"display:none;\">\n",
              "        \n",
              "  <svg xmlns=\"http://www.w3.org/2000/svg\" height=\"24px\"viewBox=\"0 0 24 24\"\n",
              "       width=\"24px\">\n",
              "    <path d=\"M0 0h24v24H0V0z\" fill=\"none\"/>\n",
              "    <path d=\"M18.56 5.44l.94 2.06.94-2.06 2.06-.94-2.06-.94-.94-2.06-.94 2.06-2.06.94zm-11 1L8.5 8.5l.94-2.06 2.06-.94-2.06-.94L8.5 2.5l-.94 2.06-2.06.94zm10 10l.94 2.06.94-2.06 2.06-.94-2.06-.94-.94-2.06-.94 2.06-2.06.94z\"/><path d=\"M17.41 7.96l-1.37-1.37c-.4-.4-.92-.59-1.43-.59-.52 0-1.04.2-1.43.59L10.3 9.45l-7.72 7.72c-.78.78-.78 2.05 0 2.83L4 21.41c.39.39.9.59 1.41.59.51 0 1.02-.2 1.41-.59l7.78-7.78 2.81-2.81c.8-.78.8-2.07 0-2.86zM5.41 20L4 18.59l7.72-7.72 1.47 1.35L5.41 20z\"/>\n",
              "  </svg>\n",
              "      </button>\n",
              "      \n",
              "  <style>\n",
              "    .colab-df-container {\n",
              "      display:flex;\n",
              "      flex-wrap:wrap;\n",
              "      gap: 12px;\n",
              "    }\n",
              "\n",
              "    .colab-df-convert {\n",
              "      background-color: #E8F0FE;\n",
              "      border: none;\n",
              "      border-radius: 50%;\n",
              "      cursor: pointer;\n",
              "      display: none;\n",
              "      fill: #1967D2;\n",
              "      height: 32px;\n",
              "      padding: 0 0 0 0;\n",
              "      width: 32px;\n",
              "    }\n",
              "\n",
              "    .colab-df-convert:hover {\n",
              "      background-color: #E2EBFA;\n",
              "      box-shadow: 0px 1px 2px rgba(60, 64, 67, 0.3), 0px 1px 3px 1px rgba(60, 64, 67, 0.15);\n",
              "      fill: #174EA6;\n",
              "    }\n",
              "\n",
              "    [theme=dark] .colab-df-convert {\n",
              "      background-color: #3B4455;\n",
              "      fill: #D2E3FC;\n",
              "    }\n",
              "\n",
              "    [theme=dark] .colab-df-convert:hover {\n",
              "      background-color: #434B5C;\n",
              "      box-shadow: 0px 1px 3px 1px rgba(0, 0, 0, 0.15);\n",
              "      filter: drop-shadow(0px 1px 2px rgba(0, 0, 0, 0.3));\n",
              "      fill: #FFFFFF;\n",
              "    }\n",
              "  </style>\n",
              "\n",
              "      <script>\n",
              "        const buttonEl =\n",
              "          document.querySelector('#df-3162f318-2a30-4e6f-93d2-faf5dc0a3597 button.colab-df-convert');\n",
              "        buttonEl.style.display =\n",
              "          google.colab.kernel.accessAllowed ? 'block' : 'none';\n",
              "\n",
              "        async function convertToInteractive(key) {\n",
              "          const element = document.querySelector('#df-3162f318-2a30-4e6f-93d2-faf5dc0a3597');\n",
              "          const dataTable =\n",
              "            await google.colab.kernel.invokeFunction('convertToInteractive',\n",
              "                                                     [key], {});\n",
              "          if (!dataTable) return;\n",
              "\n",
              "          const docLinkHtml = 'Like what you see? Visit the ' +\n",
              "            '<a target=\"_blank\" href=https://colab.research.google.com/notebooks/data_table.ipynb>data table notebook</a>'\n",
              "            + ' to learn more about interactive tables.';\n",
              "          element.innerHTML = '';\n",
              "          dataTable['output_type'] = 'display_data';\n",
              "          await google.colab.output.renderOutput(dataTable, element);\n",
              "          const docLink = document.createElement('div');\n",
              "          docLink.innerHTML = docLinkHtml;\n",
              "          element.appendChild(docLink);\n",
              "        }\n",
              "      </script>\n",
              "    </div>\n",
              "  </div>\n",
              "  "
            ],
            "text/plain": [
              "Handicap         No        Yes\n",
              "Gender                        \n",
              "F         38.650942  52.222653\n",
              "M         33.370637  48.307368"
            ]
          },
          "metadata": {},
          "execution_count": 52
        }
      ]
    },
    {
      "cell_type": "code",
      "source": [
        "sns.barplot(x=df['Handicap'],y =df['Age'],order=['Yes','No'],palette='rocket',hue=df['Gender'])"
      ],
      "metadata": {
        "id": "AiyhZTQXHrWr",
        "colab": {
          "base_uri": "https://localhost:8080/",
          "height": 526
        },
        "outputId": "5ff305d9-dcd7-4ee9-8ce9-aaf4644e08cb"
      },
      "execution_count": null,
      "outputs": [
        {
          "output_type": "execute_result",
          "data": {
            "text/plain": [
              "<matplotlib.axes._subplots.AxesSubplot at 0x7fcd4cff3890>"
            ]
          },
          "metadata": {},
          "execution_count": 53
        },
        {
          "output_type": "display_data",
          "data": {
            "image/png": "[encoded data removed]",
            "text/plain": [
              "<Figure size 720x576 with 1 Axes>"
            ]
          },
          "metadata": {}
        }
      ]
    },
    {
      "cell_type": "markdown",
      "source": [
        "**Conclusions** : \n",
        "1. The average age of male Diabetics is equal to the average age of female Diabetics\n",
        "2. The average age of male Hipertension is equal to the average age of female  Hipertension\n",
        "3.  The average age of male Handicaps is less than to the average age of female  Handicaps\n"
      ],
      "metadata": {
        "id": "VMM3LC41JFYt"
      }
    },
    {
      "cell_type": "markdown",
      "source": [
        "### Who is more Alcoholism , Males or Females ?"
      ],
      "metadata": {
        "id": "MjF8-5TXK2Xi"
      }
    },
    {
      "cell_type": "code",
      "source": [
        "Alcoholism = df[df['Alcoholism']=='Yes']"
      ],
      "metadata": {
        "id": "8e9DtJy7K6q9"
      },
      "execution_count": null,
      "outputs": []
    },
    {
      "cell_type": "code",
      "source": [
        "plt.pie(Alcoholism['Gender'].value_counts(),labels = ['Male','Female'],\n",
        "        shadow= True, autopct='%.2f%%', colors =['g','y'], explode = [0.1,0],startangle=100)\n",
        "plt.title(' Alcoholism Count for Gender ',size = 20)\n",
        "plt.axis ('equal')\n",
        "plt.show()\n"
      ],
      "metadata": {
        "id": "mg2ik1xULboG",
        "colab": {
          "base_uri": "https://localhost:8080/",
          "height": 487
        },
        "outputId": "7ae8766b-1a28-45ed-a1e7-081a130f8b78"
      },
      "execution_count": null,
      "outputs": [
        {
          "output_type": "display_data",
          "data": {
            "image/png": "[encoded data removed]",
            "text/plain": [
              "<Figure size 720x576 with 1 Axes>"
            ]
          },
          "metadata": {}
        }
      ]
    },
    {
      "cell_type": "markdown",
      "source": [
        "**Conclusions :** Most of Alcoholism are Males "
      ],
      "metadata": {
        "id": "25Nnw1x9OIn0"
      }
    },
    {
      "cell_type": "markdown",
      "source": [
        "### How Many Waiting Days for Appointments  in the Most ? "
      ],
      "metadata": {
        "id": "tb3IZU24OarK"
      }
    },
    {
      "cell_type": "code",
      "source": [
        "df['Waiting_Days'].value_counts()"
      ],
      "metadata": {
        "id": "scFWMxAXQO3V",
        "colab": {
          "base_uri": "https://localhost:8080/"
        },
        "outputId": "360257ad-0e22-4932-d567-ed88bf1d6876"
      },
      "execution_count": null,
      "outputs": [
        {
          "output_type": "execute_result",
          "data": {
            "text/plain": [
              "0      38562\n",
              "2       6725\n",
              "4       5290\n",
              "1       5213\n",
              "7       4906\n",
              "       ...  \n",
              "132        1\n",
              "125        1\n",
              "117        1\n",
              "146        1\n",
              "123        1\n",
              "Name: Waiting_Days, Length: 129, dtype: int64"
            ]
          },
          "metadata": {},
          "execution_count": 56
        }
      ]
    },
    {
      "cell_type": "code",
      "source": [
        "sns.kdeplot(x= df['Waiting_Days'],shade=True,multiple='stack')"
      ],
      "metadata": {
        "id": "lqCLnZpePyQF",
        "colab": {
          "base_uri": "https://localhost:8080/",
          "height": 526
        },
        "outputId": "486ab864-b2d0-43b4-c9be-28346f0a801c"
      },
      "execution_count": null,
      "outputs": [
        {
          "output_type": "execute_result",
          "data": {
            "text/plain": [
              "<matplotlib.axes._subplots.AxesSubplot at 0x7fcd4cecd0d0>"
            ]
          },
          "metadata": {},
          "execution_count": 57
        },
        {
          "output_type": "display_data",
          "data": {
            "image/png": "[encoded data removed]",
            "text/plain": [
              "<Figure size 720x576 with 1 Axes>"
            ]
          },
          "metadata": {}
        }
      ]
    },
    {
      "cell_type": "code",
      "source": [
        "fig, axes = plt.subplots(1,2 , figsize= (20,7)) \n",
        "fig.suptitle ('Show up Waiting Days vs No-show Waiting Days',fontsize=20,fontweight='bold')\n",
        "sns.kdeplot(ax=axes [0], data=showed['Waiting_Days'],color='b',shade=True,multiple='stack',label = 'showed')\n",
        "sns.kdeplot(ax=axes [1], data=un_showed['Waiting_Days'],color='r',shade=True,multiple='stack',label = 'un_showed')\n",
        "fig.legend()"
      ],
      "metadata": {
        "id": "rkiEmMW7Qt6R",
        "colab": {
          "base_uri": "https://localhost:8080/",
          "height": 446
        },
        "outputId": "52e1acf0-f938-41ed-b054-b4da5b4417f9"
      },
      "execution_count": null,
      "outputs": [
        {
          "output_type": "execute_result",
          "data": {
            "text/plain": [
              "<matplotlib.legend.Legend at 0x7fcd485be6d0>"
            ]
          },
          "metadata": {},
          "execution_count": 58
        },
        {
          "output_type": "display_data",
          "data": {
            "image/png": "[encoded data removed]",
            "text/plain": [
              "<Figure size 1440x504 with 2 Axes>"
            ]
          },
          "metadata": {}
        }
      ]
    },
    {
      "cell_type": "markdown",
      "source": [
        "**Conclusions :**\n",
        "1. Commen Waiting Days for Patients is from 0 to 25 days\n",
        "2. Patients who showup waits from 0 to 30 days\n",
        "3. Patients who no-show waits from 0 to 65 days"
      ],
      "metadata": {
        "id": "D_IFAf6PTJ5g"
      }
    },
    {
      "cell_type": "markdown",
      "source": [
        "### What is Average of Waiting Days for Patients with Chronic Diseases  ?"
      ],
      "metadata": {
        "id": "CtUCsLlbqgvm"
      }
    },
    {
      "cell_type": "markdown",
      "source": [
        "#### Diabetes"
      ],
      "metadata": {
        "id": "Dzn3Leaeq4ok"
      }
    },
    {
      "cell_type": "code",
      "source": [
        "sns.barplot(x=df['Diabetes'],y=df['Waiting_Days'],order=['Yes','No'],palette='Set1')\n",
        "plt.title('Waiting Days for Diabetics',size = 20)\n",
        "plt.show()"
      ],
      "metadata": {
        "id": "ak1FVCLbqgLr",
        "colab": {
          "base_uri": "https://localhost:8080/",
          "height": 529
        },
        "outputId": "41bbac4c-80b5-4b76-a5fe-7d7a800c035d"
      },
      "execution_count": null,
      "outputs": [
        {
          "output_type": "display_data",
          "data": {
            "image/png": "[encoded data removed]",
            "text/plain": [
              "<Figure size 720x576 with 1 Axes>"
            ]
          },
          "metadata": {}
        }
      ]
    },
    {
      "cell_type": "markdown",
      "source": [
        "#### Hipertension"
      ],
      "metadata": {
        "id": "yoWTQrbvr6W0"
      }
    },
    {
      "cell_type": "code",
      "source": [
        "sns.barplot(x=df['Hipertension'],y =df['Waiting_Days'],order=['Yes','No'],palette='Set1')\n",
        "plt.title('Waiting Days for Hypertensive Patients',size = 20)\n",
        "plt.show()"
      ],
      "metadata": {
        "id": "0jb96vDQr6W1",
        "colab": {
          "base_uri": "https://localhost:8080/",
          "height": 529
        },
        "outputId": "2299358c-94ac-424b-c3e2-e64f2aa1446e"
      },
      "execution_count": null,
      "outputs": [
        {
          "output_type": "display_data",
          "data": {
            "image/png": "[encoded data removed]",
            "text/plain": [
              "<Figure size 720x576 with 1 Axes>"
            ]
          },
          "metadata": {}
        }
      ]
    },
    {
      "cell_type": "markdown",
      "source": [
        "**Conclusions :** Average of waiting days for Diabetics and Hypertensive Patients are less than Non-Diabetics and Non-Hypertensive Patients"
      ],
      "metadata": {
        "id": "oNFVv4zvtaT9"
      }
    },
    {
      "cell_type": "markdown",
      "source": [
        "### Are Patients with Scholarship eager to Show up to Appointments  ?\n"
      ],
      "metadata": {
        "id": "uNQykv_uUld6"
      }
    },
    {
      "cell_type": "code",
      "source": [
        "sns.countplot(x=df['Scholarship'],hue=df['No_show'],palette='rocket')"
      ],
      "metadata": {
        "id": "O08VlxSJbMzi",
        "colab": {
          "base_uri": "https://localhost:8080/",
          "height": 526
        },
        "outputId": "e9322457-0ffd-4f4c-90e2-7885e9431cb9"
      },
      "execution_count": null,
      "outputs": [
        {
          "output_type": "execute_result",
          "data": {
            "text/plain": [
              "<matplotlib.axes._subplots.AxesSubplot at 0x7fcd4cfed350>"
            ]
          },
          "metadata": {},
          "execution_count": 61
        },
        {
          "output_type": "display_data",
          "data": {
            "image/png": "[encoded data removed]",
            "text/plain": [
              "<Figure size 720x576 with 1 Axes>"
            ]
          },
          "metadata": {}
        }
      ]
    },
    {
      "cell_type": "code",
      "source": [
        "scholarship = df[df['Scholarship'] == 'Yes']\n",
        "plt.pie(scholarship['No_show'].value_counts(),labels=['Show-Up ' ,'No-Show'],\n",
        "        shadow= True, autopct='%.2f%%', colors =['b','r'], explode = [0.1,0])\n",
        "plt.title('Show-Up or No-Show if having scholarship',size = 16)\n",
        "plt.axis ('equal')\n",
        "plt.show()"
      ],
      "metadata": {
        "id": "8i62ZDpZUkwB",
        "colab": {
          "base_uri": "https://localhost:8080/",
          "height": 484
        },
        "outputId": "1858d6d1-798f-4fc5-9792-17834a70bfe5"
      },
      "execution_count": null,
      "outputs": [
        {
          "output_type": "display_data",
          "data": {
            "image/png": "[encoded data removed]",
            "text/plain": [
              "<Figure size 720x576 with 1 Axes>"
            ]
          },
          "metadata": {}
        }
      ]
    },
    {
      "cell_type": "markdown",
      "source": [
        "**Conclusions :**\n",
        "1. Most of Patients Don't have Scholarship\n",
        "2. Patients having Scholarship 76.26 % of them are been shown up to appointments "
      ],
      "metadata": {
        "id": "TRoNCIBqbmNK"
      }
    },
    {
      "cell_type": "markdown",
      "source": [
        "### Is there Relation between Receiving SMS and Showing up to Appointments ?"
      ],
      "metadata": {
        "id": "5Rn3FBy0dq0k"
      }
    },
    {
      "cell_type": "code",
      "source": [
        "sns.countplot(x=df['SMS_received'],hue=df['No_show'],palette='CMRmap')"
      ],
      "metadata": {
        "id": "C3RzRrNFcWD0",
        "colab": {
          "base_uri": "https://localhost:8080/",
          "height": 526
        },
        "outputId": "5f4c720e-1b8f-4ed1-f7ca-79cc4733c186"
      },
      "execution_count": null,
      "outputs": [
        {
          "output_type": "execute_result",
          "data": {
            "text/plain": [
              "<matplotlib.axes._subplots.AxesSubplot at 0x7fcd4d14fc50>"
            ]
          },
          "metadata": {},
          "execution_count": 63
        },
        {
          "output_type": "display_data",
          "data": {
            "image/png": "[encoded data removed]",
            "text/plain": [
              "<Figure size 720x576 with 1 Axes>"
            ]
          },
          "metadata": {}
        }
      ]
    },
    {
      "cell_type": "markdown",
      "source": [
        "**Conclusions :**\n",
        "There is no relation between receiving SMS and showing up to appointments as most of shown up don't receiving SMS\n"
      ],
      "metadata": {
        "id": "u-QDpur6fIcM"
      }
    },
    {
      "cell_type": "markdown",
      "source": [
        "### What is Age of Patients who Shown up to Appointments ?\n"
      ],
      "metadata": {
        "id": "mrLjL5W0f4wC"
      }
    },
    {
      "cell_type": "code",
      "source": [
        "plt.hist(x=df['Age'],bins=10)\n",
        "plt.hist(x=showed['Age'],bins=10)\n",
        "plt.title('Shown up vs Age', fontsize=20)\n",
        "plt.legend(labels = ['Total Age','Shown up Age'])\n",
        "plt.show()"
      ],
      "metadata": {
        "id": "lmCZ-0b7hcd1",
        "colab": {
          "base_uri": "https://localhost:8080/",
          "height": 510
        },
        "outputId": "81a5522c-d104-4526-e410-9289c2dc914f"
      },
      "execution_count": null,
      "outputs": [
        {
          "output_type": "display_data",
          "data": {
            "image/png": "[encoded data removed]",
            "text/plain": [
              "<Figure size 720x576 with 1 Axes>"
            ]
          },
          "metadata": {}
        }
      ]
    },
    {
      "cell_type": "markdown",
      "source": [
        "**Conclusions :** The highest numbers of appointments are made by Patients in age range between (0 to 10) and (50 to 60)."
      ],
      "metadata": {
        "id": "d79QbT_GlPxl"
      }
    },
    {
      "cell_type": "markdown",
      "source": [
        "### What are the Five Most Neighborhoods where Patients are Shown up to Appointments ?"
      ],
      "metadata": {
        "id": "I1Ku0vwzl7rw"
      }
    },
    {
      "cell_type": "code",
      "source": [
        "showed['Neighbourhood'].value_counts().head()"
      ],
      "metadata": {
        "id": "P9CfDo0ymj9c",
        "colab": {
          "base_uri": "https://localhost:8080/"
        },
        "outputId": "32c14978-4fe3-48ba-e1c8-100f896160da"
      },
      "execution_count": null,
      "outputs": [
        {
          "output_type": "execute_result",
          "data": {
            "text/plain": [
              "JARDIM CAMBURI     6252\n",
              "MARIA ORTIZ        4586\n",
              "RESISTÊNCIA        3525\n",
              "JARDIM DA PENHA    3246\n",
              "SANTA MARTHA       2635\n",
              "Name: Neighbourhood, dtype: int64"
            ]
          },
          "metadata": {},
          "execution_count": 65
        }
      ]
    },
    {
      "cell_type": "code",
      "source": [
        "plt.pie(showed['Neighbourhood'].value_counts().head(),labels=showed['Neighbourhood'].value_counts().head().index,\n",
        "        shadow= True, autopct='%.2f%%',  explode = [0.1,0,0,0,0])\n",
        "plt.axis ('equal')\n",
        "plt.show()"
      ],
      "metadata": {
        "id": "y74HXxkTmw92",
        "colab": {
          "base_uri": "https://localhost:8080/",
          "height": 466
        },
        "outputId": "0d866bb9-344f-4345-8c6c-a4458102472f"
      },
      "execution_count": null,
      "outputs": [
        {
          "output_type": "display_data",
          "data": {
            "image/png": "[encoded data removed]",
            "text/plain": [
              "<Figure size 720x576 with 1 Axes>"
            ]
          },
          "metadata": {}
        }
      ]
    },
    {
      "cell_type": "markdown",
      "source": [
        "**Conclusions :** The five most neighborhoods where patients are shown up to Appointments 're :\n",
        "1. JARDIM CAMBURI     \n",
        "2. MARIA ORTIZ        \n",
        "3. RESISTÊNCIA        \n",
        "4. JARDIM DA PENHA    \n",
        "5. SANTA MARTHA  "
      ],
      "metadata": {
        "id": "r56qit3QoGTF"
      }
    },
    {
      "cell_type": "markdown",
      "source": [
        "## Did Day affect on Showing up to Appointments ?"
      ],
      "metadata": {
        "id": "JP3Qce1DsP7r"
      }
    },
    {
      "cell_type": "code",
      "source": [
        "df['Appointment_Day_Name'].value_counts()"
      ],
      "metadata": {
        "colab": {
          "base_uri": "https://localhost:8080/"
        },
        "id": "tYw3SNwSv-Dd",
        "outputId": "439c4ad3-0eda-49ca-ef52-81b67b6b8dc3"
      },
      "execution_count": null,
      "outputs": [
        {
          "output_type": "execute_result",
          "data": {
            "text/plain": [
              "Wednesday    25866\n",
              "Tuesday      25638\n",
              "Monday       22713\n",
              "Friday       19019\n",
              "Thursday     17246\n",
              "Saturday        39\n",
              "Name: Appointment_Day_Name, dtype: int64"
            ]
          },
          "metadata": {},
          "execution_count": 67
        }
      ]
    },
    {
      "cell_type": "code",
      "source": [
        "plt.bar(df['Appointment_Day_Name'].value_counts().index ,df['Appointment_Day_Name'].value_counts(),\n",
        "        facecolor = 'r',edgecolor='k')\n",
        "plt.bar(showed['Appointment_Day_Name'].value_counts().index ,showed['Appointment_Day_Name'].value_counts(),\n",
        "        facecolor = 'b',edgecolor='k')\n",
        "plt.title(' Showing up to Appointments and Days',size = 16)\n",
        "plt.legend(['Un-Shown','Shown Up'])\n",
        "plt.show()"
      ],
      "metadata": {
        "colab": {
          "base_uri": "https://localhost:8080/",
          "height": 507
        },
        "id": "GJUNBQlwsPOt",
        "outputId": "e6011197-80b8-479e-a2b5-99f680fc96f4"
      },
      "execution_count": null,
      "outputs": [
        {
          "output_type": "display_data",
          "data": {
            "image/png": "[encoded data removed]",
            "text/plain": [
              "<Figure size 1080x576 with 1 Axes>"
            ]
          },
          "metadata": {}
        }
      ]
    },
    {
      "cell_type": "code",
      "source": [
        "\n",
        "sns.countplot(x = df['Appointment_Day_Name'],order = df['Appointment_Day_Name'].value_counts().index\n",
        "              ,hue = df['No_show'])\n",
        "plt.title(' Showing up to Appointments and Days',size = 16)"
      ],
      "metadata": {
        "colab": {
          "base_uri": "https://localhost:8080/",
          "height": 544
        },
        "id": "4iS5Xq2Lv5W7",
        "outputId": "779176bc-f695-4b72-981a-8e34ff965f39"
      },
      "execution_count": null,
      "outputs": [
        {
          "output_type": "execute_result",
          "data": {
            "text/plain": [
              "Text(0.5, 1.0, ' Showing up to Appointments and Days')"
            ]
          },
          "metadata": {},
          "execution_count": 69
        },
        {
          "output_type": "display_data",
          "data": {
            "image/png": "[encoded data removed]",
            "text/plain": [
              "<Figure size 1080x576 with 1 Axes>"
            ]
          },
          "metadata": {}
        }
      ]
    },
    {
      "cell_type": "markdown",
      "source": [
        "**Conclusions :** There are no appointments on Sunday and less appointments  is on Saturday  "
      ],
      "metadata": {
        "id": "hwfqSYaRBvIj"
      }
    },
    {
      "cell_type": "markdown",
      "metadata": {
        "id": "Vm16hYR9jpJz"
      },
      "source": [
        "<a id='conclusions'></a>\n",
        "# Conclusions ❤\n",
        " 1.  Most of patient people has been showed up to appointments\n",
        " 2.  Patients Females have been shown up to appointments more than Patients Males\n",
        " 3. The average age of male Diabetics is equal to the average age of female Diabetics\n",
        " 4. The average age of male Hipertension is equal to the average age of female Hipertension\n",
        " 5. The average age of male Handicaps is less than to the average age of female Handicaps\n",
        " 6.  Most of Alcoholism are Males\n",
        " 7. Commen Waiting Days for Patients is from 0 to 25 days\n",
        " 8. Patients who showup waits from 0 to 30 days \n",
        " 9. Patients who no-show waits from 0 to 65 days\n",
        " 10. Average of waiting days for Diabetics and Hypertensive Patients are less than Non-Diabetics and Non-Hypertensive Patients\n",
        " 11. Most of Patients Don't have Scholarship and Patients having Scholarship 76.26 % of them are been shown up to appointments\n",
        " 12. There is no relation between receiving SMS and showing up to appointments as most of shown up don't receiving SMS\n",
        " 13. The highest numbers of appointments are made by Patients in age range between (0 to 10) and (50 to 60)\n",
        " 14.  The five most neighborhoods where patients are shown up to Appointments 're : JARDIM CAMBURI , MARIA ORTIZ , RESISTÊNCIA ,JARDIM DA PENHA and SANTA MARTHA\n",
        " 15. There are no appointments on Sunday and less appointments is on Saturday\n"
      ]
    },
    {
      "cell_type": "code",
      "source": [
        ""
      ],
      "metadata": {
        "id": "lvotCYJNB-2I"
      },
      "execution_count": null,
      "outputs": []
    }
  ],
  "metadata": {
    "kernelspec": {
      "display_name": "Python [default]",
      "language": "python",
      "name": "python3"
    },
    "language_info": {
      "codemirror_mode": {
        "name": "ipython",
        "version": 3
      },
      "file_extension": ".py",
      "mimetype": "text/x-python",
      "name": "python",
      "nbconvert_exporter": "python",
      "pygments_lexer": "ipython3",
      "version": "3.5.3"
    },
    "colab": {
      "name": "Investigate a Dataset.ipynb",
      "provenance": [],
      "collapsed_sections": [],
      "toc_visible": true
    }
  },
  "nbformat": 4,
  "nbformat_minor": 0
}